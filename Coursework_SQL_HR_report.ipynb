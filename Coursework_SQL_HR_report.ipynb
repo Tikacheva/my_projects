{
 "cells": [
  {
   "cell_type": "markdown",
   "metadata": {
    "colab_type": "text",
    "id": "Fd3_VqqaHVAN"
   },
   "source": [
    "# Курсовая работа № 2\n",
    "## Отчет для hr-отдела"
   ]
  },
  {
   "cell_type": "markdown",
   "metadata": {},
   "source": [
    "## Оглавление\n",
    "1. [Динамика количества работников, увольнений и текучести кадров](#Динамика-количества-работников,-увольнений-и-текучести-кадров)\n",
    "2. [Численность работников по департаментам в 2016 г.](#Численность-работников-по-департаментам-в-2016-г.)\n",
    "3. [Размер средней ставки заработной платы по департаментам](#Размер-средней-ставки-заработной-платы-по-департаментам)\n",
    "4. [Анализ увольнений по департаментам](#Анализ-увольнений-по-департаментам)\n",
    "5. [Текучесть кадров по департаментам](#Текучесть-кадров-по-департаментам)\n",
    "6. [Причины увольнений в производственном подразделении в 2016 г.](#Причины-увольнений-в-производственном-подразделении-в-2016-г.)\n",
    "7. [Средний возраст и стаж работников компании](#Средний-возраст-и-стаж-работников-компании)\n",
    "8. [Производительность сотрудников компании](#Производительность-сотрудников-компании)\n",
    "9. [Гипотезы 1 и 2. Между средним возрастом сотрудников и производительностью, средним стажем и производительностью есть взаимосвязь](#Гипотезы-1-и-2.-Между-средним-возрастом-сотрудников-и-производительностью,-средним-стажем-и-производительностью-есть-взаимосвязь.)\n",
    "10. [Гипотеза 3. Производительность работника зависит от менеджера, под началом которого он работает](#Гипотеза-3.-Производительность-работника-зависит-от-менеджера,-под-началом-которого-он-работает)\n",
    "11. [Гипотеза 4. Подбор сотрудников с определенных источников рабочей силы более эффективен](#Гипотеза-4.-Подбор-сотрудников-с-определенных-источников-рабочей-силы-более-эффективен)"
   ]
  },
  {
   "cell_type": "code",
   "execution_count": 348,
   "metadata": {},
   "outputs": [],
   "source": [
    "import matplotlib.pyplot as plt\n",
    "import numpy as np\n",
    "import seaborn as sns\n",
    "from datetime import datetime"
   ]
  },
  {
   "cell_type": "code",
   "execution_count": 415,
   "metadata": {
    "colab": {},
    "colab_type": "code",
    "id": "7b1vJYVrHVAR"
   },
   "outputs": [],
   "source": [
    "import psycopg2\n",
    "import pandas as pd\n",
    "pg_connection = {\n",
    "    \"host\":\"dsstudents.skillbox.ru\",\n",
    "    \"port\":\"5432\",\n",
    "    \"dbname\":\"human_resources\",\n",
    "    \"user\":\"readonly\",\n",
    "    \"password\":\"6hajV34RTQfmxhS\"    \n",
    "}\n",
    "\n",
    "conn = psycopg2.connect(**pg_connection)\n",
    "cursor = conn.cursor()\n",
    "\n",
    "#загрузим таблицу в датафрейм\n",
    "\n",
    "df_hr_dataset = pd.read_sql_query(\"SELECT * FROM hr_dataset;\", conn)\n",
    "\n",
    "conn.commit()\n"
   ]
  },
  {
   "cell_type": "code",
   "execution_count": 362,
   "metadata": {},
   "outputs": [
    {
     "data": {
      "text/html": [
       "<div>\n",
       "<style scoped>\n",
       "    .dataframe tbody tr th:only-of-type {\n",
       "        vertical-align: middle;\n",
       "    }\n",
       "\n",
       "    .dataframe tbody tr th {\n",
       "        vertical-align: top;\n",
       "    }\n",
       "\n",
       "    .dataframe thead th {\n",
       "        text-align: right;\n",
       "    }\n",
       "</style>\n",
       "<table border=\"1\" class=\"dataframe\">\n",
       "  <thead>\n",
       "    <tr style=\"text-align: right;\">\n",
       "      <th></th>\n",
       "      <th>id</th>\n",
       "      <th>Employee Name</th>\n",
       "      <th>Employee Number</th>\n",
       "      <th>marriedid</th>\n",
       "      <th>maritalstatusid</th>\n",
       "      <th>genderid</th>\n",
       "      <th>empstatus_id</th>\n",
       "      <th>deptid</th>\n",
       "      <th>perf_scoreid</th>\n",
       "      <th>age</th>\n",
       "      <th>...</th>\n",
       "      <th>Date of Hire</th>\n",
       "      <th>Days Employed</th>\n",
       "      <th>Date of Termination</th>\n",
       "      <th>Reason For Term</th>\n",
       "      <th>Employment Status</th>\n",
       "      <th>department</th>\n",
       "      <th>position</th>\n",
       "      <th>Manager Name</th>\n",
       "      <th>Employee Source</th>\n",
       "      <th>Performance Score</th>\n",
       "    </tr>\n",
       "  </thead>\n",
       "  <tbody>\n",
       "    <tr>\n",
       "      <th>0</th>\n",
       "      <td>1</td>\n",
       "      <td>Brown, Mia</td>\n",
       "      <td>1103024456</td>\n",
       "      <td>1</td>\n",
       "      <td>1</td>\n",
       "      <td>0</td>\n",
       "      <td>1</td>\n",
       "      <td>1</td>\n",
       "      <td>3</td>\n",
       "      <td>30</td>\n",
       "      <td>...</td>\n",
       "      <td>2008-10-27</td>\n",
       "      <td>3317</td>\n",
       "      <td>None</td>\n",
       "      <td>N/A - still employed</td>\n",
       "      <td>Active</td>\n",
       "      <td>Admin Offices</td>\n",
       "      <td>Accountant I</td>\n",
       "      <td>Brandon R. LeBlanc</td>\n",
       "      <td>Diversity Job Fair</td>\n",
       "      <td>Fully Meets</td>\n",
       "    </tr>\n",
       "    <tr>\n",
       "      <th>1</th>\n",
       "      <td>2</td>\n",
       "      <td>LaRotonda, William</td>\n",
       "      <td>1106026572</td>\n",
       "      <td>0</td>\n",
       "      <td>2</td>\n",
       "      <td>1</td>\n",
       "      <td>1</td>\n",
       "      <td>1</td>\n",
       "      <td>3</td>\n",
       "      <td>34</td>\n",
       "      <td>...</td>\n",
       "      <td>2014-01-06</td>\n",
       "      <td>1420</td>\n",
       "      <td>None</td>\n",
       "      <td>N/A - still employed</td>\n",
       "      <td>Active</td>\n",
       "      <td>Admin Offices</td>\n",
       "      <td>Accountant I</td>\n",
       "      <td>Brandon R. LeBlanc</td>\n",
       "      <td>Website Banner Ads</td>\n",
       "      <td>Fully Meets</td>\n",
       "    </tr>\n",
       "    <tr>\n",
       "      <th>2</th>\n",
       "      <td>3</td>\n",
       "      <td>Steans, Tyrone</td>\n",
       "      <td>1302053333</td>\n",
       "      <td>0</td>\n",
       "      <td>0</td>\n",
       "      <td>1</td>\n",
       "      <td>1</td>\n",
       "      <td>1</td>\n",
       "      <td>3</td>\n",
       "      <td>31</td>\n",
       "      <td>...</td>\n",
       "      <td>2014-09-29</td>\n",
       "      <td>1154</td>\n",
       "      <td>None</td>\n",
       "      <td>N/A - still employed</td>\n",
       "      <td>Active</td>\n",
       "      <td>Admin Offices</td>\n",
       "      <td>Accountant I</td>\n",
       "      <td>Brandon R. LeBlanc</td>\n",
       "      <td>Internet Search</td>\n",
       "      <td>Fully Meets</td>\n",
       "    </tr>\n",
       "    <tr>\n",
       "      <th>3</th>\n",
       "      <td>4</td>\n",
       "      <td>Howard, Estelle</td>\n",
       "      <td>1211050782</td>\n",
       "      <td>1</td>\n",
       "      <td>1</td>\n",
       "      <td>0</td>\n",
       "      <td>1</td>\n",
       "      <td>1</td>\n",
       "      <td>9</td>\n",
       "      <td>32</td>\n",
       "      <td>...</td>\n",
       "      <td>2015-02-16</td>\n",
       "      <td>58</td>\n",
       "      <td>2015-04-15</td>\n",
       "      <td>N/A - still employed</td>\n",
       "      <td>Active</td>\n",
       "      <td>Admin Offices</td>\n",
       "      <td>Administrative Assistant</td>\n",
       "      <td>Brandon R. LeBlanc</td>\n",
       "      <td>Pay Per Click - Google</td>\n",
       "      <td>N/A- too early to review</td>\n",
       "    </tr>\n",
       "    <tr>\n",
       "      <th>4</th>\n",
       "      <td>5</td>\n",
       "      <td>Singh, Nan</td>\n",
       "      <td>1307059817</td>\n",
       "      <td>0</td>\n",
       "      <td>0</td>\n",
       "      <td>0</td>\n",
       "      <td>1</td>\n",
       "      <td>1</td>\n",
       "      <td>9</td>\n",
       "      <td>30</td>\n",
       "      <td>...</td>\n",
       "      <td>2015-05-01</td>\n",
       "      <td>940</td>\n",
       "      <td>None</td>\n",
       "      <td>N/A - still employed</td>\n",
       "      <td>Active</td>\n",
       "      <td>Admin Offices</td>\n",
       "      <td>Administrative Assistant</td>\n",
       "      <td>Brandon R. LeBlanc</td>\n",
       "      <td>Website Banner Ads</td>\n",
       "      <td>N/A- too early to review</td>\n",
       "    </tr>\n",
       "  </tbody>\n",
       "</table>\n",
       "<p>5 rows × 29 columns</p>\n",
       "</div>"
      ],
      "text/plain": [
       "   id         Employee Name  Employee Number  marriedid  maritalstatusid  \\\n",
       "0   1            Brown, Mia       1103024456          1                1   \n",
       "1   2  LaRotonda, William         1106026572          0                2   \n",
       "2   3      Steans, Tyrone         1302053333          0                0   \n",
       "3   4       Howard, Estelle       1211050782          1                1   \n",
       "4   5           Singh, Nan        1307059817          0                0   \n",
       "\n",
       "   genderid  empstatus_id  deptid  perf_scoreid  age  ...  Date of Hire  \\\n",
       "0         0             1       1             3   30  ...    2008-10-27   \n",
       "1         1             1       1             3   34  ...    2014-01-06   \n",
       "2         1             1       1             3   31  ...    2014-09-29   \n",
       "3         0             1       1             9   32  ...    2015-02-16   \n",
       "4         0             1       1             9   30  ...    2015-05-01   \n",
       "\n",
       "  Days Employed  Date of Termination       Reason For Term Employment Status  \\\n",
       "0          3317                 None  N/A - still employed            Active   \n",
       "1          1420                 None  N/A - still employed            Active   \n",
       "2          1154                 None  N/A - still employed            Active   \n",
       "3            58           2015-04-15  N/A - still employed            Active   \n",
       "4           940                 None  N/A - still employed            Active   \n",
       "\n",
       "      department                  position        Manager Name  \\\n",
       "0  Admin Offices              Accountant I  Brandon R. LeBlanc   \n",
       "1  Admin Offices              Accountant I  Brandon R. LeBlanc   \n",
       "2  Admin Offices              Accountant I  Brandon R. LeBlanc   \n",
       "3  Admin Offices  Administrative Assistant  Brandon R. LeBlanc   \n",
       "4  Admin Offices  Administrative Assistant  Brandon R. LeBlanc   \n",
       "\n",
       "          Employee Source         Performance Score  \n",
       "0      Diversity Job Fair               Fully Meets  \n",
       "1      Website Banner Ads               Fully Meets  \n",
       "2         Internet Search               Fully Meets  \n",
       "3  Pay Per Click - Google  N/A- too early to review  \n",
       "4      Website Banner Ads  N/A- too early to review  \n",
       "\n",
       "[5 rows x 29 columns]"
      ]
     },
     "execution_count": 362,
     "metadata": {},
     "output_type": "execute_result"
    }
   ],
   "source": [
    "df_hr_dataset.head()"
   ]
  },
  {
   "cell_type": "code",
   "execution_count": 54,
   "metadata": {},
   "outputs": [
    {
     "data": {
      "text/html": [
       "<div>\n",
       "<style scoped>\n",
       "    .dataframe tbody tr th:only-of-type {\n",
       "        vertical-align: middle;\n",
       "    }\n",
       "\n",
       "    .dataframe tbody tr th {\n",
       "        vertical-align: top;\n",
       "    }\n",
       "\n",
       "    .dataframe thead th {\n",
       "        text-align: right;\n",
       "    }\n",
       "</style>\n",
       "<table border=\"1\" class=\"dataframe\">\n",
       "  <thead>\n",
       "    <tr style=\"text-align: right;\">\n",
       "      <th></th>\n",
       "      <th>id</th>\n",
       "      <th>Employee Name</th>\n",
       "      <th>Race Desc</th>\n",
       "      <th>Date of Hire</th>\n",
       "      <th>TermDate</th>\n",
       "      <th>Reason for Term</th>\n",
       "      <th>Employment Status</th>\n",
       "      <th>Department</th>\n",
       "      <th>Position</th>\n",
       "      <th>Pay</th>\n",
       "      <th>Manager Name</th>\n",
       "      <th>Performance Score</th>\n",
       "      <th>Abutments/Hour Wk 1</th>\n",
       "      <th>Abutments/Hour Wk 2</th>\n",
       "      <th>Daily Error Rate</th>\n",
       "      <th>90-day Complaints</th>\n",
       "    </tr>\n",
       "  </thead>\n",
       "  <tbody>\n",
       "    <tr>\n",
       "      <th>0</th>\n",
       "      <td>1</td>\n",
       "      <td>Albert, Michael</td>\n",
       "      <td>White</td>\n",
       "      <td>2011-08-01</td>\n",
       "      <td>None</td>\n",
       "      <td>N/A - still employed</td>\n",
       "      <td>Active</td>\n",
       "      <td>Production</td>\n",
       "      <td>Production Manager</td>\n",
       "      <td>$54.50</td>\n",
       "      <td>Elisa Bramante</td>\n",
       "      <td>Fully Meets</td>\n",
       "      <td>0</td>\n",
       "      <td>0</td>\n",
       "      <td>0</td>\n",
       "      <td>0</td>\n",
       "    </tr>\n",
       "    <tr>\n",
       "      <th>1</th>\n",
       "      <td>2</td>\n",
       "      <td>Bozzi, Charles</td>\n",
       "      <td>Asian</td>\n",
       "      <td>2013-09-30</td>\n",
       "      <td>2014-08-07</td>\n",
       "      <td>retiring</td>\n",
       "      <td>Voluntarily Terminated</td>\n",
       "      <td>Production</td>\n",
       "      <td>Production Manager</td>\n",
       "      <td>$50.50</td>\n",
       "      <td>Elisa Bramante</td>\n",
       "      <td>Fully Meets</td>\n",
       "      <td>0</td>\n",
       "      <td>0</td>\n",
       "      <td>0</td>\n",
       "      <td>0</td>\n",
       "    </tr>\n",
       "    <tr>\n",
       "      <th>2</th>\n",
       "      <td>3</td>\n",
       "      <td>Butler, Webster  L</td>\n",
       "      <td>White</td>\n",
       "      <td>2016-01-28</td>\n",
       "      <td>None</td>\n",
       "      <td>N/A - still employed</td>\n",
       "      <td>Active</td>\n",
       "      <td>Production</td>\n",
       "      <td>Production Manager</td>\n",
       "      <td>$55.00</td>\n",
       "      <td>Elisa Bramante</td>\n",
       "      <td>Exceeds</td>\n",
       "      <td>0</td>\n",
       "      <td>0</td>\n",
       "      <td>0</td>\n",
       "      <td>0</td>\n",
       "    </tr>\n",
       "    <tr>\n",
       "      <th>3</th>\n",
       "      <td>4</td>\n",
       "      <td>Dunn, Amy</td>\n",
       "      <td>White</td>\n",
       "      <td>2014-09-18</td>\n",
       "      <td>None</td>\n",
       "      <td>N/A - still employed</td>\n",
       "      <td>Active</td>\n",
       "      <td>Production</td>\n",
       "      <td>Production Manager</td>\n",
       "      <td>$51.00</td>\n",
       "      <td>Elisa Bramante</td>\n",
       "      <td>Fully Meets</td>\n",
       "      <td>0</td>\n",
       "      <td>0</td>\n",
       "      <td>0</td>\n",
       "      <td>0</td>\n",
       "    </tr>\n",
       "    <tr>\n",
       "      <th>4</th>\n",
       "      <td>5</td>\n",
       "      <td>Gray, Elijiah</td>\n",
       "      <td>White</td>\n",
       "      <td>2015-06-02</td>\n",
       "      <td>None</td>\n",
       "      <td>N/A - still employed</td>\n",
       "      <td>Active</td>\n",
       "      <td>Production</td>\n",
       "      <td>Production Manager</td>\n",
       "      <td>$54.00</td>\n",
       "      <td>Elisa Bramante</td>\n",
       "      <td>Fully Meets</td>\n",
       "      <td>0</td>\n",
       "      <td>0</td>\n",
       "      <td>0</td>\n",
       "      <td>0</td>\n",
       "    </tr>\n",
       "  </tbody>\n",
       "</table>\n",
       "</div>"
      ],
      "text/plain": [
       "   id       Employee Name Race Desc Date of Hire    TermDate  \\\n",
       "0   1   Albert, Michael       White   2011-08-01        None   \n",
       "1   2      Bozzi, Charles     Asian   2013-09-30  2014-08-07   \n",
       "2   3  Butler, Webster  L     White   2016-01-28        None   \n",
       "3   4         Dunn, Amy       White   2014-09-18        None   \n",
       "4   5     Gray, Elijiah       White   2015-06-02        None   \n",
       "\n",
       "        Reason for Term       Employment Status         Department  \\\n",
       "0  N/A - still employed                  Active  Production          \n",
       "1              retiring  Voluntarily Terminated  Production          \n",
       "2  N/A - still employed                  Active  Production          \n",
       "3  N/A - still employed                  Active  Production          \n",
       "4  N/A - still employed                  Active  Production          \n",
       "\n",
       "             Position     Pay    Manager Name Performance Score  \\\n",
       "0  Production Manager  $54.50  Elisa Bramante       Fully Meets   \n",
       "1  Production Manager  $50.50  Elisa Bramante       Fully Meets   \n",
       "2  Production Manager  $55.00  Elisa Bramante           Exceeds   \n",
       "3  Production Manager  $51.00  Elisa Bramante       Fully Meets   \n",
       "4  Production Manager  $54.00  Elisa Bramante       Fully Meets   \n",
       "\n",
       "   Abutments/Hour Wk 1  Abutments/Hour Wk 2  Daily Error Rate  \\\n",
       "0                    0                    0                 0   \n",
       "1                    0                    0                 0   \n",
       "2                    0                    0                 0   \n",
       "3                    0                    0                 0   \n",
       "4                    0                    0                 0   \n",
       "\n",
       "   90-day Complaints  \n",
       "0                  0  \n",
       "1                  0  \n",
       "2                  0  \n",
       "3                  0  \n",
       "4                  0  "
      ]
     },
     "execution_count": 54,
     "metadata": {},
     "output_type": "execute_result"
    }
   ],
   "source": [
    "#загрузим вторую таблицу в датафрейм\n",
    "df_production_staff = pd.read_sql_query(\"SELECT * FROM production_staff LIMIT 5;\", conn)\n",
    "df_production_staff.head()"
   ]
  },
  {
   "cell_type": "code",
   "execution_count": 53,
   "metadata": {},
   "outputs": [
    {
     "data": {
      "text/html": [
       "<div>\n",
       "<style scoped>\n",
       "    .dataframe tbody tr th:only-of-type {\n",
       "        vertical-align: middle;\n",
       "    }\n",
       "\n",
       "    .dataframe tbody tr th {\n",
       "        vertical-align: top;\n",
       "    }\n",
       "\n",
       "    .dataframe thead th {\n",
       "        text-align: right;\n",
       "    }\n",
       "</style>\n",
       "<table border=\"1\" class=\"dataframe\">\n",
       "  <thead>\n",
       "    <tr style=\"text-align: right;\">\n",
       "      <th></th>\n",
       "      <th>id</th>\n",
       "      <th>Position</th>\n",
       "      <th>Salary Min</th>\n",
       "      <th>Salary Mid</th>\n",
       "      <th>Salary Max</th>\n",
       "      <th>Hourly Min</th>\n",
       "      <th>Hourly Mid</th>\n",
       "      <th>Hourly Max</th>\n",
       "    </tr>\n",
       "  </thead>\n",
       "  <tbody>\n",
       "    <tr>\n",
       "      <th>0</th>\n",
       "      <td>1</td>\n",
       "      <td>Administrative Assistant</td>\n",
       "      <td>30000</td>\n",
       "      <td>40000</td>\n",
       "      <td>50000</td>\n",
       "      <td>14.42</td>\n",
       "      <td>19.23</td>\n",
       "      <td>24.04</td>\n",
       "    </tr>\n",
       "    <tr>\n",
       "      <th>1</th>\n",
       "      <td>2</td>\n",
       "      <td>Sr. Administrative Assistant</td>\n",
       "      <td>35000</td>\n",
       "      <td>45000</td>\n",
       "      <td>55000</td>\n",
       "      <td>16.83</td>\n",
       "      <td>21.63</td>\n",
       "      <td>26.44</td>\n",
       "    </tr>\n",
       "    <tr>\n",
       "      <th>2</th>\n",
       "      <td>3</td>\n",
       "      <td>Accountant I</td>\n",
       "      <td>42274</td>\n",
       "      <td>51425</td>\n",
       "      <td>62299</td>\n",
       "      <td>20.32</td>\n",
       "      <td>24.72</td>\n",
       "      <td>29.95</td>\n",
       "    </tr>\n",
       "    <tr>\n",
       "      <th>3</th>\n",
       "      <td>4</td>\n",
       "      <td>Accountant II</td>\n",
       "      <td>50490</td>\n",
       "      <td>62158</td>\n",
       "      <td>74658</td>\n",
       "      <td>24.27</td>\n",
       "      <td>29.88</td>\n",
       "      <td>35.89</td>\n",
       "    </tr>\n",
       "    <tr>\n",
       "      <th>4</th>\n",
       "      <td>5</td>\n",
       "      <td>Sr. Accountant</td>\n",
       "      <td>63264</td>\n",
       "      <td>76988</td>\n",
       "      <td>92454</td>\n",
       "      <td>30.42</td>\n",
       "      <td>37.01</td>\n",
       "      <td>44.45</td>\n",
       "    </tr>\n",
       "  </tbody>\n",
       "</table>\n",
       "</div>"
      ],
      "text/plain": [
       "   id                      Position  Salary Min  Salary Mid  Salary Max  \\\n",
       "0   1      Administrative Assistant       30000       40000       50000   \n",
       "1   2  Sr. Administrative Assistant       35000       45000       55000   \n",
       "2   3                  Accountant I       42274       51425       62299   \n",
       "3   4                 Accountant II       50490       62158       74658   \n",
       "4   5                Sr. Accountant       63264       76988       92454   \n",
       "\n",
       "   Hourly Min  Hourly Mid  Hourly Max  \n",
       "0       14.42       19.23       24.04  \n",
       "1       16.83       21.63       26.44  \n",
       "2       20.32       24.72       29.95  \n",
       "3       24.27       29.88       35.89  \n",
       "4       30.42       37.01       44.45  "
      ]
     },
     "execution_count": 53,
     "metadata": {},
     "output_type": "execute_result"
    }
   ],
   "source": [
    "#загрузим третью таблицу в датафрейм\n",
    "df_salary_grid = pd.read_sql_query(\"SELECT * FROM salary_grid LIMIT 5;\", conn)\n",
    "df_salary_grid"
   ]
  },
  {
   "cell_type": "markdown",
   "metadata": {},
   "source": [
    "### Динамика количества работников, увольнений и текучести кадров"
   ]
  },
  {
   "cell_type": "code",
   "execution_count": 67,
   "metadata": {},
   "outputs": [
    {
     "name": "stdout",
     "output_type": "stream",
     "text": [
      "(9, 2010.0)\n",
      "(84, 2011.0)\n",
      "(44, 2012.0)\n",
      "(44, 2013.0)\n",
      "(60, 2014.0)\n",
      "(36, 2015.0)\n",
      "(14, 2016.0)\n"
     ]
    }
   ],
   "source": [
    "#Создадим sql запрос и распечатаем строки таблицы (посчитаем количество нанятых сотрудников за период 2010-2016 гг.)\n",
    "sql_str = \"\"\"\n",
    "        SELECT COUNT(*) AS count_hire,\n",
    "        DATE_PART('year', \"Date of Hire\") AS year\n",
    "        FROM hr_dataset\n",
    "        WHERE DATE_PART('year', \"Date of Hire\") > 2009 \n",
    "        AND DATE_PART('year', \"Date of Hire\") < 2017\n",
    "        GROUP BY year\n",
    "        ORDER BY year;\n",
    "\"\"\"\n",
    "cursor.execute(sql_str)\n",
    "\n",
    "for row in cursor:\n",
    "    print(row)"
   ]
  },
  {
   "cell_type": "code",
   "execution_count": 68,
   "metadata": {},
   "outputs": [],
   "source": [
    "#сохраним эти данные в датафрейм\n",
    "df_numb_of_hire = pd.read_sql_query(sql_str, conn)"
   ]
  },
  {
   "cell_type": "code",
   "execution_count": 69,
   "metadata": {},
   "outputs": [],
   "source": [
    "# Далее создаем 2 таблицы, объединяем для расчета текучести по годам\n",
    "sql_str = \"\"\"\n",
    "        DROP TABLE numb_of_hire;\n",
    "\"\"\"\n",
    "cursor.execute(sql_str)\n",
    "\n",
    "conn.commit()"
   ]
  },
  {
   "cell_type": "code",
   "execution_count": 70,
   "metadata": {},
   "outputs": [],
   "source": [
    "# создаю таблицу, чтобы заполнить количеством принятых работников по годам\n",
    "sql_str = \"\"\"\n",
    "        CREATE TABLE numb_of_hire(\n",
    "        year_of_hire Int,\n",
    "        numb_employees Int);\n",
    "\"\"\"\n",
    "cursor.execute(sql_str)\n",
    "\n",
    "conn.commit()"
   ]
  },
  {
   "cell_type": "code",
   "execution_count": 71,
   "metadata": {},
   "outputs": [],
   "source": [
    "# вставляю в таблицу данные - количество принятых по годам нарастающим итогом\n",
    "sql_str = \"\"\"\n",
    "        INSERT INTO numb_of_hire(year_of_hire, numb_employees)\n",
    "        SELECT DISTINCT year AS year_of_hire,\n",
    "        SUM(new_worker) OVER (ORDER BY year RANGE UNBOUNDED PRECEDING) AS numb_employees\n",
    "        FROM hr_dataset\n",
    "        ,LATERAL(SELECT DATE_PART('year', \"Date of Hire\"),\n",
    "        COUNT(*) OVER (PARTITION BY DATE_PART('year', \"Date of Hire\"))) AS s1(year, new_worker)\n",
    "        ORDER BY year_of_hire;\n",
    "\"\"\"\n",
    "\n",
    "cursor.execute(sql_str)"
   ]
  },
  {
   "cell_type": "code",
   "execution_count": 72,
   "metadata": {},
   "outputs": [],
   "source": [
    "# удаляем таблицу, если она уже есть\n",
    "sql_str = \"\"\"\n",
    "        DROP TABLE numb_of_terms;\n",
    "\"\"\"\n",
    "cursor.execute(sql_str)\n",
    "\n",
    "conn.commit()"
   ]
  },
  {
   "cell_type": "code",
   "execution_count": 73,
   "metadata": {},
   "outputs": [],
   "source": [
    "# Создаем таблицу с количеством уволившихся по годам\n",
    "sql_str = \"\"\"\n",
    "        CREATE TABLE numb_of_terms(\n",
    "        year_of_term Int,\n",
    "        numb_terms Int,\n",
    "        sum_numb_terms Int);\n",
    "\"\"\"\n",
    "cursor.execute(sql_str)\n",
    "\n",
    "conn.commit()"
   ]
  },
  {
   "cell_type": "code",
   "execution_count": 74,
   "metadata": {},
   "outputs": [],
   "source": [
    "# Заполняем таблицу количеством уволенных работников по годам\n",
    "sql_str = \"\"\"\n",
    "        INSERT INTO numb_of_terms\n",
    "        SELECT DISTINCT CAST(year AS FLOAT) AS year_of_term,\n",
    "        COUNT(terms) OVER (PARTITION BY DATE_PART('year', \"Date of Termination\")) AS numb_terms,\n",
    "        SUM(terms) OVER (ORDER BY year RANGE UNBOUNDED PRECEDING) AS sum_numb_terms \n",
    "        FROM hr_dataset\n",
    "        ,LATERAL(SELECT DATE_PART('year', hr_dataset.\"Date of Termination\"),\n",
    "        COUNT(*) OVER (PARTITION BY DATE_PART('year', hr_dataset.\"Date of Termination\"))) AS s1(year, terms)\n",
    "        WHERE hr_dataset.\"Date of Termination\" IS NOT NULL\n",
    "        ORDER BY year_of_term;\n",
    "\"\"\"\n",
    "cursor.execute(sql_str)\n",
    "\n",
    "conn.commit()"
   ]
  },
  {
   "cell_type": "code",
   "execution_count": 75,
   "metadata": {},
   "outputs": [
    {
     "name": "stdout",
     "output_type": "stream",
     "text": [
      "(2010, 20, 2, Decimal('10.0000000000000000'))\n",
      "(2011, 90, 14, Decimal('15.5555555555555556'))\n",
      "(2012, 117, 17, Decimal('14.5299145299145299'))\n",
      "(2013, 146, 15, Decimal('10.2739726027397260'))\n",
      "(2014, 192, 14, Decimal('7.2916666666666667'))\n",
      "(2015, 201, 27, Decimal('13.4328358208955224'))\n",
      "(2016, 201, 14, Decimal('6.9651741293532338'))\n"
     ]
    }
   ],
   "source": [
    "# Объединяем две таблицы и рассчитываем кол-во работников компании по годам, а также текучесть - кол-во уволенных, на кол-во\n",
    "# работников по годам\n",
    "sql_str = \"\"\"\n",
    "        SELECT numb_of_hire.year_of_hire AS year,\n",
    "        (numb_of_hire.numb_employees - numb_of_terms.sum_numb_terms) AS active_employees,\n",
    "        numb_of_terms.numb_terms AS numb_of_terms,\n",
    "        numb_of_terms.numb_terms * 100.0 / (numb_of_hire.numb_employees - numb_of_terms.sum_numb_terms) AS turnover\n",
    "        FROM numb_of_hire\n",
    "        JOIN numb_of_terms ON numb_of_hire.year_of_hire = numb_of_terms.year_of_term;\n",
    "\"\"\"\n",
    "cursor.execute(sql_str)\n",
    "\n",
    "for row in cursor:\n",
    "    print(row)"
   ]
  },
  {
   "cell_type": "code",
   "execution_count": 76,
   "metadata": {},
   "outputs": [
    {
     "data": {
      "text/html": [
       "<div>\n",
       "<style scoped>\n",
       "    .dataframe tbody tr th:only-of-type {\n",
       "        vertical-align: middle;\n",
       "    }\n",
       "\n",
       "    .dataframe tbody tr th {\n",
       "        vertical-align: top;\n",
       "    }\n",
       "\n",
       "    .dataframe thead th {\n",
       "        text-align: right;\n",
       "    }\n",
       "</style>\n",
       "<table border=\"1\" class=\"dataframe\">\n",
       "  <thead>\n",
       "    <tr style=\"text-align: right;\">\n",
       "      <th></th>\n",
       "      <th>year</th>\n",
       "      <th>active_employees</th>\n",
       "      <th>numb_of_terms</th>\n",
       "      <th>turnover</th>\n",
       "    </tr>\n",
       "  </thead>\n",
       "  <tbody>\n",
       "    <tr>\n",
       "      <th>0</th>\n",
       "      <td>2010</td>\n",
       "      <td>20</td>\n",
       "      <td>2</td>\n",
       "      <td>10.0</td>\n",
       "    </tr>\n",
       "    <tr>\n",
       "      <th>1</th>\n",
       "      <td>2011</td>\n",
       "      <td>90</td>\n",
       "      <td>14</td>\n",
       "      <td>15.6</td>\n",
       "    </tr>\n",
       "    <tr>\n",
       "      <th>2</th>\n",
       "      <td>2012</td>\n",
       "      <td>117</td>\n",
       "      <td>17</td>\n",
       "      <td>14.5</td>\n",
       "    </tr>\n",
       "    <tr>\n",
       "      <th>3</th>\n",
       "      <td>2013</td>\n",
       "      <td>146</td>\n",
       "      <td>15</td>\n",
       "      <td>10.3</td>\n",
       "    </tr>\n",
       "    <tr>\n",
       "      <th>4</th>\n",
       "      <td>2014</td>\n",
       "      <td>192</td>\n",
       "      <td>14</td>\n",
       "      <td>7.3</td>\n",
       "    </tr>\n",
       "    <tr>\n",
       "      <th>5</th>\n",
       "      <td>2015</td>\n",
       "      <td>201</td>\n",
       "      <td>27</td>\n",
       "      <td>13.4</td>\n",
       "    </tr>\n",
       "    <tr>\n",
       "      <th>6</th>\n",
       "      <td>2016</td>\n",
       "      <td>201</td>\n",
       "      <td>14</td>\n",
       "      <td>7.0</td>\n",
       "    </tr>\n",
       "  </tbody>\n",
       "</table>\n",
       "</div>"
      ],
      "text/plain": [
       "   year  active_employees  numb_of_terms  turnover\n",
       "0  2010                20              2      10.0\n",
       "1  2011                90             14      15.6\n",
       "2  2012               117             17      14.5\n",
       "3  2013               146             15      10.3\n",
       "4  2014               192             14       7.3\n",
       "5  2015               201             27      13.4\n",
       "6  2016               201             14       7.0"
      ]
     },
     "execution_count": 76,
     "metadata": {},
     "output_type": "execute_result"
    }
   ],
   "source": [
    "#сохраняем таблицу в датафрейм\n",
    "df_numb_of_employee_by_year = pd.read_sql_query(sql_str, conn)\n",
    "df_numb_of_employee_by_year.turnover = df_numb_of_employee_by_year.turnover.apply(lambda x: round(x, 1))\n",
    "df_numb_of_employee_by_year"
   ]
  },
  {
   "cell_type": "code",
   "execution_count": 77,
   "metadata": {},
   "outputs": [
    {
     "data": {
      "text/plain": [
       "Text(0.5, 1.0, 'Динамика текучести кадров\\n(2010-2016 гг.)')"
      ]
     },
     "execution_count": 77,
     "metadata": {},
     "output_type": "execute_result"
    },
    {
     "data": {
      "image/png": "[encoded data removed]",
      "text/plain": [
       "<Figure size 1152x216 with 4 Axes>"
      ]
     },
     "metadata": {
      "needs_background": "light"
     },
     "output_type": "display_data"
    }
   ],
   "source": [
    "# Распечатаем четыре графика рядом:\n",
    "fig, (subplot_1, subplot_2, subplot_3, subplot_4) = plt.subplots(\n",
    "    nrows=1, ncols=4,\n",
    "    figsize=(16, 3)\n",
    ")\n",
    "\n",
    "x_ticks = df_numb_of_employee_by_year.year.values\n",
    "y_ticks_1 = df_numb_of_employee_by_year.active_employees.values\n",
    "subplot_1.plot(x_ticks, y_ticks_1)\n",
    "subplot_1.set_title('Динамика количества работников \\n(2010-2016 гг.)', fontsize=10)\n",
    "\n",
    "x_ticks_2 = df_numb_of_hire.year.values\n",
    "y_ticks_2 = df_numb_of_hire.count_hire.values\n",
    "subplot_2.plot(x_ticks_2, y_ticks_2)\n",
    "subplot_2.set_title('Динамика количества нанятых работников \\n(2010-2016 гг.)', fontsize=10)\n",
    "\n",
    "y_ticks_3 = df_numb_of_employee_by_year.numb_of_terms.values\n",
    "subplot_3.plot(x_ticks, y_ticks_3)\n",
    "subplot_3.set_title('Динамика количества увольнений \\n(2010-2016 гг.)', fontsize=10)\n",
    "\n",
    "y_ticks_4 = df_numb_of_employee_by_year.turnover.values\n",
    "subplot_4.plot(x_ticks, y_ticks_4)\n",
    "subplot_4.set_title('Динамика текучести кадров\\n(2010-2016 гг.)', fontsize=10)"
   ]
  },
  {
   "cell_type": "markdown",
   "metadata": {},
   "source": [
    "Штат работников компании активно рос вплоть до 2014 года, после чего количество сотрудников фирмы стабилизировалось. При этом, мы видим, что **расширение штата привело к определенным проблемам - количество увольнений постоянно возрастало**, а в 2015 году было зафиксировано рекордное число данного показателя - 27 увольнений. Тем не менее, если мы посмотрим на график текучести персонала, то тренд явно отрицательный, **текучесть кадров снижается**, что является положительным явлением для компании. **В 2016 году текучесть кадров составила 7%, что соответствует ее естественному уровню.**  "
   ]
  },
  {
   "cell_type": "markdown",
   "metadata": {},
   "source": [
    "### Численность работников по департаментам в 2016 г."
   ]
  },
  {
   "cell_type": "code",
   "execution_count": 82,
   "metadata": {},
   "outputs": [
    {
     "name": "stdout",
     "output_type": "stream",
     "text": [
      "('Executive Office', 1, Decimal('0.5'))\n",
      "('Software Engineering', 7, Decimal('3.8'))\n",
      "('Admin Offices', 8, Decimal('4.4'))\n",
      "('Sales', 26, Decimal('14.2'))\n",
      "('IT/IS', 35, Decimal('19.1'))\n",
      "('Production       ', 106, Decimal('57.9'))\n"
     ]
    }
   ],
   "source": [
    "#Создадим sql запрос и распечатаем строки таблицы (число работников в 2016 г. - со статусом 'Active', \n",
    "# долю работников департамента в общем штате компании - округлим до десятых)\n",
    "sql_str = \"\"\"\n",
    "        SELECT department, \n",
    "        COUNT(*) AS count,\n",
    "        ROUND(CAST(COUNT(*) * 100. / \n",
    "        (SELECT COUNT(*) FROM hr_dataset WHERE \"Employment Status\" = 'Active') as numeric), 1) AS share\n",
    "        FROM hr_dataset\n",
    "        WHERE \"Employment Status\" = 'Active'\n",
    "        GROUP BY department\n",
    "        ORDER BY count;\n",
    "\"\"\"\n",
    "cursor.execute(sql_str)\n",
    "\n",
    "for row in cursor:\n",
    "    print(row)"
   ]
  },
  {
   "cell_type": "code",
   "execution_count": 83,
   "metadata": {},
   "outputs": [
    {
     "data": {
      "text/plain": [
       "Text(0.5, 1.0, 'Доля отделов в общей \\n численности сотрудников компании')"
      ]
     },
     "execution_count": 83,
     "metadata": {},
     "output_type": "execute_result"
    },
    {
     "data": {
      "image/png": "[encoded data removed]",
      "text/plain": [
       "<Figure size 720x288 with 2 Axes>"
      ]
     },
     "metadata": {
      "needs_background": "light"
     },
     "output_type": "display_data"
    }
   ],
   "source": [
    "#переведем sql-запрос в датафрейм для визуализации\n",
    "df_namber_of_employee = pd.read_sql_query(sql_str, conn)\n",
    "\n",
    "#уберем пробелы в названии производственного департамента\n",
    "df_namber_of_employee.iloc[5, 0] = df_namber_of_employee.iloc[5, 0].replace(' ', '')\n",
    "\n",
    "#нарисуем два графика численности работников по департаментам и их доли в %\n",
    "\n",
    "fig, (subplot_1, subplot_2) = plt.subplots(\n",
    "    nrows=1, ncols=2,\n",
    "    figsize=(10, 4)\n",
    ")\n",
    "\n",
    "subplot_1.barh(df_namber_of_employee['department'], df_namber_of_employee['count'])\n",
    "\n",
    "#дополнительно создадим подписи данных\n",
    "rects = subplot_1.patches\n",
    "\n",
    "labels = df_namber_of_employee['count'].values\n",
    "\n",
    "for rect, label in zip(rects, labels):\n",
    "    height = rect.get_height()\n",
    "    subplot_1.text(rect.get_width() + 3, rect.get_y() + height / 3, label,\n",
    "            ha='center', va='bottom')\n",
    "    \n",
    "subplot_1.set_title('Численность сотрудников компании \\n в 2016 г. по подразделениям')\n",
    "\n",
    "#нарисуем второй график (круговой)\n",
    "wedges, text = subplot_2.pie(df_namber_of_employee['share'],\n",
    "                           explode=None,\n",
    "                           labels=[f'{share} %' for share in df_namber_of_employee.share.values])\n",
    "\n",
    "#добавим легенду и название\n",
    "subplot_2.legend(wedges, df_namber_of_employee.department, loc='center left', bbox_to_anchor=(1.2, 0, 0.5, 1))\n",
    "subplot_2.set_title('Доля отделов в общей \\n численности сотрудников компании')\n"
   ]
  },
  {
   "cell_type": "markdown",
   "metadata": {},
   "source": [
    "**Более половины сотрудников компании работают на производстве** (57,9%), здесь занято 106 человек. Следующим по численности работников идет IT/IS подразделение, где работает 19,1% всех работников компании или 35 человек. Замыкает тройку самых крупных отделов - отдел продаж, здесь занято 26 человек, что составляет 14,2% от штата фирмы. На оставшиеся два подразделения (без учета гендиректора) - администрация и разработчики ПО, - приходится всего 8.2% работников компании (15 человек)."
   ]
  },
  {
   "cell_type": "markdown",
   "metadata": {},
   "source": [
    "### Размер средней ставки заработной платы по департаментам"
   ]
  },
  {
   "cell_type": "code",
   "execution_count": 84,
   "metadata": {},
   "outputs": [
    {
     "name": "stdout",
     "output_type": "stream",
     "text": [
      "33.8\n"
     ]
    }
   ],
   "source": [
    "#создадим запрос, чтобы получить среднюю ставку зарплаты по всей компании в целом (для сотрудников со статусом 'Active'),\n",
    "#округлим полученное значение до десятых и сохраним его в переменную avg_pay_rate\n",
    "sql_str = \"\"\"\n",
    "        SELECT ROUND(CAST(AVG(\"Pay Rate\") as numeric), 1) AS avg_pay_rate\n",
    "        FROM hr_dataset\n",
    "        WHERE \"Employment Status\" = 'Active';\n",
    "\"\"\"\n",
    "\n",
    "cursor.execute(sql_str)\n",
    "\n",
    "for row in cursor:\n",
    "    avg_pay_rate = row[0]\n",
    "    print(avg_pay_rate)"
   ]
  },
  {
   "cell_type": "code",
   "execution_count": 85,
   "metadata": {},
   "outputs": [
    {
     "name": "stdout",
     "output_type": "stream",
     "text": [
      "('Production       ', Decimal('23.7'))\n",
      "('Admin Offices', Decimal('30.4'))\n",
      "('IT/IS', Decimal('45.1'))\n",
      "('Software Engineering', Decimal('48.6'))\n",
      "('Sales', Decimal('55.4'))\n",
      "('Executive Office', Decimal('80.0'))\n"
     ]
    }
   ],
   "source": [
    "#создадим запрос, чтобы получить среднюю ставку зарплаты по департаментам (для сотрудников со статусом 'Active')\n",
    "#и округлим полученные значения до десятых\n",
    "sql_str = \"\"\"\n",
    "        SELECT \"department\" AS department,\n",
    "        ROUND(CAST(AVG(\"Pay Rate\") as numeric), 1) AS avg_pay_rate\n",
    "        FROM hr_dataset\n",
    "        WHERE \"Employment Status\" = 'Active'\n",
    "        GROUP BY \"department\"\n",
    "        ORDER BY avg_pay_rate;\n",
    "\"\"\"\n",
    "\n",
    "cursor.execute(sql_str)\n",
    "\n",
    "for row in cursor:\n",
    "    print(row)"
   ]
  },
  {
   "cell_type": "code",
   "execution_count": 87,
   "metadata": {},
   "outputs": [
    {
     "data": {
      "text/html": [
       "<div>\n",
       "<style scoped>\n",
       "    .dataframe tbody tr th:only-of-type {\n",
       "        vertical-align: middle;\n",
       "    }\n",
       "\n",
       "    .dataframe tbody tr th {\n",
       "        vertical-align: top;\n",
       "    }\n",
       "\n",
       "    .dataframe thead th {\n",
       "        text-align: right;\n",
       "    }\n",
       "</style>\n",
       "<table border=\"1\" class=\"dataframe\">\n",
       "  <thead>\n",
       "    <tr style=\"text-align: right;\">\n",
       "      <th></th>\n",
       "      <th>department</th>\n",
       "      <th>avg_pay_rate</th>\n",
       "    </tr>\n",
       "  </thead>\n",
       "  <tbody>\n",
       "    <tr>\n",
       "      <th>0</th>\n",
       "      <td>Production</td>\n",
       "      <td>23.7</td>\n",
       "    </tr>\n",
       "    <tr>\n",
       "      <th>1</th>\n",
       "      <td>Admin Offices</td>\n",
       "      <td>30.4</td>\n",
       "    </tr>\n",
       "    <tr>\n",
       "      <th>2</th>\n",
       "      <td>IT/IS</td>\n",
       "      <td>45.1</td>\n",
       "    </tr>\n",
       "    <tr>\n",
       "      <th>3</th>\n",
       "      <td>Software Engineering</td>\n",
       "      <td>48.6</td>\n",
       "    </tr>\n",
       "    <tr>\n",
       "      <th>4</th>\n",
       "      <td>Sales</td>\n",
       "      <td>55.4</td>\n",
       "    </tr>\n",
       "    <tr>\n",
       "      <th>5</th>\n",
       "      <td>Executive Office</td>\n",
       "      <td>80.0</td>\n",
       "    </tr>\n",
       "  </tbody>\n",
       "</table>\n",
       "</div>"
      ],
      "text/plain": [
       "             department  avg_pay_rate\n",
       "0     Production                 23.7\n",
       "1         Admin Offices          30.4\n",
       "2                 IT/IS          45.1\n",
       "3  Software Engineering          48.6\n",
       "4                 Sales          55.4\n",
       "5      Executive Office          80.0"
      ]
     },
     "execution_count": 87,
     "metadata": {},
     "output_type": "execute_result"
    }
   ],
   "source": [
    "#сохраним данные в датафрейм\n",
    "df_avg_pay_rate_by_dep = pd.read_sql_query(sql_str, conn)\n",
    "df_avg_pay_rate_by_dep"
   ]
  },
  {
   "cell_type": "code",
   "execution_count": 88,
   "metadata": {},
   "outputs": [
    {
     "data": {
      "text/plain": [
       "Text(0.5, 1.0, 'Средняя ставка зарботной платы по департаментам')"
      ]
     },
     "execution_count": 88,
     "metadata": {},
     "output_type": "execute_result"
    },
    {
     "data": {
      "image/png": "[encoded data removed]",
      "text/plain": [
       "<Figure size 432x288 with 1 Axes>"
      ]
     },
     "metadata": {
      "needs_background": "light"
     },
     "output_type": "display_data"
    }
   ],
   "source": [
    "#нарисуем график (ставка по департаментам и средня ставка по компании - красная линия)\n",
    "fig, subplot = plt.subplots()\n",
    "subplot.barh(df_avg_pay_rate_by_dep['department'], df_avg_pay_rate_by_dep['avg_pay_rate'])\n",
    "plt.axvline(x=avg_pay_rate, color='r')\n",
    "\n",
    "#дополнительно создадим подписи данных\n",
    "rects = subplot.patches\n",
    "\n",
    "labels = df_avg_pay_rate_by_dep['avg_pay_rate'].values\n",
    "\n",
    "for rect, label in zip(rects, labels):\n",
    "    height = rect.get_height()\n",
    "    subplot.text(rect.get_width() + 3, rect.get_y() + height / 3, label,\n",
    "            ha='center', va='bottom')\n",
    "    \n",
    "subplot.set_title('Средняя ставка зарботной платы по департаментам')"
   ]
  },
  {
   "cell_type": "markdown",
   "metadata": {},
   "source": [
    "**Самая высокая ставка оплаты труда** (за исключением ставки ген. директора) зафиксирована **в департаменте продаж (Sales)** и составляет 55.4 долл. **Ставка ниже средней по компании имеет место по административному (Admin Offises) и производственному подразделениям (Production)** - 30.4 и 23.7 долл. соответственно."
   ]
  },
  {
   "cell_type": "markdown",
   "metadata": {},
   "source": [
    "### Анализ увольнений по департаментам"
   ]
  },
  {
   "cell_type": "markdown",
   "metadata": {},
   "source": [
    "#### Количество увольнений по департаментам за последние 2 года по которым имеются данные (2015-2016 гг.)"
   ]
  },
  {
   "cell_type": "code",
   "execution_count": 89,
   "metadata": {},
   "outputs": [
    {
     "name": "stdout",
     "output_type": "stream",
     "text": [
      "('Admin Offices', 2015.0, 2)\n",
      "('IT/IS', 2015.0, 7)\n",
      "('IT/IS', 2016.0, 3)\n",
      "('Production       ', 2015.0, 16)\n",
      "('Production       ', 2016.0, 11)\n",
      "('Sales', 2015.0, 1)\n",
      "('Software Engineering', 2015.0, 1)\n"
     ]
    }
   ],
   "source": [
    "# количество увольнений по департаментам за последние 2 года (2015-2016 гг.). Получим данные из БД:\n",
    "sql_str = \"\"\"\n",
    "        SELECT department AS department, DATE_PART('year', \"Date of Termination\") AS year,\n",
    "        COUNT(*) AS number_of_term\n",
    "        FROM hr_dataset\n",
    "        WHERE DATE_PART('year', \"Date of Termination\") = 2016 OR DATE_PART('year', \"Date of Termination\") = 2015\n",
    "        GROUP BY department, DATE_PART('year', \"Date of Termination\")\n",
    "        ORDER BY department, year;\n",
    "\"\"\"\n",
    "cursor.execute(sql_str)\n",
    "\n",
    "for row in cursor:\n",
    "    print(row)"
   ]
  },
  {
   "cell_type": "code",
   "execution_count": 90,
   "metadata": {},
   "outputs": [
    {
     "data": {
      "text/html": [
       "<div>\n",
       "<style scoped>\n",
       "    .dataframe tbody tr th:only-of-type {\n",
       "        vertical-align: middle;\n",
       "    }\n",
       "\n",
       "    .dataframe tbody tr th {\n",
       "        vertical-align: top;\n",
       "    }\n",
       "\n",
       "    .dataframe thead th {\n",
       "        text-align: right;\n",
       "    }\n",
       "</style>\n",
       "<table border=\"1\" class=\"dataframe\">\n",
       "  <thead>\n",
       "    <tr style=\"text-align: right;\">\n",
       "      <th></th>\n",
       "      <th>department</th>\n",
       "      <th>year</th>\n",
       "      <th>number_of_term</th>\n",
       "    </tr>\n",
       "  </thead>\n",
       "  <tbody>\n",
       "    <tr>\n",
       "      <th>0</th>\n",
       "      <td>Admin Offices</td>\n",
       "      <td>2015.0</td>\n",
       "      <td>2</td>\n",
       "    </tr>\n",
       "    <tr>\n",
       "      <th>1</th>\n",
       "      <td>IT/IS</td>\n",
       "      <td>2015.0</td>\n",
       "      <td>7</td>\n",
       "    </tr>\n",
       "    <tr>\n",
       "      <th>2</th>\n",
       "      <td>IT/IS</td>\n",
       "      <td>2016.0</td>\n",
       "      <td>3</td>\n",
       "    </tr>\n",
       "    <tr>\n",
       "      <th>3</th>\n",
       "      <td>Production</td>\n",
       "      <td>2015.0</td>\n",
       "      <td>16</td>\n",
       "    </tr>\n",
       "    <tr>\n",
       "      <th>4</th>\n",
       "      <td>Production</td>\n",
       "      <td>2016.0</td>\n",
       "      <td>11</td>\n",
       "    </tr>\n",
       "    <tr>\n",
       "      <th>5</th>\n",
       "      <td>Sales</td>\n",
       "      <td>2015.0</td>\n",
       "      <td>1</td>\n",
       "    </tr>\n",
       "    <tr>\n",
       "      <th>6</th>\n",
       "      <td>Software Engineering</td>\n",
       "      <td>2015.0</td>\n",
       "      <td>1</td>\n",
       "    </tr>\n",
       "  </tbody>\n",
       "</table>\n",
       "</div>"
      ],
      "text/plain": [
       "             department    year  number_of_term\n",
       "0         Admin Offices  2015.0               2\n",
       "1                 IT/IS  2015.0               7\n",
       "2                 IT/IS  2016.0               3\n",
       "3     Production         2015.0              16\n",
       "4     Production         2016.0              11\n",
       "5                 Sales  2015.0               1\n",
       "6  Software Engineering  2015.0               1"
      ]
     },
     "execution_count": 90,
     "metadata": {},
     "output_type": "execute_result"
    }
   ],
   "source": [
    "# для отрисовки диаграммы, загрузим в датафрейм\n",
    "df_number_of_termination = pd.read_sql_query(sql_str, conn)\n",
    "df_number_of_termination"
   ]
  },
  {
   "cell_type": "code",
   "execution_count": 91,
   "metadata": {},
   "outputs": [],
   "source": [
    "# добавим в датафрейм строки с недостающими годами по каждому департаменту\n",
    "for dep in df_number_of_termination['department'].unique():\n",
    "    if 2015.0 not in df_number_of_termination[df_number_of_termination['department'] == dep]['year'].values:\n",
    "        df_term = df_number_of_termination.append(\n",
    "            {'department' : dep, 'year' : 2015.0, 'number_of_term' : 0}, ignore_index=True)\n",
    "        df_number_of_termination = df_term\n",
    "    if 2016.0 not in df_number_of_termination[df_number_of_termination['department'] == dep]['year'].values:\n",
    "        df_term = df_number_of_termination.append(\n",
    "            {'department' : dep, 'year' : 2016.0, 'number_of_term' : 0}, ignore_index=True)\n",
    "        df_number_of_termination = df_term"
   ]
  },
  {
   "cell_type": "code",
   "execution_count": 92,
   "metadata": {},
   "outputs": [
    {
     "data": {
      "text/plain": [
       "<matplotlib.legend.Legend at 0x1d992efd860>"
      ]
     },
     "execution_count": 92,
     "metadata": {},
     "output_type": "execute_result"
    },
    {
     "data": {
      "image/png": "[encoded data removed]",
      "text/plain": [
       "<Figure size 432x288 with 1 Axes>"
      ]
     },
     "metadata": {
      "needs_background": "light"
     },
     "output_type": "display_data"
    }
   ],
   "source": [
    "# Нарисуем график с накоплением количества увольнений за два последние года (2015, 2016 гг.):\n",
    "fig, subplot = plt.subplots()\n",
    "\n",
    "for dep in df_term['department'].unique().tolist():\n",
    "    x1 = dep\n",
    "    y1 = df_term[(df_term['year'] == 2015.0) & (df_term['department'] == dep)]['number_of_term'].values\n",
    "    subplot.barh(x1, y1, color='c', height=0.4)\n",
    "    y2 = df_term[(df_term['year'] == 2016.0) & (df_term['department'] == dep)]['number_of_term'].values\n",
    "    subplot.barh(x1, y2, color='b', height=0.4, left=y1)\n",
    "        \n",
    "plt.legend([2015, 2016], loc=\"center right\", bbox_to_anchor=(0.75, 0, 0.5, 1))"
   ]
  },
  {
   "cell_type": "markdown",
   "metadata": {},
   "source": [
    "Из диаграммы видно, что **за последние 2 года (2015-2016 гг.) больше всего увольнений приходится на наиболее многочисленное Производственное подразделение компании**. В 2016 году увольнения были только в Произвоственном и IT/IS департаменте. "
   ]
  },
  {
   "cell_type": "markdown",
   "metadata": {},
   "source": [
    "#### Причины увольнений сотрудников по компании в целом за последний год, по которому имеются данные (2016 гг.)"
   ]
  },
  {
   "cell_type": "code",
   "execution_count": 133,
   "metadata": {},
   "outputs": [
    {
     "name": "stdout",
     "output_type": "stream",
     "text": [
      "('unhappy', 1, 7)\n",
      "('gross misconduct', 1, 7)\n",
      "('hours', 1, 7)\n",
      "('maternity leave - did not return', 1, 7)\n",
      "('Another position', 1, 7)\n",
      "('career change', 1, 7)\n",
      "('attendance', 2, 14)\n",
      "('retiring', 2, 14)\n",
      "('more money', 2, 14)\n",
      "('performance', 2, 14)\n"
     ]
    }
   ],
   "source": [
    "#рассмотрим причины увольнений в целом по компании за последние 2 года (2015-2016 гг.)\n",
    "sql_str = \"\"\"\n",
    "        SELECT \"Reason For Term\" reason_for_term, \n",
    "        COUNT(*) AS count,\n",
    "        COUNT(*) * 100 / (SELECT COUNT(*) FROM hr_dataset\n",
    "        WHERE \"Reason For Term\" NOT IN ('N/A - still employed', 'N/A - Has not started yet')\n",
    "        AND DATE_PART('year', \"Date of Termination\") = 2016) AS share\n",
    "        FROM hr_dataset\n",
    "        WHERE \"Reason For Term\" NOT IN ('N/A - still employed', 'N/A - Has not started yet') \n",
    "        AND DATE_PART('year', \"Date of Termination\") = 2016\n",
    "        GROUP BY \"Reason For Term\"\n",
    "        ORDER BY count;\n",
    "\"\"\"\n",
    "\n",
    "cursor.execute(sql_str)\n",
    "\n",
    "for row in cursor:\n",
    "    print(row)"
   ]
  },
  {
   "cell_type": "code",
   "execution_count": 134,
   "metadata": {},
   "outputs": [
    {
     "data": {
      "text/html": [
       "<div>\n",
       "<style scoped>\n",
       "    .dataframe tbody tr th:only-of-type {\n",
       "        vertical-align: middle;\n",
       "    }\n",
       "\n",
       "    .dataframe tbody tr th {\n",
       "        vertical-align: top;\n",
       "    }\n",
       "\n",
       "    .dataframe thead th {\n",
       "        text-align: right;\n",
       "    }\n",
       "</style>\n",
       "<table border=\"1\" class=\"dataframe\">\n",
       "  <thead>\n",
       "    <tr style=\"text-align: right;\">\n",
       "      <th></th>\n",
       "      <th>reason_for_term</th>\n",
       "      <th>count</th>\n",
       "      <th>share</th>\n",
       "    </tr>\n",
       "  </thead>\n",
       "  <tbody>\n",
       "    <tr>\n",
       "      <th>0</th>\n",
       "      <td>unhappy</td>\n",
       "      <td>1</td>\n",
       "      <td>7</td>\n",
       "    </tr>\n",
       "    <tr>\n",
       "      <th>1</th>\n",
       "      <td>gross misconduct</td>\n",
       "      <td>1</td>\n",
       "      <td>7</td>\n",
       "    </tr>\n",
       "    <tr>\n",
       "      <th>2</th>\n",
       "      <td>hours</td>\n",
       "      <td>1</td>\n",
       "      <td>7</td>\n",
       "    </tr>\n",
       "    <tr>\n",
       "      <th>3</th>\n",
       "      <td>maternity leave - did not return</td>\n",
       "      <td>1</td>\n",
       "      <td>7</td>\n",
       "    </tr>\n",
       "    <tr>\n",
       "      <th>4</th>\n",
       "      <td>Another position</td>\n",
       "      <td>1</td>\n",
       "      <td>7</td>\n",
       "    </tr>\n",
       "    <tr>\n",
       "      <th>5</th>\n",
       "      <td>career change</td>\n",
       "      <td>1</td>\n",
       "      <td>7</td>\n",
       "    </tr>\n",
       "    <tr>\n",
       "      <th>6</th>\n",
       "      <td>attendance</td>\n",
       "      <td>2</td>\n",
       "      <td>14</td>\n",
       "    </tr>\n",
       "    <tr>\n",
       "      <th>7</th>\n",
       "      <td>retiring</td>\n",
       "      <td>2</td>\n",
       "      <td>14</td>\n",
       "    </tr>\n",
       "    <tr>\n",
       "      <th>8</th>\n",
       "      <td>more money</td>\n",
       "      <td>2</td>\n",
       "      <td>14</td>\n",
       "    </tr>\n",
       "    <tr>\n",
       "      <th>9</th>\n",
       "      <td>performance</td>\n",
       "      <td>2</td>\n",
       "      <td>14</td>\n",
       "    </tr>\n",
       "  </tbody>\n",
       "</table>\n",
       "</div>"
      ],
      "text/plain": [
       "                    reason_for_term  count  share\n",
       "0                           unhappy      1      7\n",
       "1                  gross misconduct      1      7\n",
       "2                             hours      1      7\n",
       "3  maternity leave - did not return      1      7\n",
       "4                  Another position      1      7\n",
       "5                     career change      1      7\n",
       "6                        attendance      2     14\n",
       "7                          retiring      2     14\n",
       "8                        more money      2     14\n",
       "9                       performance      2     14"
      ]
     },
     "execution_count": 134,
     "metadata": {},
     "output_type": "execute_result"
    }
   ],
   "source": [
    "#переведем данные в датафрейм\n",
    "df_reason_for_term = pd.read_sql_query(sql_str, conn)\n",
    "df_reason_for_term"
   ]
  },
  {
   "cell_type": "code",
   "execution_count": 136,
   "metadata": {},
   "outputs": [
    {
     "data": {
      "text/plain": [
       "Text(0.5, 1.0, 'Доля причин увольнений в 2016 г.')"
      ]
     },
     "execution_count": 136,
     "metadata": {},
     "output_type": "execute_result"
    },
    {
     "data": {
      "image/png": "[encoded data removed]",
      "text/plain": [
       "<Figure size 720x288 with 2 Axes>"
      ]
     },
     "metadata": {
      "needs_background": "light"
     },
     "output_type": "display_data"
    }
   ],
   "source": [
    "#нарисуем два графика причин увольнений и их доли в %\n",
    "\n",
    "fig, (subplot_1, subplot_2) = plt.subplots(\n",
    "    nrows=1, ncols=2,\n",
    "    figsize=(10, 4)\n",
    ")\n",
    "\n",
    "subplot_1.barh(df_reason_for_term['reason_for_term'], df_reason_for_term['count'])\n",
    "\n",
    "#дополнительно создадим подписи данных\n",
    "rects = subplot_1.patches\n",
    "\n",
    "labels = df_reason_for_term['count'].values\n",
    "\n",
    "for rect, label in zip(rects, labels):\n",
    "    height = rect.get_height()\n",
    "    subplot_1.text(rect.get_width() + 0.05, rect.get_y() + height / 3, label,\n",
    "            ha='center', va='bottom')\n",
    "    \n",
    "subplot_1.set_title('Причины увольнений в 2016 г.')\n",
    "\n",
    "#нарисуем второй график (круговой)\n",
    "wedges, text = subplot_2.pie(df_reason_for_term['share'],\n",
    "                           explode=None,\n",
    "                           labels=[f'{share} %' for share in df_reason_for_term['share'].values])\n",
    "\n",
    "#добавим легенду и название\n",
    "subplot_2.legend(wedges, df_reason_for_term.reason_for_term, loc='center left', bbox_to_anchor=(1.2, 0, 0.5, 1))\n",
    "subplot_2.set_title('Доля причин увольнений в 2016 г.')"
   ]
  },
  {
   "cell_type": "markdown",
   "metadata": {},
   "source": [
    "**Наиболее распространенными причинами увольнения** сотрудников за последние 2 года (2015, 2016 гг.) являются следующие четыре:\n",
    "\n",
    "* **неудовлетворенность зарплатой**\n",
    "* **низкая производительность**\n",
    "* **выход на пенсию**\n",
    "* **неудовлетворительная посещаемость**\n",
    "\n",
    "\n",
    "Как видно из диагаммы, **почти половина всех увольнений (42%) происходит по инициативе работодателя** (вследствие таких причин, как низкие показатели производительности, неудовлетворительная посещаемость, грубый проступок, 'hours'). То есть, в компании есть определенные проблемы с дисциплиной, что может быть связано с неправильным подбором персонала, либо недостатками мотивационной политики компании.\n",
    "\n",
    "**21% увольнений связан с неудовлетворенностью работниками условиями труда и  заработной платой**.\n",
    "\n",
    "**остальные 37% увольнений связаны с естественными причинами**: выход на пенсию, выход в отпуск по уходу за ребенком, переход на другую должность и смена карьеры. "
   ]
  },
  {
   "cell_type": "markdown",
   "metadata": {},
   "source": [
    "### Текучесть кадров по департаментам"
   ]
  },
  {
   "cell_type": "markdown",
   "metadata": {},
   "source": [
    "Как было отмечено ранее, текучесть в компании сокращается, и по последним имеющимся данным (за 2016 год) находится на естественном уровне, способствующем обновлению кадров и не требующем больших затрат на подбор новых кадров.\n",
    "Рассмотрим теперь текучесть персонала по департаментам за последний год (2016)."
   ]
  },
  {
   "cell_type": "code",
   "execution_count": 110,
   "metadata": {},
   "outputs": [
    {
     "name": "stdout",
     "output_type": "stream",
     "text": [
      "('Production       ', 2016.0, 10.377358490566)\n"
     ]
    }
   ],
   "source": [
    "#Поскольку увольнения в 2016 были только в двух департаментах, посчитаем текучесть для каждого из них\n",
    "#Рассчитаем текучесть для производственного подразделения компании:\n",
    "\n",
    "sql_str = \"\"\"\n",
    "        SELECT department, DATE_PART('year', \"Date of Termination\") AS year,\n",
    "        CAST (COUNT(*) AS FLOAT) * 100 / (SELECT CAST (COUNT(*) AS FLOAT) FROM hr_dataset\n",
    "        WHERE \"Employment Status\" = 'Active' \n",
    "        AND department = 'Production       ') AS turnover\n",
    "        FROM hr_dataset\n",
    "        WHERE DATE_PART('year', \"Date of Termination\") = 2016 AND department = 'Production       '\n",
    "        GROUP BY department, DATE_PART('year', \"Date of Termination\")\n",
    "        ORDER BY department;\n",
    "\"\"\"\n",
    "cursor.execute(sql_str)\n",
    "\n",
    "for row in cursor:\n",
    "    print(row)"
   ]
  },
  {
   "cell_type": "code",
   "execution_count": 111,
   "metadata": {},
   "outputs": [
    {
     "data": {
      "text/html": [
       "<div>\n",
       "<style scoped>\n",
       "    .dataframe tbody tr th:only-of-type {\n",
       "        vertical-align: middle;\n",
       "    }\n",
       "\n",
       "    .dataframe tbody tr th {\n",
       "        vertical-align: top;\n",
       "    }\n",
       "\n",
       "    .dataframe thead th {\n",
       "        text-align: right;\n",
       "    }\n",
       "</style>\n",
       "<table border=\"1\" class=\"dataframe\">\n",
       "  <thead>\n",
       "    <tr style=\"text-align: right;\">\n",
       "      <th></th>\n",
       "      <th>department</th>\n",
       "      <th>year</th>\n",
       "      <th>turnover</th>\n",
       "    </tr>\n",
       "  </thead>\n",
       "  <tbody>\n",
       "    <tr>\n",
       "      <th>0</th>\n",
       "      <td>Production</td>\n",
       "      <td>2016.0</td>\n",
       "      <td>10.377358</td>\n",
       "    </tr>\n",
       "  </tbody>\n",
       "</table>\n",
       "</div>"
      ],
      "text/plain": [
       "          department    year   turnover\n",
       "0  Production         2016.0  10.377358"
      ]
     },
     "execution_count": 111,
     "metadata": {},
     "output_type": "execute_result"
    }
   ],
   "source": [
    "#сохраним в датафрейм\n",
    "df_turnover_production = pd.read_sql_query(sql_str, conn)\n",
    "df_turnover_production"
   ]
  },
  {
   "cell_type": "code",
   "execution_count": 112,
   "metadata": {},
   "outputs": [
    {
     "name": "stdout",
     "output_type": "stream",
     "text": [
      "('IT/IS', 2016.0, 8.57142857142857)\n"
     ]
    }
   ],
   "source": [
    "# Посчитаем текучесть для IT/IS отдела компании:\n",
    "\n",
    "sql_str = \"\"\"\n",
    "        SELECT department, DATE_PART('year', \"Date of Termination\") AS year,\n",
    "        CAST (COUNT(*) AS FLOAT) * 100 / (SELECT CAST (COUNT(*) AS FLOAT) FROM hr_dataset\n",
    "        WHERE \"Employment Status\" = 'Active' \n",
    "        AND department = 'IT/IS') AS turnover\n",
    "        FROM hr_dataset\n",
    "        WHERE DATE_PART('year', \"Date of Termination\") = 2016 AND department = 'IT/IS'\n",
    "        GROUP BY department, DATE_PART('year', \"Date of Termination\")\n",
    "        ORDER BY department;\n",
    "\"\"\"\n",
    "cursor.execute(sql_str)\n",
    "\n",
    "for row in cursor:\n",
    "    print(row)"
   ]
  },
  {
   "cell_type": "code",
   "execution_count": 113,
   "metadata": {},
   "outputs": [
    {
     "data": {
      "text/html": [
       "<div>\n",
       "<style scoped>\n",
       "    .dataframe tbody tr th:only-of-type {\n",
       "        vertical-align: middle;\n",
       "    }\n",
       "\n",
       "    .dataframe tbody tr th {\n",
       "        vertical-align: top;\n",
       "    }\n",
       "\n",
       "    .dataframe thead th {\n",
       "        text-align: right;\n",
       "    }\n",
       "</style>\n",
       "<table border=\"1\" class=\"dataframe\">\n",
       "  <thead>\n",
       "    <tr style=\"text-align: right;\">\n",
       "      <th></th>\n",
       "      <th>department</th>\n",
       "      <th>year</th>\n",
       "      <th>turnover</th>\n",
       "    </tr>\n",
       "  </thead>\n",
       "  <tbody>\n",
       "    <tr>\n",
       "      <th>0</th>\n",
       "      <td>IT/IS</td>\n",
       "      <td>2016.0</td>\n",
       "      <td>8.571429</td>\n",
       "    </tr>\n",
       "  </tbody>\n",
       "</table>\n",
       "</div>"
      ],
      "text/plain": [
       "  department    year  turnover\n",
       "0      IT/IS  2016.0  8.571429"
      ]
     },
     "execution_count": 113,
     "metadata": {},
     "output_type": "execute_result"
    }
   ],
   "source": [
    "# Сохраним в датафрейм\n",
    "df_turnover_it = pd.read_sql_query(sql_str, conn)\n",
    "df_turnover_it"
   ]
  },
  {
   "cell_type": "code",
   "execution_count": 114,
   "metadata": {},
   "outputs": [
    {
     "data": {
      "text/html": [
       "<div>\n",
       "<style scoped>\n",
       "    .dataframe tbody tr th:only-of-type {\n",
       "        vertical-align: middle;\n",
       "    }\n",
       "\n",
       "    .dataframe tbody tr th {\n",
       "        vertical-align: top;\n",
       "    }\n",
       "\n",
       "    .dataframe thead th {\n",
       "        text-align: right;\n",
       "    }\n",
       "</style>\n",
       "<table border=\"1\" class=\"dataframe\">\n",
       "  <thead>\n",
       "    <tr style=\"text-align: right;\">\n",
       "      <th></th>\n",
       "      <th>department</th>\n",
       "      <th>year</th>\n",
       "      <th>turnover</th>\n",
       "    </tr>\n",
       "  </thead>\n",
       "  <tbody>\n",
       "    <tr>\n",
       "      <th>0</th>\n",
       "      <td>Production</td>\n",
       "      <td>2016.0</td>\n",
       "      <td>10.377358</td>\n",
       "    </tr>\n",
       "    <tr>\n",
       "      <th>1</th>\n",
       "      <td>IT/IS</td>\n",
       "      <td>2016.0</td>\n",
       "      <td>8.571429</td>\n",
       "    </tr>\n",
       "  </tbody>\n",
       "</table>\n",
       "</div>"
      ],
      "text/plain": [
       "          department    year   turnover\n",
       "0  Production         2016.0  10.377358\n",
       "1              IT/IS  2016.0   8.571429"
      ]
     },
     "execution_count": 114,
     "metadata": {},
     "output_type": "execute_result"
    }
   ],
   "source": [
    "# Объединим датафреймы для наглядности:\n",
    "df_turnover_2016 = pd.concat([df_turnover_production, df_turnover_it], ignore_index=True)\n",
    "df_turnover_2016"
   ]
  },
  {
   "cell_type": "markdown",
   "metadata": {},
   "source": [
    "Таким образом, если для компании в целом текучесть кадров в 2016 г. находится на естественном уровне, то в разрезе отдельных подразделений, она достигает более высоких показателей.\n",
    "\n",
    "**Текучесть персонала по подразделению \"IT/IS\"** (8,6%) **находится на среднем уровне** и, в целом, является приемлемой для компании. \n",
    "\n",
    "**По производственному департаменту этот показатель достигает 10,4%, что соответствует высокому уровню текучести персонала**и увеличивает нагрузку на hr-отдел по обеспечению данного подразделения кадрами. Такая ситуация может говорить о том, что **у компании есть проблемы со стратегией управления персоналом производственного подразделения.** \n",
    "\n",
    "Для более детального понимания ситуации, изучим основные причины увольнений в производственном отделе в 2016 году."
   ]
  },
  {
   "cell_type": "markdown",
   "metadata": {},
   "source": [
    "### Причины увольнений в производственном подразделении в 2016 г."
   ]
  },
  {
   "cell_type": "code",
   "execution_count": 146,
   "metadata": {},
   "outputs": [
    {
     "name": "stdout",
     "output_type": "stream",
     "text": [
      "('attendance', 2, Decimal('18.2'))\n",
      "('retiring', 2, Decimal('18.2'))\n",
      "('more money', 2, Decimal('18.2'))\n",
      "('performance', 1, Decimal('9.1'))\n",
      "('Another position', 1, Decimal('9.1'))\n",
      "('unhappy', 1, Decimal('9.1'))\n",
      "('gross misconduct', 1, Decimal('9.1'))\n",
      "('maternity leave - did not return', 1, Decimal('9.1'))\n"
     ]
    }
   ],
   "source": [
    "#выгрузим причины увольнений в производственном отделе за последний доступный год (2016 г.)\n",
    "sql_str = \"\"\"\n",
    "        SELECT \"Reason For Term\" reason_for_term,\n",
    "        COUNT(*) AS count,\n",
    "        ROUND(CAST(COUNT(*) * 100. / (SELECT COUNT(*) FROM hr_dataset\n",
    "        WHERE \"Reason For Term\" NOT IN ('N/A - still employed', 'N/A - Has not started yet') \n",
    "        AND DATE_PART('year', \"Date of Termination\") = 2016\n",
    "        AND \"department\" = 'Production       ') as numeric), 1) AS share     \n",
    "        FROM hr_dataset\n",
    "        WHERE \"Reason For Term\" NOT IN ('N/A - still employed', 'N/A - Has not started yet') \n",
    "        AND DATE_PART('year', \"Date of Termination\") = 2016\n",
    "        AND \"department\" = 'Production       '\n",
    "        GROUP BY \"Reason For Term\"\n",
    "        ORDER BY count DESC\n",
    "        LIMIT 10;\n",
    "\"\"\"\n",
    "\n",
    "cursor.execute(sql_str)\n",
    "\n",
    "for row in cursor:\n",
    "    print(row)"
   ]
  },
  {
   "cell_type": "code",
   "execution_count": 147,
   "metadata": {},
   "outputs": [
    {
     "data": {
      "text/html": [
       "<div>\n",
       "<style scoped>\n",
       "    .dataframe tbody tr th:only-of-type {\n",
       "        vertical-align: middle;\n",
       "    }\n",
       "\n",
       "    .dataframe tbody tr th {\n",
       "        vertical-align: top;\n",
       "    }\n",
       "\n",
       "    .dataframe thead th {\n",
       "        text-align: right;\n",
       "    }\n",
       "</style>\n",
       "<table border=\"1\" class=\"dataframe\">\n",
       "  <thead>\n",
       "    <tr style=\"text-align: right;\">\n",
       "      <th></th>\n",
       "      <th>reason_for_term</th>\n",
       "      <th>count</th>\n",
       "      <th>share</th>\n",
       "    </tr>\n",
       "  </thead>\n",
       "  <tbody>\n",
       "    <tr>\n",
       "      <th>0</th>\n",
       "      <td>attendance</td>\n",
       "      <td>2</td>\n",
       "      <td>18.2</td>\n",
       "    </tr>\n",
       "    <tr>\n",
       "      <th>1</th>\n",
       "      <td>retiring</td>\n",
       "      <td>2</td>\n",
       "      <td>18.2</td>\n",
       "    </tr>\n",
       "    <tr>\n",
       "      <th>2</th>\n",
       "      <td>more money</td>\n",
       "      <td>2</td>\n",
       "      <td>18.2</td>\n",
       "    </tr>\n",
       "    <tr>\n",
       "      <th>3</th>\n",
       "      <td>performance</td>\n",
       "      <td>1</td>\n",
       "      <td>9.1</td>\n",
       "    </tr>\n",
       "    <tr>\n",
       "      <th>4</th>\n",
       "      <td>Another position</td>\n",
       "      <td>1</td>\n",
       "      <td>9.1</td>\n",
       "    </tr>\n",
       "    <tr>\n",
       "      <th>5</th>\n",
       "      <td>unhappy</td>\n",
       "      <td>1</td>\n",
       "      <td>9.1</td>\n",
       "    </tr>\n",
       "    <tr>\n",
       "      <th>6</th>\n",
       "      <td>gross misconduct</td>\n",
       "      <td>1</td>\n",
       "      <td>9.1</td>\n",
       "    </tr>\n",
       "    <tr>\n",
       "      <th>7</th>\n",
       "      <td>maternity leave - did not return</td>\n",
       "      <td>1</td>\n",
       "      <td>9.1</td>\n",
       "    </tr>\n",
       "  </tbody>\n",
       "</table>\n",
       "</div>"
      ],
      "text/plain": [
       "                    reason_for_term  count  share\n",
       "0                        attendance      2   18.2\n",
       "1                          retiring      2   18.2\n",
       "2                        more money      2   18.2\n",
       "3                       performance      1    9.1\n",
       "4                  Another position      1    9.1\n",
       "5                           unhappy      1    9.1\n",
       "6                  gross misconduct      1    9.1\n",
       "7  maternity leave - did not return      1    9.1"
      ]
     },
     "execution_count": 147,
     "metadata": {},
     "output_type": "execute_result"
    }
   ],
   "source": [
    "# выгрузим в датафрейм для наглядности\n",
    "df_term_in_product_dep = pd.read_sql_query(sql_str, conn)\n",
    "df_term_in_product_dep"
   ]
  },
  {
   "cell_type": "markdown",
   "metadata": {},
   "source": [
    "**Наибольшее количество увольнений по производствееному отделу** связано со следующими причинами:\n",
    "* неудовлетворительная посещаемость\n",
    "* выход на пенсию\n",
    "* неудовлетворенность зарплатой\n",
    "\n",
    "**Треть всех увольнений (36%) приходится на увольнения по инициативе работодателя** и связаны с неудовлетворительной посещаемостью, низкими показателями производительности и грубым проступком.\n",
    "\n",
    "**Другая треть всех увольнений (36%) связана с естественными причинами** - выход на пенсию, отпуск по уходу за ребенком, переход на другую должность.\n",
    "\n",
    "**Меньше трети увольнений (28%) связаны с неудовлетворенностью работой и заработной платой**."
   ]
  },
  {
   "cell_type": "markdown",
   "metadata": {},
   "source": [
    "#### Выводы:\n",
    "\n",
    "1. Больше всего увольнений приходится на наиболее многочисленный Производственный отдел. Текучесть кадров по данному подразделению соответствует высокому уровню и приводит к повышенной нагрузке на отдел кадров, способствует росту расходов на рекрутинг. \n",
    "2. Треть всех увольнений в производственном отделе приходится на увольнения по инициативе работодателя, что может свидетельствовать о некорректном подборе персонала. Также это может быть связано с низкой мотивацией работника. \n",
    "\n",
    "#### HR-отделу рекомендуется:\n",
    "\n",
    "1. Формировать кадровый резерв для своевременного пополнения кадров в производственном отделе\n",
    "2. Провести дополнительный анализ анкет работников, которых уволили по инициативе работодателя с целью выявления схожих характеристик, которые следует учитывать при рекрутинге в производственный отдел.\n",
    "3. Также рекомендуется пересмотреть мотивационную политику, направленную на работников Производственого отдела, главным образом конкурентоспособность заработной платы, системы вознаграждений и условий труда для сокращения текучести кадров и снижения нагрузки на бюджет по рекрутингу."
   ]
  },
  {
   "cell_type": "markdown",
   "metadata": {},
   "source": [
    "### Средний возраст и стаж работников компании"
   ]
  },
  {
   "cell_type": "code",
   "execution_count": 161,
   "metadata": {},
   "outputs": [
    {
     "name": "stdout",
     "output_type": "stream",
     "text": [
      "38.0\n"
     ]
    }
   ],
   "source": [
    "#Рассчитаем средний возраст работников в компании целом (со статусом 'Active') и сохраним результат в переменную avg_age\n",
    "sql_str = \"\"\"\n",
    "        SELECT AVG(\"age\")\n",
    "        FROM hr_dataset\n",
    "        WHERE \"department\" != 'Executive Office'\n",
    "        AND \"Employment Status\" = 'Active';\n",
    "\"\"\"\n",
    "\n",
    "cursor.execute(sql_str)\n",
    "\n",
    "for row in cursor:\n",
    "    avg_age = round(float(row[0]), 1)\n",
    "    print(avg_age)"
   ]
  },
  {
   "cell_type": "code",
   "execution_count": 162,
   "metadata": {},
   "outputs": [
    {
     "name": "stdout",
     "output_type": "stream",
     "text": [
      "('Admin Offices', Decimal('32.5'))\n",
      "('Software Engineering', Decimal('36.4'))\n",
      "('IT/IS', Decimal('37.4'))\n",
      "('Sales', Decimal('38.5'))\n",
      "('Production       ', Decimal('38.5'))\n"
     ]
    }
   ],
   "source": [
    "#Рассчитаем средний возраст работников в компании по отдельным департаментам (со статусом 'Active')\n",
    "sql_str = \"\"\"\n",
    "        SELECT \"department\" AS department, \n",
    "        ROUND(CAST(AVG(\"age\") as numeric), 1) AS avg_age\n",
    "        FROM hr_dataset\n",
    "        WHERE \"department\" != 'Executive Office'\n",
    "        AND \"Employment Status\" = 'Active'\n",
    "        GROUP BY \"department\"\n",
    "        ORDER BY avg_age;\n",
    "\"\"\"\n",
    "\n",
    "cursor.execute(sql_str)\n",
    "\n",
    "for row in cursor:\n",
    "    print(row)"
   ]
  },
  {
   "cell_type": "code",
   "execution_count": 153,
   "metadata": {},
   "outputs": [
    {
     "data": {
      "text/html": [
       "<div>\n",
       "<style scoped>\n",
       "    .dataframe tbody tr th:only-of-type {\n",
       "        vertical-align: middle;\n",
       "    }\n",
       "\n",
       "    .dataframe tbody tr th {\n",
       "        vertical-align: top;\n",
       "    }\n",
       "\n",
       "    .dataframe thead th {\n",
       "        text-align: right;\n",
       "    }\n",
       "</style>\n",
       "<table border=\"1\" class=\"dataframe\">\n",
       "  <thead>\n",
       "    <tr style=\"text-align: right;\">\n",
       "      <th></th>\n",
       "      <th>department</th>\n",
       "      <th>avg_age</th>\n",
       "    </tr>\n",
       "  </thead>\n",
       "  <tbody>\n",
       "    <tr>\n",
       "      <th>0</th>\n",
       "      <td>Admin Offices</td>\n",
       "      <td>32.5</td>\n",
       "    </tr>\n",
       "    <tr>\n",
       "      <th>1</th>\n",
       "      <td>Software Engineering</td>\n",
       "      <td>36.4</td>\n",
       "    </tr>\n",
       "    <tr>\n",
       "      <th>2</th>\n",
       "      <td>IT/IS</td>\n",
       "      <td>37.4</td>\n",
       "    </tr>\n",
       "    <tr>\n",
       "      <th>3</th>\n",
       "      <td>Sales</td>\n",
       "      <td>38.5</td>\n",
       "    </tr>\n",
       "    <tr>\n",
       "      <th>4</th>\n",
       "      <td>Production</td>\n",
       "      <td>38.5</td>\n",
       "    </tr>\n",
       "  </tbody>\n",
       "</table>\n",
       "</div>"
      ],
      "text/plain": [
       "             department  avg_age\n",
       "0         Admin Offices     32.5\n",
       "1  Software Engineering     36.4\n",
       "2                 IT/IS     37.4\n",
       "3                 Sales     38.5\n",
       "4     Production            38.5"
      ]
     },
     "execution_count": 153,
     "metadata": {},
     "output_type": "execute_result"
    }
   ],
   "source": [
    "df_avg_age_by_department = pd.read_sql_query(sql_str, conn)\n",
    "df_avg_age_by_department"
   ]
  },
  {
   "cell_type": "code",
   "execution_count": 215,
   "metadata": {},
   "outputs": [
    {
     "data": {
      "text/plain": [
       "Text(0.5, 1.0, 'Средний возраст работников по департаментам')"
      ]
     },
     "execution_count": 215,
     "metadata": {},
     "output_type": "execute_result"
    },
    {
     "data": {
      "image/png": "[encoded data removed]",
      "text/plain": [
       "<Figure size 432x288 with 1 Axes>"
      ]
     },
     "metadata": {
      "needs_background": "light"
     },
     "output_type": "display_data"
    }
   ],
   "source": [
    "#нарисуем график среднего возраста по департаментам и линию среднего возраста по компании (красная линия)\n",
    "fig, subplot = plt.subplots()\n",
    "subplot.barh(df_avg_age_by_department['department'], df_avg_age_by_department['avg_age'])\n",
    "plt.axvline(x=avg_age, color='r')\n",
    "\n",
    "#установим минимальные x\n",
    "x_min = df_avg_age_by_department['avg_age'].min() - 1\n",
    "x_max = df_avg_age_by_department['avg_age'].max() + 0.6\n",
    "subplot.set_xlim(x_min, x_max)\n",
    "\n",
    "#дополнительно создадим подписи данных\n",
    "rects = subplot.patches\n",
    "\n",
    "labels = df_avg_age_by_department['avg_age'].values\n",
    "\n",
    "for rect, label in zip(rects, labels):\n",
    "    height = rect.get_height()\n",
    "    subplot.text(rect.get_width() + 0.3, rect.get_y() + height/3, label,\n",
    "            ha='center', va='bottom')\n",
    "    \n",
    "subplot.set_title('Средний возраст работников по департаментам')"
   ]
  },
  {
   "cell_type": "markdown",
   "metadata": {},
   "source": [
    "**Наиболее возрастной состав работников занят в Производственном подразделении и отделе Продаж**. Средний возраст сотрудников здесь выше среднего по компании. К самым \"молодым\" подразделениям относятся администрация и отдел разработчиков программного обеспечения."
   ]
  },
  {
   "cell_type": "code",
   "execution_count": 194,
   "metadata": {},
   "outputs": [],
   "source": [
    "#Рассчитаем средний стаж работы в компании целом и округлим до десятых\n",
    "sql_str = \"\"\"\n",
    "        SELECT ROUND(CAST(AVG(\"Days Employed\") / 365 AS NUMERIC), 1)\n",
    "        FROM hr_dataset;\n",
    "\"\"\""
   ]
  },
  {
   "cell_type": "code",
   "execution_count": 195,
   "metadata": {},
   "outputs": [],
   "source": [
    "cursor.execute(sql_str)"
   ]
  },
  {
   "cell_type": "code",
   "execution_count": 196,
   "metadata": {},
   "outputs": [
    {
     "name": "stdout",
     "output_type": "stream",
     "text": [
      "3.6\n"
     ]
    }
   ],
   "source": [
    "#согхраним средний стаж в переменную avg_seniority\n",
    "for row in cursor:\n",
    "    avg_seniority = float(row[0])\n",
    "    print(avg_seniority)"
   ]
  },
  {
   "cell_type": "code",
   "execution_count": 220,
   "metadata": {},
   "outputs": [
    {
     "name": "stdout",
     "output_type": "stream",
     "text": [
      "('IT/IS', Decimal('2.7'))\n",
      "('Production       ', Decimal('3.6'))\n",
      "('Admin Offices', Decimal('3.9'))\n",
      "('Software Engineering', Decimal('3.9'))\n",
      "('Sales', Decimal('4.4'))\n",
      "('Executive Office', Decimal('5.4'))\n"
     ]
    }
   ],
   "source": [
    "#рассчитаем средний стаж по департаментам\n",
    "sql_str = \"\"\"\n",
    "        SELECT department,\n",
    "        ROUND(CAST(AVG(\"Days Employed\") / 365 as numeric), 1) AS seniority\n",
    "        FROM hr_dataset\n",
    "        GROUP BY department\n",
    "        ORDER BY seniority;\n",
    "\"\"\"\n",
    "\n",
    "cursor.execute(sql_str)\n",
    "\n",
    "for row in cursor:\n",
    "    print(row)"
   ]
  },
  {
   "cell_type": "code",
   "execution_count": 221,
   "metadata": {},
   "outputs": [
    {
     "data": {
      "text/html": [
       "<div>\n",
       "<style scoped>\n",
       "    .dataframe tbody tr th:only-of-type {\n",
       "        vertical-align: middle;\n",
       "    }\n",
       "\n",
       "    .dataframe tbody tr th {\n",
       "        vertical-align: top;\n",
       "    }\n",
       "\n",
       "    .dataframe thead th {\n",
       "        text-align: right;\n",
       "    }\n",
       "</style>\n",
       "<table border=\"1\" class=\"dataframe\">\n",
       "  <thead>\n",
       "    <tr style=\"text-align: right;\">\n",
       "      <th></th>\n",
       "      <th>department</th>\n",
       "      <th>seniority</th>\n",
       "    </tr>\n",
       "  </thead>\n",
       "  <tbody>\n",
       "    <tr>\n",
       "      <th>0</th>\n",
       "      <td>IT/IS</td>\n",
       "      <td>2.7</td>\n",
       "    </tr>\n",
       "    <tr>\n",
       "      <th>1</th>\n",
       "      <td>Production</td>\n",
       "      <td>3.6</td>\n",
       "    </tr>\n",
       "    <tr>\n",
       "      <th>2</th>\n",
       "      <td>Admin Offices</td>\n",
       "      <td>3.9</td>\n",
       "    </tr>\n",
       "    <tr>\n",
       "      <th>3</th>\n",
       "      <td>Software Engineering</td>\n",
       "      <td>3.9</td>\n",
       "    </tr>\n",
       "    <tr>\n",
       "      <th>4</th>\n",
       "      <td>Sales</td>\n",
       "      <td>4.4</td>\n",
       "    </tr>\n",
       "    <tr>\n",
       "      <th>5</th>\n",
       "      <td>Executive Office</td>\n",
       "      <td>5.4</td>\n",
       "    </tr>\n",
       "  </tbody>\n",
       "</table>\n",
       "</div>"
      ],
      "text/plain": [
       "             department  seniority\n",
       "0                 IT/IS        2.7\n",
       "1     Production               3.6\n",
       "2         Admin Offices        3.9\n",
       "3  Software Engineering        3.9\n",
       "4                 Sales        4.4\n",
       "5      Executive Office        5.4"
      ]
     },
     "execution_count": 221,
     "metadata": {},
     "output_type": "execute_result"
    }
   ],
   "source": [
    "#сохраним данные в датафрейм\n",
    "df_seniority_by_department = pd.read_sql_query(sql_str, conn)\n",
    "df_seniority_by_department"
   ]
  },
  {
   "cell_type": "code",
   "execution_count": 235,
   "metadata": {},
   "outputs": [
    {
     "data": {
      "text/plain": [
       "Text(0.5, 1.0, 'Средний стаж работников по департаментам')"
      ]
     },
     "execution_count": 235,
     "metadata": {},
     "output_type": "execute_result"
    },
    {
     "data": {
      "image/png": "[encoded data removed]",
      "text/plain": [
       "<Figure size 432x288 with 1 Axes>"
      ]
     },
     "metadata": {
      "needs_background": "light"
     },
     "output_type": "display_data"
    }
   ],
   "source": [
    "# нарисуем bar-chart среднего стажа по подразделениям и линию среднего стажа по компании в целом (красная линия)\n",
    "fig, subplot = plt.subplots()\n",
    "subplot.barh(df_seniority_by_department['department'], df_seniority_by_department['seniority'])\n",
    "plt.axvline(x=avg_seniority, color='r')\n",
    "\n",
    "#дополнительно создадим подписи данных\n",
    "rects = subplot.patches\n",
    "\n",
    "labels = df_seniority_by_department['seniority'].values\n",
    "\n",
    "for rect, label in zip(rects, labels):\n",
    "    height = rect.get_height()\n",
    "    subplot.text(rect.get_width() + 0.15, rect.get_y() + height/3, label,\n",
    "            ha='center', va='bottom')\n",
    "    \n",
    "#установим минимальные x\n",
    "x_min = df_seniority_by_department['seniority'].min() - 0.6\n",
    "x_max = df_seniority_by_department['seniority'].max() + 0.3\n",
    "subplot.set_xlim(x_min, x_max)\n",
    "    \n",
    "subplot.set_title('Средний стаж работников по департаментам')"
   ]
  },
  {
   "cell_type": "markdown",
   "metadata": {},
   "source": [
    "Из диаграммы видно, что **средний стаж сотрудников IT/IS департамента ниже среднего**, а **производственного подразделения равен среднему стажу** по компании в целом. На ряду с относительно высоким уровнем текучести по данным отделам это может свидетельствовать о наличии кадровых проблем. Учитывая причины увольнения по этим подразделениям за 2016 г., данные проблемы могут быть связаны с подбором персонала, условиями труда, мотивационной стратегей hr-отдела, неконкурентоспособной заработной платой. "
   ]
  },
  {
   "cell_type": "markdown",
   "metadata": {},
   "source": [
    "### Средний стаж сотрудников на момент увольнения"
   ]
  },
  {
   "cell_type": "code",
   "execution_count": 256,
   "metadata": {},
   "outputs": [
    {
     "name": "stdout",
     "output_type": "stream",
     "text": [
      "3.3\n"
     ]
    }
   ],
   "source": [
    "#рассчитаем средний стаж работников на момент увольнения (по компании в целом) за последние два года (2015 и 2016 гг.)\n",
    "#и сохраним в переменную avg_seniority_term\n",
    "sql_str = \"\"\"\n",
    "        SELECT AVG(\"Date of Termination\" - \"Date of Hire\") / 365 AS avg_seniority_termination\n",
    "        FROM hr_dataset\n",
    "        WHERE \"Date of Termination\" IS NOT NULL\n",
    "        AND DATE_PART('year', \"Date of Termination\") IN (2015, 2016);\n",
    "\"\"\"\n",
    "cursor.execute(sql_str)\n",
    "\n",
    "for row in cursor:\n",
    "    avg_seniority_term = round(float(row[0]), 1)\n",
    "    print(avg_seniority_term)"
   ]
  },
  {
   "cell_type": "code",
   "execution_count": 257,
   "metadata": {},
   "outputs": [
    {
     "name": "stdout",
     "output_type": "stream",
     "text": [
      "IT/IS 1.2\n",
      "Sales 1.2\n",
      "Admin Offices 2.3\n",
      "Software Engineering 3.8\n",
      "Production        4.2\n"
     ]
    }
   ],
   "source": [
    "#рассчитаем средний стаж работников на момент увольнения (по компании в целом) за последние два года (2015 и 2016 гг.)\n",
    "sql_str = \"\"\"\n",
    "        SELECT department,\n",
    "        ROUND(CAST(AVG(\"Date of Termination\" - \"Date of Hire\") / 365 as numeric), 1) AS avg_seniority_term\n",
    "        FROM hr_dataset\n",
    "        WHERE \"Date of Termination\" IS NOT NULL\n",
    "        AND DATE_PART('year', \"Date of Termination\") IN (2015, 2016)\n",
    "        GROUP by department\n",
    "        ORDER BY avg_seniority_term;\n",
    "\"\"\"\n",
    "cursor.execute(sql_str)\n",
    "for row in cursor:\n",
    "    print(row[0], row[1])"
   ]
  },
  {
   "cell_type": "code",
   "execution_count": 258,
   "metadata": {},
   "outputs": [
    {
     "data": {
      "text/html": [
       "<div>\n",
       "<style scoped>\n",
       "    .dataframe tbody tr th:only-of-type {\n",
       "        vertical-align: middle;\n",
       "    }\n",
       "\n",
       "    .dataframe tbody tr th {\n",
       "        vertical-align: top;\n",
       "    }\n",
       "\n",
       "    .dataframe thead th {\n",
       "        text-align: right;\n",
       "    }\n",
       "</style>\n",
       "<table border=\"1\" class=\"dataframe\">\n",
       "  <thead>\n",
       "    <tr style=\"text-align: right;\">\n",
       "      <th></th>\n",
       "      <th>department</th>\n",
       "      <th>avg_seniority_term</th>\n",
       "    </tr>\n",
       "  </thead>\n",
       "  <tbody>\n",
       "    <tr>\n",
       "      <th>0</th>\n",
       "      <td>IT/IS</td>\n",
       "      <td>1.2</td>\n",
       "    </tr>\n",
       "    <tr>\n",
       "      <th>1</th>\n",
       "      <td>Sales</td>\n",
       "      <td>1.2</td>\n",
       "    </tr>\n",
       "    <tr>\n",
       "      <th>2</th>\n",
       "      <td>Admin Offices</td>\n",
       "      <td>2.3</td>\n",
       "    </tr>\n",
       "    <tr>\n",
       "      <th>3</th>\n",
       "      <td>Software Engineering</td>\n",
       "      <td>3.8</td>\n",
       "    </tr>\n",
       "    <tr>\n",
       "      <th>4</th>\n",
       "      <td>Production</td>\n",
       "      <td>4.2</td>\n",
       "    </tr>\n",
       "  </tbody>\n",
       "</table>\n",
       "</div>"
      ],
      "text/plain": [
       "             department  avg_seniority_term\n",
       "0                 IT/IS                 1.2\n",
       "1                 Sales                 1.2\n",
       "2         Admin Offices                 2.3\n",
       "3  Software Engineering                 3.8\n",
       "4     Production                        4.2"
      ]
     },
     "execution_count": 258,
     "metadata": {},
     "output_type": "execute_result"
    }
   ],
   "source": [
    "#сохраним данные в датафрейм\n",
    "df_avg_seniority_termination = pd.read_sql_query(sql_str, conn)\n",
    "df_avg_seniority_termination"
   ]
  },
  {
   "cell_type": "code",
   "execution_count": 265,
   "metadata": {},
   "outputs": [
    {
     "data": {
      "text/plain": [
       "Text(0.5, 1.0, 'Средний стаж работников по департаментам на момент увольнения (2015-2016 гг.)')"
      ]
     },
     "execution_count": 265,
     "metadata": {},
     "output_type": "execute_result"
    },
    {
     "data": {
      "image/png": "[encoded data removed]",
      "text/plain": [
       "<Figure size 432x288 with 1 Axes>"
      ]
     },
     "metadata": {
      "needs_background": "light"
     },
     "output_type": "display_data"
    }
   ],
   "source": [
    "#нарисуем bar-chart средний стаж работников на момент увольнения по департаментам и линию(по компании в целом)\n",
    "fig, subplot = plt.subplots()\n",
    "subplot.barh(df_avg_seniority_termination['department'], df_avg_seniority_termination['avg_seniority_term'])\n",
    "plt.axvline(x=avg_seniority_term, color='r')\n",
    "\n",
    "#дополнительно создадим подписи данных\n",
    "rects = subplot.patches\n",
    "\n",
    "labels = df_avg_seniority_termination['avg_seniority_term'].values\n",
    "\n",
    "for rect, label in zip(rects, labels):\n",
    "    height = rect.get_height()\n",
    "    subplot.text(rect.get_width() + 0.09, rect.get_y() + height/3, label,\n",
    "            ha='center', va='bottom')\n",
    "    \n",
    "#установим минимальные x\n",
    "x_min = df_avg_seniority_termination['avg_seniority_term'].min() - 0.3\n",
    "x_max = df_avg_seniority_termination['avg_seniority_term'].max() + 0.2\n",
    "subplot.set_xlim(x_min, x_max)\n",
    "    \n",
    "subplot.set_title('Средний стаж работников по департаментам на момент увольнения (2015-2016 гг.)')"
   ]
  },
  {
   "cell_type": "markdown",
   "metadata": {},
   "source": [
    "Анализ показал, что **самый низкий средний стаж сотрудника на момент увольнения**, чуть больше 1 года (1,2 года), наблюдается **в подразделениях IT/IS и Продаж**.  \n",
    "**Наиболее высокие показатели среднего стажа на момент увольнения имеют работники Производственного отдела и отдела Программного обеспечения** (4,2 и 3,8 лет соответственно).\n",
    "**Средний стаж работы по Административному подразделениям ниже среднего по компании** и составляет 2,3 года. \n",
    "\n",
    "**Рекомендации hr-отделу:**\n",
    "1. **Оказывать поддержку сотрудникам IT/IS отдела и отдела Продаж в адаптационный период**, потому что именно в это время наблюдается больше всего увольнений\n",
    "2. **По истечению сроков с момента начала работы нового сотрудника,** отраженных на диаграмме (около 2-х лет для Административного отдела, около 3-х лет для отдела Программного обеспечения и Производственного подразделения) **рекомендуется применять методы по удержанию ключевых работников**, а также **подготовить кандидатов из кадрового резерва для своевременной замены увольняющихся**."
   ]
  },
  {
   "cell_type": "markdown",
   "metadata": {},
   "source": [
    "### Производительность сотрудников компании\n",
    "Сначала определим долю работников по показателю производительности в целом по компании."
   ]
  },
  {
   "cell_type": "code",
   "execution_count": 276,
   "metadata": {},
   "outputs": [
    {
     "name": "stdout",
     "output_type": "stream",
     "text": [
      "('PIP', 5, Decimal('2.7'))\n",
      "('Needs Improvement', 7, Decimal('3.8'))\n",
      "('Exceptional', 9, Decimal('4.9'))\n",
      "('N/A- too early to review', 15, Decimal('8.2'))\n",
      "('90-day meets', 16, Decimal('8.7'))\n",
      "('Exceeds', 18, Decimal('9.8'))\n",
      "('Fully Meets', 113, Decimal('61.7'))\n"
     ]
    }
   ],
   "source": [
    "#создадим запрос для получения информации по доле сотрудников компании по производительности и округлим до десятых\n",
    "sql_str = \"\"\"\n",
    "        SELECT DISTINCT \"Performance Score\",\n",
    "        COUNT(*) OVER (partition by \"Performance Score\") AS numb_employee,\n",
    "        ROUND(CAST(100.0 * COUNT(*) OVER (partition by \"Performance Score\") / COUNT(*) \n",
    "        OVER () as numeric), 1) AS share\n",
    "        FROM hr_dataset\n",
    "        WHERE \"Employment Status\" = 'Active'\n",
    "        ORDER BY share;\n",
    "\"\"\"\n",
    "\n",
    "cursor.execute(sql_str)\n",
    "\n",
    "for row in cursor:\n",
    "    print(row)"
   ]
  },
  {
   "cell_type": "code",
   "execution_count": 277,
   "metadata": {},
   "outputs": [
    {
     "data": {
      "text/html": [
       "<div>\n",
       "<style scoped>\n",
       "    .dataframe tbody tr th:only-of-type {\n",
       "        vertical-align: middle;\n",
       "    }\n",
       "\n",
       "    .dataframe tbody tr th {\n",
       "        vertical-align: top;\n",
       "    }\n",
       "\n",
       "    .dataframe thead th {\n",
       "        text-align: right;\n",
       "    }\n",
       "</style>\n",
       "<table border=\"1\" class=\"dataframe\">\n",
       "  <thead>\n",
       "    <tr style=\"text-align: right;\">\n",
       "      <th></th>\n",
       "      <th>Performance Score</th>\n",
       "      <th>numb_employee</th>\n",
       "      <th>share</th>\n",
       "    </tr>\n",
       "  </thead>\n",
       "  <tbody>\n",
       "    <tr>\n",
       "      <th>0</th>\n",
       "      <td>PIP</td>\n",
       "      <td>5</td>\n",
       "      <td>2.7</td>\n",
       "    </tr>\n",
       "    <tr>\n",
       "      <th>1</th>\n",
       "      <td>Needs Improvement</td>\n",
       "      <td>7</td>\n",
       "      <td>3.8</td>\n",
       "    </tr>\n",
       "    <tr>\n",
       "      <th>2</th>\n",
       "      <td>Exceptional</td>\n",
       "      <td>9</td>\n",
       "      <td>4.9</td>\n",
       "    </tr>\n",
       "    <tr>\n",
       "      <th>3</th>\n",
       "      <td>N/A- too early to review</td>\n",
       "      <td>15</td>\n",
       "      <td>8.2</td>\n",
       "    </tr>\n",
       "    <tr>\n",
       "      <th>4</th>\n",
       "      <td>90-day meets</td>\n",
       "      <td>16</td>\n",
       "      <td>8.7</td>\n",
       "    </tr>\n",
       "    <tr>\n",
       "      <th>5</th>\n",
       "      <td>Exceeds</td>\n",
       "      <td>18</td>\n",
       "      <td>9.8</td>\n",
       "    </tr>\n",
       "    <tr>\n",
       "      <th>6</th>\n",
       "      <td>Fully Meets</td>\n",
       "      <td>113</td>\n",
       "      <td>61.7</td>\n",
       "    </tr>\n",
       "  </tbody>\n",
       "</table>\n",
       "</div>"
      ],
      "text/plain": [
       "          Performance Score  numb_employee  share\n",
       "0                       PIP              5    2.7\n",
       "1         Needs Improvement              7    3.8\n",
       "2               Exceptional              9    4.9\n",
       "3  N/A- too early to review             15    8.2\n",
       "4              90-day meets             16    8.7\n",
       "5                   Exceeds             18    9.8\n",
       "6               Fully Meets            113   61.7"
      ]
     },
     "execution_count": 277,
     "metadata": {},
     "output_type": "execute_result"
    }
   ],
   "source": [
    "#переведем в датафрейм, чтобы построить графики для наглядности\n",
    "df_perf_score = pd.read_sql_query(sql_str, conn)\n",
    "df_perf_score"
   ]
  },
  {
   "cell_type": "code",
   "execution_count": 278,
   "metadata": {},
   "outputs": [
    {
     "data": {
      "text/plain": [
       "<matplotlib.legend.Legend at 0x1d996c4a860>"
      ]
     },
     "execution_count": 278,
     "metadata": {},
     "output_type": "execute_result"
    },
    {
     "data": {
      "image/png": "[encoded data removed]",
      "text/plain": [
       "<Figure size 432x288 with 1 Axes>"
      ]
     },
     "metadata": {},
     "output_type": "display_data"
    }
   ],
   "source": [
    "#нарисуем график:\n",
    "fig, subplot = plt.subplots()\n",
    "wedges, text = subplot.pie(df_perf_score['share'],\n",
    "                           explode=None,\n",
    "                           labels=[f'{share} %' for share in df_perf_score.share.values])\n",
    "subplot.legend(wedges, df_perf_score['Performance Score'], loc='center left', bbox_to_anchor=(1.5, 0, 0.5, 1))"
   ]
  },
  {
   "cell_type": "markdown",
   "metadata": {},
   "source": [
    "Из полученных данных видно, что **более половины сотрудников (61,7%)** компании по показателю производительности **полностью соответствуют ожиданиям (Fully Meets)**, еще **8,7% работников достигают нужного уровня производительности уже 3 месяца подряд** (90-day meets).\n",
    "\n",
    "**14.7% сотрудников компании перевыполняют план**, из них 9,8% - превосходят плановую производительность (Exceeds) и еще 4,9% показывают выдающиеся результаты (Exceptional). \n",
    "\n",
    "Таким образом **основная часть сотрудников компании (85.1%) достигает или даже превышает плановые показатели по производительности**. \n",
    "\n",
    "8.2% работников компании пока не прошли проверку, и **только 6.5% работников компании НЕ показывают нужный уровень производительности** (Needs Improvement, PIP). При этом 2.7% из них уже включены в план по увеличению производительности (PIP). \n",
    "\n",
    "Теперь расcмотрим показатели производительности по департаментам для выявления наличия проблем в конкретных подразделениях."
   ]
  },
  {
   "cell_type": "code",
   "execution_count": 279,
   "metadata": {},
   "outputs": [
    {
     "name": "stdout",
     "output_type": "stream",
     "text": [
      "('Admin Offices', '90-day meets', 1, Decimal('14.3'))\n",
      "('Admin Offices', 'Fully Meets', 5, Decimal('71.4'))\n",
      "('Admin Offices', 'N/A- too early to review', 1, Decimal('14.3'))\n",
      "('Executive Office', 'Fully Meets', 1, Decimal('100.0'))\n",
      "('IT/IS', 'Exceptional', 4, Decimal('10.0'))\n",
      "('IT/IS', '90-day meets', 6, Decimal('15.0'))\n",
      "('IT/IS', 'N/A- too early to review', 8, Decimal('20.0'))\n",
      "('IT/IS', 'Exceeds', 2, Decimal('5.0'))\n",
      "('IT/IS', 'Needs Improvement', 1, Decimal('2.5'))\n",
      "('IT/IS', 'Fully Meets', 19, Decimal('47.5'))\n",
      "('Production       ', 'Needs Improvement', 4, Decimal('3.2'))\n",
      "('Production       ', 'Exceptional', 4, Decimal('3.2'))\n",
      "('Production       ', '90-day meets', 7, Decimal('5.6'))\n",
      "('Production       ', 'PIP', 3, Decimal('2.4'))\n",
      "('Production       ', 'Fully Meets', 78, Decimal('62.4'))\n",
      "('Production       ', 'Exceeds', 16, Decimal('12.8'))\n",
      "('Production       ', 'N/A- too early to review', 13, Decimal('10.4'))\n",
      "('Sales', '90-day meets', 2, Decimal('7.4'))\n",
      "('Sales', 'N/A- too early to review', 1, Decimal('3.7'))\n",
      "('Sales', 'Fully Meets', 18, Decimal('66.7'))\n",
      "('Sales', 'PIP', 2, Decimal('7.4'))\n",
      "('Sales', 'Exceeds', 2, Decimal('7.4'))\n",
      "('Sales', 'Needs Improvement', 2, Decimal('7.4'))\n",
      "('Software Engineering', '90-day meets', 2, Decimal('28.6'))\n",
      "('Software Engineering', 'Fully Meets', 4, Decimal('57.1'))\n",
      "('Software Engineering', 'Exceptional', 1, Decimal('14.3'))\n"
     ]
    }
   ],
   "source": [
    "#получим данные по производительности по каждому отдельному департаменту\n",
    "sql_str = \"\"\"\n",
    "        SELECT DISTINCT department, \"Performance Score\",\n",
    "        COUNT(*) OVER (partition by department, \"Performance Score\") AS numb_employee,\n",
    "        ROUND(CAST(100.0 * COUNT(*) OVER (partition by department, \"Performance Score\") / COUNT(*) \n",
    "        OVER (partition by department) as numeric), 1) AS share\n",
    "        FROM hr_dataset\n",
    "        WHERE \"Date of Termination\" IS NULL\n",
    "        ORDER BY department;\n",
    "\"\"\"\n",
    "\n",
    "cursor.execute(sql_str)\n",
    "\n",
    "for row in cursor:\n",
    "    print(row)"
   ]
  },
  {
   "cell_type": "code",
   "execution_count": 280,
   "metadata": {},
   "outputs": [
    {
     "data": {
      "text/html": [
       "<div>\n",
       "<style scoped>\n",
       "    .dataframe tbody tr th:only-of-type {\n",
       "        vertical-align: middle;\n",
       "    }\n",
       "\n",
       "    .dataframe tbody tr th {\n",
       "        vertical-align: top;\n",
       "    }\n",
       "\n",
       "    .dataframe thead th {\n",
       "        text-align: right;\n",
       "    }\n",
       "</style>\n",
       "<table border=\"1\" class=\"dataframe\">\n",
       "  <thead>\n",
       "    <tr style=\"text-align: right;\">\n",
       "      <th></th>\n",
       "      <th>department</th>\n",
       "      <th>Performance Score</th>\n",
       "      <th>numb_employee</th>\n",
       "      <th>share</th>\n",
       "    </tr>\n",
       "  </thead>\n",
       "  <tbody>\n",
       "    <tr>\n",
       "      <th>0</th>\n",
       "      <td>Admin Offices</td>\n",
       "      <td>90-day meets</td>\n",
       "      <td>1</td>\n",
       "      <td>14.3</td>\n",
       "    </tr>\n",
       "    <tr>\n",
       "      <th>1</th>\n",
       "      <td>Admin Offices</td>\n",
       "      <td>Fully Meets</td>\n",
       "      <td>5</td>\n",
       "      <td>71.4</td>\n",
       "    </tr>\n",
       "    <tr>\n",
       "      <th>2</th>\n",
       "      <td>Admin Offices</td>\n",
       "      <td>N/A- too early to review</td>\n",
       "      <td>1</td>\n",
       "      <td>14.3</td>\n",
       "    </tr>\n",
       "    <tr>\n",
       "      <th>3</th>\n",
       "      <td>Executive Office</td>\n",
       "      <td>Fully Meets</td>\n",
       "      <td>1</td>\n",
       "      <td>100.0</td>\n",
       "    </tr>\n",
       "    <tr>\n",
       "      <th>4</th>\n",
       "      <td>IT/IS</td>\n",
       "      <td>Exceptional</td>\n",
       "      <td>4</td>\n",
       "      <td>10.0</td>\n",
       "    </tr>\n",
       "    <tr>\n",
       "      <th>5</th>\n",
       "      <td>IT/IS</td>\n",
       "      <td>90-day meets</td>\n",
       "      <td>6</td>\n",
       "      <td>15.0</td>\n",
       "    </tr>\n",
       "    <tr>\n",
       "      <th>6</th>\n",
       "      <td>IT/IS</td>\n",
       "      <td>N/A- too early to review</td>\n",
       "      <td>8</td>\n",
       "      <td>20.0</td>\n",
       "    </tr>\n",
       "    <tr>\n",
       "      <th>7</th>\n",
       "      <td>IT/IS</td>\n",
       "      <td>Exceeds</td>\n",
       "      <td>2</td>\n",
       "      <td>5.0</td>\n",
       "    </tr>\n",
       "    <tr>\n",
       "      <th>8</th>\n",
       "      <td>IT/IS</td>\n",
       "      <td>Needs Improvement</td>\n",
       "      <td>1</td>\n",
       "      <td>2.5</td>\n",
       "    </tr>\n",
       "    <tr>\n",
       "      <th>9</th>\n",
       "      <td>IT/IS</td>\n",
       "      <td>Fully Meets</td>\n",
       "      <td>19</td>\n",
       "      <td>47.5</td>\n",
       "    </tr>\n",
       "    <tr>\n",
       "      <th>10</th>\n",
       "      <td>Production</td>\n",
       "      <td>Needs Improvement</td>\n",
       "      <td>4</td>\n",
       "      <td>3.2</td>\n",
       "    </tr>\n",
       "    <tr>\n",
       "      <th>11</th>\n",
       "      <td>Production</td>\n",
       "      <td>Exceptional</td>\n",
       "      <td>4</td>\n",
       "      <td>3.2</td>\n",
       "    </tr>\n",
       "    <tr>\n",
       "      <th>12</th>\n",
       "      <td>Production</td>\n",
       "      <td>90-day meets</td>\n",
       "      <td>7</td>\n",
       "      <td>5.6</td>\n",
       "    </tr>\n",
       "    <tr>\n",
       "      <th>13</th>\n",
       "      <td>Production</td>\n",
       "      <td>PIP</td>\n",
       "      <td>3</td>\n",
       "      <td>2.4</td>\n",
       "    </tr>\n",
       "    <tr>\n",
       "      <th>14</th>\n",
       "      <td>Production</td>\n",
       "      <td>Fully Meets</td>\n",
       "      <td>78</td>\n",
       "      <td>62.4</td>\n",
       "    </tr>\n",
       "    <tr>\n",
       "      <th>15</th>\n",
       "      <td>Production</td>\n",
       "      <td>Exceeds</td>\n",
       "      <td>16</td>\n",
       "      <td>12.8</td>\n",
       "    </tr>\n",
       "    <tr>\n",
       "      <th>16</th>\n",
       "      <td>Production</td>\n",
       "      <td>N/A- too early to review</td>\n",
       "      <td>13</td>\n",
       "      <td>10.4</td>\n",
       "    </tr>\n",
       "    <tr>\n",
       "      <th>17</th>\n",
       "      <td>Sales</td>\n",
       "      <td>90-day meets</td>\n",
       "      <td>2</td>\n",
       "      <td>7.4</td>\n",
       "    </tr>\n",
       "    <tr>\n",
       "      <th>18</th>\n",
       "      <td>Sales</td>\n",
       "      <td>N/A- too early to review</td>\n",
       "      <td>1</td>\n",
       "      <td>3.7</td>\n",
       "    </tr>\n",
       "    <tr>\n",
       "      <th>19</th>\n",
       "      <td>Sales</td>\n",
       "      <td>Fully Meets</td>\n",
       "      <td>18</td>\n",
       "      <td>66.7</td>\n",
       "    </tr>\n",
       "    <tr>\n",
       "      <th>20</th>\n",
       "      <td>Sales</td>\n",
       "      <td>PIP</td>\n",
       "      <td>2</td>\n",
       "      <td>7.4</td>\n",
       "    </tr>\n",
       "    <tr>\n",
       "      <th>21</th>\n",
       "      <td>Sales</td>\n",
       "      <td>Exceeds</td>\n",
       "      <td>2</td>\n",
       "      <td>7.4</td>\n",
       "    </tr>\n",
       "    <tr>\n",
       "      <th>22</th>\n",
       "      <td>Sales</td>\n",
       "      <td>Needs Improvement</td>\n",
       "      <td>2</td>\n",
       "      <td>7.4</td>\n",
       "    </tr>\n",
       "    <tr>\n",
       "      <th>23</th>\n",
       "      <td>Software Engineering</td>\n",
       "      <td>90-day meets</td>\n",
       "      <td>2</td>\n",
       "      <td>28.6</td>\n",
       "    </tr>\n",
       "    <tr>\n",
       "      <th>24</th>\n",
       "      <td>Software Engineering</td>\n",
       "      <td>Fully Meets</td>\n",
       "      <td>4</td>\n",
       "      <td>57.1</td>\n",
       "    </tr>\n",
       "    <tr>\n",
       "      <th>25</th>\n",
       "      <td>Software Engineering</td>\n",
       "      <td>Exceptional</td>\n",
       "      <td>1</td>\n",
       "      <td>14.3</td>\n",
       "    </tr>\n",
       "  </tbody>\n",
       "</table>\n",
       "</div>"
      ],
      "text/plain": [
       "              department         Performance Score  numb_employee  share\n",
       "0          Admin Offices              90-day meets              1   14.3\n",
       "1          Admin Offices               Fully Meets              5   71.4\n",
       "2          Admin Offices  N/A- too early to review              1   14.3\n",
       "3       Executive Office               Fully Meets              1  100.0\n",
       "4                  IT/IS               Exceptional              4   10.0\n",
       "5                  IT/IS              90-day meets              6   15.0\n",
       "6                  IT/IS  N/A- too early to review              8   20.0\n",
       "7                  IT/IS                   Exceeds              2    5.0\n",
       "8                  IT/IS         Needs Improvement              1    2.5\n",
       "9                  IT/IS               Fully Meets             19   47.5\n",
       "10     Production                Needs Improvement              4    3.2\n",
       "11     Production                      Exceptional              4    3.2\n",
       "12     Production                     90-day meets              7    5.6\n",
       "13     Production                              PIP              3    2.4\n",
       "14     Production                      Fully Meets             78   62.4\n",
       "15     Production                          Exceeds             16   12.8\n",
       "16     Production         N/A- too early to review             13   10.4\n",
       "17                 Sales              90-day meets              2    7.4\n",
       "18                 Sales  N/A- too early to review              1    3.7\n",
       "19                 Sales               Fully Meets             18   66.7\n",
       "20                 Sales                       PIP              2    7.4\n",
       "21                 Sales                   Exceeds              2    7.4\n",
       "22                 Sales         Needs Improvement              2    7.4\n",
       "23  Software Engineering              90-day meets              2   28.6\n",
       "24  Software Engineering               Fully Meets              4   57.1\n",
       "25  Software Engineering               Exceptional              1   14.3"
      ]
     },
     "execution_count": 280,
     "metadata": {},
     "output_type": "execute_result"
    }
   ],
   "source": [
    "#переведем в датафрейм, чтобы построить графики для наглядности\n",
    "df_perf_score_by_dep = pd.read_sql_query(sql_str, conn)\n",
    "df_perf_score_by_dep"
   ]
  },
  {
   "cell_type": "code",
   "execution_count": 281,
   "metadata": {},
   "outputs": [
    {
     "data": {
      "image/png": "[encoded data removed]",
      "text/plain": [
       "<Figure size 432x288 with 1 Axes>"
      ]
     },
     "metadata": {},
     "output_type": "display_data"
    },
    {
     "data": {
      "image/png": "[encoded data removed]",
      "text/plain": [
       "<Figure size 432x288 with 1 Axes>"
      ]
     },
     "metadata": {},
     "output_type": "display_data"
    },
    {
     "data": {
      "image/png": "[encoded data removed]",
      "text/plain": [
       "<Figure size 432x288 with 1 Axes>"
      ]
     },
     "metadata": {},
     "output_type": "display_data"
    },
    {
     "data": {
      "image/png": "[encoded data removed]",
      "text/plain": [
       "<Figure size 432x288 with 1 Axes>"
      ]
     },
     "metadata": {},
     "output_type": "display_data"
    },
    {
     "data": {
      "image/png": "[encoded data removed]",
      "text/plain": [
       "<Figure size 432x288 with 1 Axes>"
      ]
     },
     "metadata": {},
     "output_type": "display_data"
    },
    {
     "data": {
      "image/png": "[encoded data removed]",
      "text/plain": [
       "<Figure size 432x288 with 1 Axes>"
      ]
     },
     "metadata": {},
     "output_type": "display_data"
    }
   ],
   "source": [
    "# Построим круговые диаграммы по каждому департаменту\n",
    "# В цикле нарисуем 15 графиков, для этого созадим на каждом этапе цикла по холсту\n",
    "departments = df_perf_score_by_dep['department'].unique().tolist()\n",
    "for n in range (6):\n",
    "    n1 = str(n)\n",
    "    name_subplot = 'subplot' + n1\n",
    "    name_fig = 'fig' + n1\n",
    "    name_fig, name_subplot = plt.subplots()\n",
    "    wedges, text = name_subplot.pie(df_perf_score_by_dep[df_perf_score_by_dep['department'] == departments[n]]['share'],\n",
    "                                    explode=None,\n",
    "                                    labels=[f'{share} %' for share in df_perf_score_by_dep[\n",
    "                                        df_perf_score_by_dep['department'] == departments[n]]['share'].values])\n",
    "    name_subplot.legend(wedges, df_perf_score_by_dep[df_perf_score_by_dep['department'] == departments[n]][\n",
    "        'Performance Score'], loc='center left', bbox_to_anchor=(1.5, 0, 0.5, 1))  \n",
    "    name_subplot.set_title(f'Доля работников по показателю производительности в департаменте {departments[n]}')"
   ]
  },
  {
   "cell_type": "markdown",
   "metadata": {},
   "source": [
    "Между диаграммами по подразделениям есть определенные отличия, но тем не менее, в целом они повторяют общую тенденцию и **ситуация с показателями производительности сотрудников по компании весьма ровная**. Тем не менее, **можно выделить подразделения Admin Officer и Software Engineering** (Executive Officer не берем в расчет), **по которым все сотрудники достигают нужных показателей производительности**. Вероятно это связано с их малочисленностью (в них работает по 7 человек в каждом).\n",
    "\n",
    "Теперь проанализируем, есть ли зависимость между показателями производительности и возрастом сотрудника компании, а также стажем работы в компании и производительностью работника:"
   ]
  },
  {
   "cell_type": "markdown",
   "metadata": {},
   "source": [
    "### Гипотезы 1 и 2. Между средним возрастом сотрудников и производительностью, средним стажем и производительностью есть взаимосвязь."
   ]
  },
  {
   "cell_type": "code",
   "execution_count": 440,
   "metadata": {},
   "outputs": [
    {
     "name": "stdout",
     "output_type": "stream",
     "text": [
      "('Needs Improvement', 7, Decimal('36.0'), Decimal('5.0'))\n",
      "('90-day meets', 16, Decimal('36.8'), Decimal('3.8'))\n",
      "('Exceptional', 9, Decimal('38.0'), Decimal('4.7'))\n",
      "('Fully Meets', 113, Decimal('38.7'), Decimal('4.5'))\n",
      "('Exceeds', 18, Decimal('39.4'), Decimal('5.3'))\n",
      "('PIP', 5, Decimal('40.6'), Decimal('4.4'))\n"
     ]
    }
   ],
   "source": [
    "# выгрузим из БД средний возраст и средний стаж работника по показателям производительности, округлим до десятых:\n",
    "sql_str = \"\"\"\n",
    "        SELECT \"Performance Score\", \n",
    "        COUNT(*) as count,\n",
    "        ROUND(CAST(AVG(age) as numeric), 1) AS avg_age,\n",
    "        ROUND(CAST(AVG(\"Days Employed\") / 365 as numeric), 1) AS avg_exp\n",
    "        FROM hr_dataset\n",
    "        WHERE \"Employment Status\" = 'Active'\n",
    "        AND \"Performance Score\" != 'N/A- too early to review'\n",
    "        GROUP BY \"Performance Score\"\n",
    "        ORDER BY avg_age;\n",
    "\"\"\"\n",
    "\n",
    "cursor.execute(sql_str)\n",
    "\n",
    "for row in cursor:\n",
    "    print(row)"
   ]
  },
  {
   "cell_type": "code",
   "execution_count": 441,
   "metadata": {},
   "outputs": [
    {
     "data": {
      "text/html": [
       "<div>\n",
       "<style scoped>\n",
       "    .dataframe tbody tr th:only-of-type {\n",
       "        vertical-align: middle;\n",
       "    }\n",
       "\n",
       "    .dataframe tbody tr th {\n",
       "        vertical-align: top;\n",
       "    }\n",
       "\n",
       "    .dataframe thead th {\n",
       "        text-align: right;\n",
       "    }\n",
       "</style>\n",
       "<table border=\"1\" class=\"dataframe\">\n",
       "  <thead>\n",
       "    <tr style=\"text-align: right;\">\n",
       "      <th></th>\n",
       "      <th>Performance Score</th>\n",
       "      <th>count</th>\n",
       "      <th>avg_age</th>\n",
       "      <th>avg_exp</th>\n",
       "    </tr>\n",
       "  </thead>\n",
       "  <tbody>\n",
       "    <tr>\n",
       "      <th>0</th>\n",
       "      <td>Needs Improvement</td>\n",
       "      <td>7</td>\n",
       "      <td>36.0</td>\n",
       "      <td>5.0</td>\n",
       "    </tr>\n",
       "    <tr>\n",
       "      <th>1</th>\n",
       "      <td>90-day meets</td>\n",
       "      <td>16</td>\n",
       "      <td>36.8</td>\n",
       "      <td>3.8</td>\n",
       "    </tr>\n",
       "    <tr>\n",
       "      <th>2</th>\n",
       "      <td>Exceptional</td>\n",
       "      <td>9</td>\n",
       "      <td>38.0</td>\n",
       "      <td>4.7</td>\n",
       "    </tr>\n",
       "    <tr>\n",
       "      <th>3</th>\n",
       "      <td>Fully Meets</td>\n",
       "      <td>113</td>\n",
       "      <td>38.7</td>\n",
       "      <td>4.5</td>\n",
       "    </tr>\n",
       "    <tr>\n",
       "      <th>4</th>\n",
       "      <td>Exceeds</td>\n",
       "      <td>18</td>\n",
       "      <td>39.4</td>\n",
       "      <td>5.3</td>\n",
       "    </tr>\n",
       "    <tr>\n",
       "      <th>5</th>\n",
       "      <td>PIP</td>\n",
       "      <td>5</td>\n",
       "      <td>40.6</td>\n",
       "      <td>4.4</td>\n",
       "    </tr>\n",
       "  </tbody>\n",
       "</table>\n",
       "</div>"
      ],
      "text/plain": [
       "   Performance Score  count  avg_age  avg_exp\n",
       "0  Needs Improvement      7     36.0      5.0\n",
       "1       90-day meets     16     36.8      3.8\n",
       "2        Exceptional      9     38.0      4.7\n",
       "3        Fully Meets    113     38.7      4.5\n",
       "4            Exceeds     18     39.4      5.3\n",
       "5                PIP      5     40.6      4.4"
      ]
     },
     "execution_count": 441,
     "metadata": {},
     "output_type": "execute_result"
    }
   ],
   "source": [
    "#переведем в датафрейм для нагядности\n",
    "df_perf_score_age_exp= pd.read_sql_query(sql_str, conn)\n",
    "df_perf_score_age_exp"
   ]
  },
  {
   "cell_type": "code",
   "execution_count": 296,
   "metadata": {},
   "outputs": [
    {
     "data": {
      "text/plain": [
       "<matplotlib.axes._subplots.AxesSubplot at 0x1d9996fefd0>"
      ]
     },
     "execution_count": 296,
     "metadata": {},
     "output_type": "execute_result"
    },
    {
     "data": {
      "image/png": "[encoded data removed]",
      "text/plain": [
       "<Figure size 504x360 with 2 Axes>"
      ]
     },
     "metadata": {
      "needs_background": "light"
     },
     "output_type": "display_data"
    }
   ],
   "source": [
    "#для расчета коэффициента корреляции переведем номинальную шкалу производительности в ранговую \n",
    "#(1-самая ниpкая производительность (Needs Improvement), 5 - самая высокая (Exceptional)) и построим матрицу\n",
    "df_perf_score_age_exp['perf_id'] = [1, 3, 6, 4, 5, 2]\n",
    "research_list = ['avg_age', 'avg_exp', 'perf_id']\n",
    "corr_p = df_perf_score_age_exp[research_list].corr()\n",
    "plt.figure(figsize=(7,5))\n",
    "sns.heatmap(corr_p, center=0, annot=True)"
   ]
  },
  {
   "cell_type": "markdown",
   "metadata": {},
   "source": [
    "**Из таблицы видно, что есть определенная связь между возрастом и показателями производительности**. Cамое низкое значение среднего возраста (36,0 лет) зафиксировано у работников, нуждающихся в улучшении показателя производительности (Needs Improvement). При этом средний возраст работников, чьи показатели соответствуют плановым или их превышают, более 38,0 лет.\n",
    "\n",
    "С другой стороны, средний возраст работников, включенных в план по увеличению производительности (PIP) составляет 40,6 лет, что свидетельствует о том, что часть более возрастных сотрудников может показывать низкие результаты.\n",
    "\n",
    "О наличии слабой связи между возрастом и показателем производительности говорит и коэффициент корреляции Пирсона (0,26).\n",
    "\n",
    "**Что касается стажа работы в компании, то прямой связи с производительностью не наблюдается**. Низкие показатели производительности показывают далеко не новые работники. Средний стаж тех, кто не достигает плановых показателей составляет 5,0 лет, а тех кто включен в план по увеличению производительности - 4,4 года. Для сравнения, сотрудники с меньшим показателем среднего стажа (3,8 лет) показывают плановые показатели в течение 3 месяцев подряд (90-day meets), а со средним стажем 4,5 лет - полностью соответствуют ожиданиям компании по своим показателям производительности (Fully Meets).\n",
    "\n",
    "**В целом, на основании анализа можно дать рекомендацию hr-отделу оказывать большую поддержку молодым сотрудникам** для того, чтобы их показатели производительности быстрее выходили на требуемый уровень, поскольку отставание каждого сотрудника порождает уменьшение выручки компании. Также **в процессе рекрутинга рекомендуется отдавать прредпочтение более возрастным, а следовательно и более опытным работникам**, поскольку именно они достигаю наилучших показателей по производительности.\n",
    "\n",
    "Теперь рассмотрим данные метрики в разрезе отдельных департаментов, чтобы понять для всех ли подразделений справедливы сделанные выше выводы."
   ]
  },
  {
   "cell_type": "code",
   "execution_count": 304,
   "metadata": {},
   "outputs": [
    {
     "name": "stdout",
     "output_type": "stream",
     "text": [
      "('Admin Offices', 9, 'N/A- too early to review', Decimal('30.0'), Decimal('2.6'))\n",
      "('Admin Offices', 0, '90-day meets', Decimal('31.0'), Decimal('2.8'))\n",
      "('Admin Offices', 3, 'Fully Meets', Decimal('33.4'), Decimal('5.4'))\n",
      "('Executive Office', 3, 'Fully Meets', Decimal('63.0'), Decimal('5.4'))\n",
      "('IT/IS', 2, 'Needs Improvement', Decimal('31.0'), Decimal('5.8'))\n",
      "('IT/IS', 5, 'Exceptional', Decimal('34.3'), Decimal('5.1'))\n",
      "('IT/IS', 9, 'N/A- too early to review', Decimal('34.8'), Decimal('2.3'))\n",
      "('IT/IS', 4, 'Exceeds', Decimal('38.0'), Decimal('5.4'))\n",
      "('IT/IS', 0, '90-day meets', Decimal('38.2'), Decimal('2.9'))\n",
      "('IT/IS', 3, 'Fully Meets', Decimal('39.6'), Decimal('2.6'))\n",
      "('Production       ', 9, 'N/A- too early to review', Decimal('34.2'), Decimal('2.4'))\n",
      "('Production       ', 2, 'Needs Improvement', Decimal('36.5'), Decimal('5.7'))\n",
      "('Production       ', 0, '90-day meets', Decimal('38.4'), Decimal('4.3'))\n",
      "('Production       ', 3, 'Fully Meets', Decimal('38.9'), Decimal('4.9'))\n",
      "('Production       ', 4, 'Exceeds', Decimal('40.3'), Decimal('4.3'))\n",
      "('Production       ', 5, 'Exceptional', Decimal('42.5'), Decimal('4.6'))\n",
      "('Production       ', 1, 'PIP', Decimal('42.7'), Decimal('4.2'))\n",
      "('Sales', 0, '90-day meets', Decimal('32.0'), Decimal('2.8'))\n",
      "('Sales', 9, 'N/A- too early to review', Decimal('33.0'), Decimal('1.4'))\n",
      "('Sales', 2, 'Needs Improvement', Decimal('37.5'), Decimal('3.3'))\n",
      "('Sales', 1, 'PIP', Decimal('37.5'), Decimal('4.7'))\n",
      "('Sales', 3, 'Fully Meets', Decimal('39.4'), Decimal('4.8'))\n",
      "('Sales', 4, 'Exceeds', Decimal('39.5'), Decimal('9.4'))\n",
      "('Software Engineering', 0, '90-day meets', Decimal('34.5'), Decimal('5.0'))\n",
      "('Software Engineering', 5, 'Exceptional', Decimal('35.0'), Decimal('3.4'))\n",
      "('Software Engineering', 3, 'Fully Meets', Decimal('37.8'), Decimal('4.6'))\n"
     ]
    }
   ],
   "source": [
    "# выгрузим из БД средний возраст и стаж работника по показателям производительности в разрезе отдельных департаментов:\n",
    "sql_str = \"\"\"\n",
    "        SELECT department, \"perf_scoreid\", \"Performance Score\", \n",
    "        ROUND(CAST(AVG(age) as numeric), 1) AS avg_age,\n",
    "        ROUND(CAST(AVG(\"Days Employed\") / 365 as numeric), 1) AS avg_experience\n",
    "        FROM hr_dataset\n",
    "        WHERE \"Date of Termination\" IS NULL\n",
    "        GROUP BY department, \"Performance Score\", \"perf_scoreid\"\n",
    "        ORDER BY department, \"avg_age\";\n",
    "\"\"\"\n",
    "\n",
    "cursor.execute(sql_str)\n",
    "\n",
    "for row in cursor:\n",
    "    print(row)"
   ]
  },
  {
   "cell_type": "code",
   "execution_count": 305,
   "metadata": {},
   "outputs": [
    {
     "data": {
      "text/html": [
       "<div>\n",
       "<style scoped>\n",
       "    .dataframe tbody tr th:only-of-type {\n",
       "        vertical-align: middle;\n",
       "    }\n",
       "\n",
       "    .dataframe tbody tr th {\n",
       "        vertical-align: top;\n",
       "    }\n",
       "\n",
       "    .dataframe thead th {\n",
       "        text-align: right;\n",
       "    }\n",
       "</style>\n",
       "<table border=\"1\" class=\"dataframe\">\n",
       "  <thead>\n",
       "    <tr style=\"text-align: right;\">\n",
       "      <th></th>\n",
       "      <th>department</th>\n",
       "      <th>perf_scoreid</th>\n",
       "      <th>Performance Score</th>\n",
       "      <th>avg_age</th>\n",
       "      <th>avg_experience</th>\n",
       "    </tr>\n",
       "  </thead>\n",
       "  <tbody>\n",
       "    <tr>\n",
       "      <th>0</th>\n",
       "      <td>Admin Offices</td>\n",
       "      <td>9</td>\n",
       "      <td>N/A- too early to review</td>\n",
       "      <td>30.0</td>\n",
       "      <td>2.6</td>\n",
       "    </tr>\n",
       "    <tr>\n",
       "      <th>1</th>\n",
       "      <td>Admin Offices</td>\n",
       "      <td>0</td>\n",
       "      <td>90-day meets</td>\n",
       "      <td>31.0</td>\n",
       "      <td>2.8</td>\n",
       "    </tr>\n",
       "    <tr>\n",
       "      <th>2</th>\n",
       "      <td>Admin Offices</td>\n",
       "      <td>3</td>\n",
       "      <td>Fully Meets</td>\n",
       "      <td>33.4</td>\n",
       "      <td>5.4</td>\n",
       "    </tr>\n",
       "    <tr>\n",
       "      <th>3</th>\n",
       "      <td>Executive Office</td>\n",
       "      <td>3</td>\n",
       "      <td>Fully Meets</td>\n",
       "      <td>63.0</td>\n",
       "      <td>5.4</td>\n",
       "    </tr>\n",
       "    <tr>\n",
       "      <th>4</th>\n",
       "      <td>IT/IS</td>\n",
       "      <td>2</td>\n",
       "      <td>Needs Improvement</td>\n",
       "      <td>31.0</td>\n",
       "      <td>5.8</td>\n",
       "    </tr>\n",
       "    <tr>\n",
       "      <th>5</th>\n",
       "      <td>IT/IS</td>\n",
       "      <td>5</td>\n",
       "      <td>Exceptional</td>\n",
       "      <td>34.3</td>\n",
       "      <td>5.1</td>\n",
       "    </tr>\n",
       "    <tr>\n",
       "      <th>6</th>\n",
       "      <td>IT/IS</td>\n",
       "      <td>9</td>\n",
       "      <td>N/A- too early to review</td>\n",
       "      <td>34.8</td>\n",
       "      <td>2.3</td>\n",
       "    </tr>\n",
       "    <tr>\n",
       "      <th>7</th>\n",
       "      <td>IT/IS</td>\n",
       "      <td>4</td>\n",
       "      <td>Exceeds</td>\n",
       "      <td>38.0</td>\n",
       "      <td>5.4</td>\n",
       "    </tr>\n",
       "    <tr>\n",
       "      <th>8</th>\n",
       "      <td>IT/IS</td>\n",
       "      <td>0</td>\n",
       "      <td>90-day meets</td>\n",
       "      <td>38.2</td>\n",
       "      <td>2.9</td>\n",
       "    </tr>\n",
       "    <tr>\n",
       "      <th>9</th>\n",
       "      <td>IT/IS</td>\n",
       "      <td>3</td>\n",
       "      <td>Fully Meets</td>\n",
       "      <td>39.6</td>\n",
       "      <td>2.6</td>\n",
       "    </tr>\n",
       "    <tr>\n",
       "      <th>10</th>\n",
       "      <td>Production</td>\n",
       "      <td>9</td>\n",
       "      <td>N/A- too early to review</td>\n",
       "      <td>34.2</td>\n",
       "      <td>2.4</td>\n",
       "    </tr>\n",
       "    <tr>\n",
       "      <th>11</th>\n",
       "      <td>Production</td>\n",
       "      <td>2</td>\n",
       "      <td>Needs Improvement</td>\n",
       "      <td>36.5</td>\n",
       "      <td>5.7</td>\n",
       "    </tr>\n",
       "    <tr>\n",
       "      <th>12</th>\n",
       "      <td>Production</td>\n",
       "      <td>0</td>\n",
       "      <td>90-day meets</td>\n",
       "      <td>38.4</td>\n",
       "      <td>4.3</td>\n",
       "    </tr>\n",
       "    <tr>\n",
       "      <th>13</th>\n",
       "      <td>Production</td>\n",
       "      <td>3</td>\n",
       "      <td>Fully Meets</td>\n",
       "      <td>38.9</td>\n",
       "      <td>4.9</td>\n",
       "    </tr>\n",
       "    <tr>\n",
       "      <th>14</th>\n",
       "      <td>Production</td>\n",
       "      <td>4</td>\n",
       "      <td>Exceeds</td>\n",
       "      <td>40.3</td>\n",
       "      <td>4.3</td>\n",
       "    </tr>\n",
       "    <tr>\n",
       "      <th>15</th>\n",
       "      <td>Production</td>\n",
       "      <td>5</td>\n",
       "      <td>Exceptional</td>\n",
       "      <td>42.5</td>\n",
       "      <td>4.6</td>\n",
       "    </tr>\n",
       "    <tr>\n",
       "      <th>16</th>\n",
       "      <td>Production</td>\n",
       "      <td>1</td>\n",
       "      <td>PIP</td>\n",
       "      <td>42.7</td>\n",
       "      <td>4.2</td>\n",
       "    </tr>\n",
       "    <tr>\n",
       "      <th>17</th>\n",
       "      <td>Sales</td>\n",
       "      <td>0</td>\n",
       "      <td>90-day meets</td>\n",
       "      <td>32.0</td>\n",
       "      <td>2.8</td>\n",
       "    </tr>\n",
       "    <tr>\n",
       "      <th>18</th>\n",
       "      <td>Sales</td>\n",
       "      <td>9</td>\n",
       "      <td>N/A- too early to review</td>\n",
       "      <td>33.0</td>\n",
       "      <td>1.4</td>\n",
       "    </tr>\n",
       "    <tr>\n",
       "      <th>19</th>\n",
       "      <td>Sales</td>\n",
       "      <td>2</td>\n",
       "      <td>Needs Improvement</td>\n",
       "      <td>37.5</td>\n",
       "      <td>3.3</td>\n",
       "    </tr>\n",
       "    <tr>\n",
       "      <th>20</th>\n",
       "      <td>Sales</td>\n",
       "      <td>1</td>\n",
       "      <td>PIP</td>\n",
       "      <td>37.5</td>\n",
       "      <td>4.7</td>\n",
       "    </tr>\n",
       "    <tr>\n",
       "      <th>21</th>\n",
       "      <td>Sales</td>\n",
       "      <td>3</td>\n",
       "      <td>Fully Meets</td>\n",
       "      <td>39.4</td>\n",
       "      <td>4.8</td>\n",
       "    </tr>\n",
       "    <tr>\n",
       "      <th>22</th>\n",
       "      <td>Sales</td>\n",
       "      <td>4</td>\n",
       "      <td>Exceeds</td>\n",
       "      <td>39.5</td>\n",
       "      <td>9.4</td>\n",
       "    </tr>\n",
       "    <tr>\n",
       "      <th>23</th>\n",
       "      <td>Software Engineering</td>\n",
       "      <td>0</td>\n",
       "      <td>90-day meets</td>\n",
       "      <td>34.5</td>\n",
       "      <td>5.0</td>\n",
       "    </tr>\n",
       "    <tr>\n",
       "      <th>24</th>\n",
       "      <td>Software Engineering</td>\n",
       "      <td>5</td>\n",
       "      <td>Exceptional</td>\n",
       "      <td>35.0</td>\n",
       "      <td>3.4</td>\n",
       "    </tr>\n",
       "    <tr>\n",
       "      <th>25</th>\n",
       "      <td>Software Engineering</td>\n",
       "      <td>3</td>\n",
       "      <td>Fully Meets</td>\n",
       "      <td>37.8</td>\n",
       "      <td>4.6</td>\n",
       "    </tr>\n",
       "  </tbody>\n",
       "</table>\n",
       "</div>"
      ],
      "text/plain": [
       "              department  perf_scoreid         Performance Score  avg_age  \\\n",
       "0          Admin Offices             9  N/A- too early to review     30.0   \n",
       "1          Admin Offices             0              90-day meets     31.0   \n",
       "2          Admin Offices             3               Fully Meets     33.4   \n",
       "3       Executive Office             3               Fully Meets     63.0   \n",
       "4                  IT/IS             2         Needs Improvement     31.0   \n",
       "5                  IT/IS             5               Exceptional     34.3   \n",
       "6                  IT/IS             9  N/A- too early to review     34.8   \n",
       "7                  IT/IS             4                   Exceeds     38.0   \n",
       "8                  IT/IS             0              90-day meets     38.2   \n",
       "9                  IT/IS             3               Fully Meets     39.6   \n",
       "10     Production                    9  N/A- too early to review     34.2   \n",
       "11     Production                    2         Needs Improvement     36.5   \n",
       "12     Production                    0              90-day meets     38.4   \n",
       "13     Production                    3               Fully Meets     38.9   \n",
       "14     Production                    4                   Exceeds     40.3   \n",
       "15     Production                    5               Exceptional     42.5   \n",
       "16     Production                    1                       PIP     42.7   \n",
       "17                 Sales             0              90-day meets     32.0   \n",
       "18                 Sales             9  N/A- too early to review     33.0   \n",
       "19                 Sales             2         Needs Improvement     37.5   \n",
       "20                 Sales             1                       PIP     37.5   \n",
       "21                 Sales             3               Fully Meets     39.4   \n",
       "22                 Sales             4                   Exceeds     39.5   \n",
       "23  Software Engineering             0              90-day meets     34.5   \n",
       "24  Software Engineering             5               Exceptional     35.0   \n",
       "25  Software Engineering             3               Fully Meets     37.8   \n",
       "\n",
       "    avg_experience  \n",
       "0              2.6  \n",
       "1              2.8  \n",
       "2              5.4  \n",
       "3              5.4  \n",
       "4              5.8  \n",
       "5              5.1  \n",
       "6              2.3  \n",
       "7              5.4  \n",
       "8              2.9  \n",
       "9              2.6  \n",
       "10             2.4  \n",
       "11             5.7  \n",
       "12             4.3  \n",
       "13             4.9  \n",
       "14             4.3  \n",
       "15             4.6  \n",
       "16             4.2  \n",
       "17             2.8  \n",
       "18             1.4  \n",
       "19             3.3  \n",
       "20             4.7  \n",
       "21             4.8  \n",
       "22             9.4  \n",
       "23             5.0  \n",
       "24             3.4  \n",
       "25             4.6  "
      ]
     },
     "execution_count": 305,
     "metadata": {},
     "output_type": "execute_result"
    }
   ],
   "source": [
    "#выгрузим данные в датафрейм\n",
    "df_avg_age_by_dep = pd.read_sql_query(sql_str, conn)\n",
    "df_avg_age_by_dep"
   ]
  },
  {
   "cell_type": "code",
   "execution_count": 309,
   "metadata": {},
   "outputs": [
    {
     "data": {
      "image/png": "[encoded data removed]",
      "text/plain": [
       "<Figure size 432x288 with 1 Axes>"
      ]
     },
     "metadata": {
      "needs_background": "light"
     },
     "output_type": "display_data"
    },
    {
     "data": {
      "image/png": "[encoded data removed]",
      "text/plain": [
       "<Figure size 432x288 with 1 Axes>"
      ]
     },
     "metadata": {
      "needs_background": "light"
     },
     "output_type": "display_data"
    },
    {
     "data": {
      "image/png": "[encoded data removed]",
      "text/plain": [
       "<Figure size 432x288 with 1 Axes>"
      ]
     },
     "metadata": {
      "needs_background": "light"
     },
     "output_type": "display_data"
    },
    {
     "data": {
      "image/png": "[encoded data removed]",
      "text/plain": [
       "<Figure size 432x288 with 1 Axes>"
      ]
     },
     "metadata": {
      "needs_background": "light"
     },
     "output_type": "display_data"
    },
    {
     "data": {
      "image/png": "[encoded data removed]",
      "text/plain": [
       "<Figure size 432x288 with 1 Axes>"
      ]
     },
     "metadata": {
      "needs_background": "light"
     },
     "output_type": "display_data"
    }
   ],
   "source": [
    "# Построим bar-chart по показателю среднего возраста для каждого департамента\n",
    "# В цикле нарисуем 15 графиков, для этого созадим на каждом этапе цикла по холсту\n",
    "for n in range (6):\n",
    "    if departments[n] == 'Executive Office':\n",
    "        pass\n",
    "    else:\n",
    "        n1 = str(n)\n",
    "        name_subplot = 'subplot' + n1\n",
    "        name_fig = 'fig' + n1\n",
    "        name_fig, name_subplot = plt.subplots()\n",
    "        name_subplot.barh(df_avg_age_by_dep[df_avg_age_by_dep['department'] == departments[n]]['Performance Score'], \n",
    "                      df_avg_age_by_dep[df_avg_age_by_dep['department'] == departments[n]]['avg_age'])\n",
    "        name_subplot.set_title(\n",
    "            f'Средний возраст работников по показателю производительности в подразделении {departments[n]}')\n",
    "        x_min = df_avg_age_by_dep.loc[df_avg_age_by_dep['department'] == departments[n], 'avg_age'].min() - 0.2\n",
    "        x_max = df_avg_age_by_dep.loc[df_avg_age_by_dep['department'] == departments[n], 'avg_age'].max() + 0.05\n",
    "        name_subplot.set_xlim(x_min, x_max)"
   ]
  },
  {
   "cell_type": "code",
   "execution_count": 311,
   "metadata": {},
   "outputs": [
    {
     "data": {
      "image/png": "[encoded data removed]",
      "text/plain": [
       "<Figure size 432x288 with 1 Axes>"
      ]
     },
     "metadata": {
      "needs_background": "light"
     },
     "output_type": "display_data"
    },
    {
     "data": {
      "image/png": "[encoded data removed]",
      "text/plain": [
       "<Figure size 432x288 with 1 Axes>"
      ]
     },
     "metadata": {
      "needs_background": "light"
     },
     "output_type": "display_data"
    },
    {
     "data": {
      "image/png": "[encoded data removed]",
      "text/plain": [
       "<Figure size 432x288 with 1 Axes>"
      ]
     },
     "metadata": {
      "needs_background": "light"
     },
     "output_type": "display_data"
    },
    {
     "data": {
      "image/png": "[encoded data removed]",
      "text/plain": [
       "<Figure size 432x288 with 1 Axes>"
      ]
     },
     "metadata": {
      "needs_background": "light"
     },
     "output_type": "display_data"
    },
    {
     "data": {
      "image/png": "[encoded data removed]",
      "text/plain": [
       "<Figure size 432x288 with 1 Axes>"
      ]
     },
     "metadata": {
      "needs_background": "light"
     },
     "output_type": "display_data"
    }
   ],
   "source": [
    "# Построим bar-chart по показателю среднего стажа работы в компании по производительности в каждом подразделении\n",
    "# В цикле нарисуем 15 графиков, для этого созадим на каждом этапе цикла по холсту\n",
    "for n in range(6):\n",
    "    if departments[n] == 'Executive Office':\n",
    "        pass\n",
    "    else:\n",
    "        n1 = str(n)\n",
    "        name_subplot = 'subplot' + n1\n",
    "        name_fig = 'fig' + n1\n",
    "        name_fig, name_subplot = plt.subplots()\n",
    "        name_subplot.barh(df_avg_age_by_dep[\n",
    "            df_avg_age_by_dep['department'] == departments[n]].\n",
    "                          sort_values('avg_experience')['Performance Score'], \n",
    "                          df_avg_age_by_dep[df_avg_age_by_dep['department'] == departments[n]].\n",
    "                          sort_values('avg_experience')['avg_experience'])\n",
    "        name_subplot.set_title(\n",
    "            f'Средний стаж работы в компании по показателю производительности в подразделении {departments[n]}')\n",
    "        #установим минимумы для x:\n",
    "        x_min = df_avg_age_by_dep.loc[df_avg_age_by_dep['department'] == departments[n], 'avg_experience'].min() - 0.3\n",
    "        x_max = df_avg_age_by_dep.loc[df_avg_age_by_dep['department'] == departments[n], 'avg_experience'].max() + 0.05\n",
    "        name_subplot.set_xlim(x_min, x_max)"
   ]
  },
  {
   "cell_type": "markdown",
   "metadata": {},
   "source": [
    "**Также как и по компании в целом, по всем её подразделениям наблюдается прямая связь между возрастом и производительностью сотрудника. Но в отличии от общей тенденции, выявлено наличие связи между стажем работника и его производительностью по отделу Sales**. Рассмотрим более подробно характер и особенности этих связей по отдельным департаментам:\n",
    "\n",
    "* **В подразделении IT/IS** четко прослеживается прямая связь между возрастом сотрудника и его показателями производительности. При этом, **выдающиеся результаты (Exeptional) показывают далеко не самые возрастные сотрудники (34,3 лет), тем не менее средний стаж таких работников - более 5 лет. Но в целом, прямой связи между стажем работы и производительностью здесь не наблюдается и, вероятно, высокие показатели данных работников связаны с иными факторами** (уровень образования, квалификаци, профессиональный стаж и др.), которые треуют дополнительного исследования.\n",
    "\n",
    "* **По подразделению Production**  мы наблюдаем прямую связь между возрастом и производительностью. Тем не менее, стоит отметить, что сотрудники, включенные в план по повышению производительности (PIP) имеют средний возраст 42,7 лет, что является самым высоким показателем для рассматриваемого отдела. То есть именно в этом подразделении **есть проблема с низкой производительностью отдельных более возрастных работников**. Данная ситуация нельзя объяснить меньшим показателем среднего стажа работы в компании таких сотрудников (4,1 лет), поскольку четкой связи между стажем и производительностью по данному отделу не наблюдается.\n",
    "\n",
    "* **В подразделении Sales имеет место прямая связь, как между возрастом сотрудников и их производительностью, так и между стажем и производительностью**. \n",
    "\n",
    "* По подразделению Software Engineering мы видим наличие прямой связи между возрастом сотрудника и его производительность. Влияние стажа работы в компании в этом отделе на производительность не выявлена. \n",
    "\n",
    "В связи с выявленными выше особенностями каждого отдельного департамента, можно дать следующие **рекомендации hr-специалистам**:\n",
    "\n",
    "* **По отделу IT/IS необходимо обратить внимание на относительно молодых сотрудников, которые показывают выдающиеся (Exceptional) результаты и найти причины таких высоких показателей**, поскольку, как выявил анализ, это напрямую не связано ни с возрастом ни со стажем. **Эти причины следует учитывать в процессе отбора кандидатов** на должности в данном департаменте. В остальном же, **при рекрутинге стоит отдавать предпочтение более возрастным, а значит и более опытным работникам**.\n",
    "\n",
    "*  **По отделу Production стоит обратить внимание на более возрастных сотрудников, попавших в план по увеличению производительности (PIP). Нужно выявить иные причины их отставания по производительности**, и учитывать данную информацию в процессе рекрутинга. В остальном же, при рекрутинге стоит отдавать предпочтение более возрастным, а значит и более опытным работникам**.\n",
    "\n",
    "* **По подразделению Sales является важным удержание сотрудников с большим стажем работы в компании, поскольку именно они приносят наибольший результат**. При этом, **при отборе кандидатов на новые места следует принимать во внимание возраст**, как показал анализ, более возрастные сотрудники добиваются лучших результатов по производительности.\n",
    "\n",
    "* **По подразделению Software Engeneering при рекрутинге стоит отдавать предпочтение более возрастным кандидатам, с большим опытом работы**, поскольку они показывают лучшие результаты по производительности."
   ]
  },
  {
   "cell_type": "markdown",
   "metadata": {},
   "source": [
    "### Гипотеза 3. Производительность работника зависит от менеджера, под началом которого он работает"
   ]
  },
  {
   "cell_type": "code",
   "execution_count": 312,
   "metadata": {},
   "outputs": [
    {
     "name": "stdout",
     "output_type": "stream",
     "text": [
      "('Brian Champaigne', 8, 8, 0, Decimal('100.0'), Decimal('0.0'))\n",
      "('Board of Directors', 2, 2, 0, Decimal('100.0'), Decimal('0.0'))\n",
      "('Eric Dougall', 4, 4, 0, Decimal('100.0'), Decimal('0.0'))\n",
      "('Kelley Spirea', 22, 21, 0, Decimal('95.5'), Decimal('0.0'))\n",
      "('Janet King', 19, 17, 2, Decimal('89.5'), Decimal('10.5'))\n",
      "('Alex Sweetwater', 9, 8, 1, Decimal('88.9'), Decimal('11.1'))\n",
      "('Kissy Sullivan', 22, 19, 2, Decimal('86.4'), Decimal('9.1'))\n",
      "('Jennifer Zamora', 7, 6, 1, Decimal('85.7'), Decimal('14.3'))\n",
      "('Ketsia Liebig', 21, 18, 1, Decimal('85.7'), Decimal('4.8'))\n",
      "('John Smith', 14, 12, 2, Decimal('85.7'), Decimal('14.3'))\n",
      "('Lynn Daneault', 13, 11, 1, Decimal('84.6'), Decimal('7.7'))\n",
      "('Elijiah Gray', 22, 18, 1, Decimal('81.8'), Decimal('4.5'))\n",
      "('David Stanley', 21, 17, 0, Decimal('81.0'), Decimal('0.0'))\n",
      "('Simon Roup', 17, 13, 0, Decimal('76.5'), Decimal('0.0'))\n",
      "('Brannon Miller', 21, 16, 5, Decimal('76.2'), Decimal('23.8'))\n",
      "('Webster Butler', 21, 16, 2, Decimal('76.2'), Decimal('9.5'))\n",
      "('Brandon R. LeBlanc', 7, 5, 0, Decimal('71.4'), Decimal('0.0'))\n",
      "('Amy Dunn', 21, 15, 1, Decimal('71.4'), Decimal('4.8'))\n",
      "('Debra Houlihan', 3, 2, 1, Decimal('66.7'), Decimal('33.3'))\n",
      "('Peter Monroe', 14, 9, 0, Decimal('64.3'), Decimal('0.0'))\n",
      "('Michael Albert', 22, 12, 4, Decimal('54.5'), Decimal('18.2'))\n"
     ]
    }
   ],
   "source": [
    "#создадим запрос для расчета количества и доли работников с \"хорошими\" оценками производительности \n",
    "#('Exceptional', 'Exceeds', 'Fully Meets', '90-day meets') и с \"плохими\" оценками ('PIP', 'Needs Improvement')\n",
    "#для этого используем конструкцию CASE \n",
    "sql_str = \"\"\"\n",
    "        SELECT \"Manager Name\" AS manager_name,\n",
    "        COUNT(*) AS count_all,\n",
    "        COUNT(CASE \n",
    "                WHEN \"Performance Score\" IN ('Exceptional', 'Exceeds', 'Fully Meets', '90-day meets')\n",
    "                THEN 1\n",
    "              END) AS count_good,\n",
    "        COUNT(CASE \n",
    "                WHEN \"Performance Score\" IN ('PIP', 'Needs Improvement') \n",
    "                THEN 1 \n",
    "              END) AS count_bad,\n",
    "        ROUND(CAST(COUNT(CASE \n",
    "                WHEN \"Performance Score\" IN ('Exceptional', 'Exceeds', 'Fully Meets', '90-day meets')\n",
    "                THEN 1\n",
    "              END) * 100. / COUNT(*) as numeric), 1) AS share_good,\n",
    "        ROUND(CAST(COUNT(CASE \n",
    "                WHEN \"Performance Score\" IN ('PIP', 'Needs Improvement') \n",
    "                THEN 1 \n",
    "              END) * 100. / COUNT(*) as numeric), 1) AS share_bad\n",
    "        FROM hr_dataset\n",
    "        GROUP BY \"Manager Name\"\n",
    "        ORDER BY share_good DESC;\n",
    "\"\"\"\n",
    "\n",
    "cursor.execute(sql_str)\n",
    "\n",
    "for row in cursor:\n",
    "    print(row)"
   ]
  },
  {
   "cell_type": "code",
   "execution_count": 313,
   "metadata": {},
   "outputs": [
    {
     "data": {
      "text/html": [
       "<div>\n",
       "<style scoped>\n",
       "    .dataframe tbody tr th:only-of-type {\n",
       "        vertical-align: middle;\n",
       "    }\n",
       "\n",
       "    .dataframe tbody tr th {\n",
       "        vertical-align: top;\n",
       "    }\n",
       "\n",
       "    .dataframe thead th {\n",
       "        text-align: right;\n",
       "    }\n",
       "</style>\n",
       "<table border=\"1\" class=\"dataframe\">\n",
       "  <thead>\n",
       "    <tr style=\"text-align: right;\">\n",
       "      <th></th>\n",
       "      <th>manager_name</th>\n",
       "      <th>count_all</th>\n",
       "      <th>count_good</th>\n",
       "      <th>count_bad</th>\n",
       "      <th>share_good</th>\n",
       "      <th>share_bad</th>\n",
       "    </tr>\n",
       "  </thead>\n",
       "  <tbody>\n",
       "    <tr>\n",
       "      <th>0</th>\n",
       "      <td>Brian Champaigne</td>\n",
       "      <td>8</td>\n",
       "      <td>8</td>\n",
       "      <td>0</td>\n",
       "      <td>100.0</td>\n",
       "      <td>0.0</td>\n",
       "    </tr>\n",
       "    <tr>\n",
       "      <th>1</th>\n",
       "      <td>Board of Directors</td>\n",
       "      <td>2</td>\n",
       "      <td>2</td>\n",
       "      <td>0</td>\n",
       "      <td>100.0</td>\n",
       "      <td>0.0</td>\n",
       "    </tr>\n",
       "    <tr>\n",
       "      <th>2</th>\n",
       "      <td>Eric Dougall</td>\n",
       "      <td>4</td>\n",
       "      <td>4</td>\n",
       "      <td>0</td>\n",
       "      <td>100.0</td>\n",
       "      <td>0.0</td>\n",
       "    </tr>\n",
       "    <tr>\n",
       "      <th>3</th>\n",
       "      <td>Kelley Spirea</td>\n",
       "      <td>22</td>\n",
       "      <td>21</td>\n",
       "      <td>0</td>\n",
       "      <td>95.5</td>\n",
       "      <td>0.0</td>\n",
       "    </tr>\n",
       "    <tr>\n",
       "      <th>4</th>\n",
       "      <td>Janet King</td>\n",
       "      <td>19</td>\n",
       "      <td>17</td>\n",
       "      <td>2</td>\n",
       "      <td>89.5</td>\n",
       "      <td>10.5</td>\n",
       "    </tr>\n",
       "    <tr>\n",
       "      <th>5</th>\n",
       "      <td>Alex Sweetwater</td>\n",
       "      <td>9</td>\n",
       "      <td>8</td>\n",
       "      <td>1</td>\n",
       "      <td>88.9</td>\n",
       "      <td>11.1</td>\n",
       "    </tr>\n",
       "    <tr>\n",
       "      <th>6</th>\n",
       "      <td>Kissy Sullivan</td>\n",
       "      <td>22</td>\n",
       "      <td>19</td>\n",
       "      <td>2</td>\n",
       "      <td>86.4</td>\n",
       "      <td>9.1</td>\n",
       "    </tr>\n",
       "    <tr>\n",
       "      <th>7</th>\n",
       "      <td>Jennifer Zamora</td>\n",
       "      <td>7</td>\n",
       "      <td>6</td>\n",
       "      <td>1</td>\n",
       "      <td>85.7</td>\n",
       "      <td>14.3</td>\n",
       "    </tr>\n",
       "    <tr>\n",
       "      <th>8</th>\n",
       "      <td>Ketsia Liebig</td>\n",
       "      <td>21</td>\n",
       "      <td>18</td>\n",
       "      <td>1</td>\n",
       "      <td>85.7</td>\n",
       "      <td>4.8</td>\n",
       "    </tr>\n",
       "    <tr>\n",
       "      <th>9</th>\n",
       "      <td>John Smith</td>\n",
       "      <td>14</td>\n",
       "      <td>12</td>\n",
       "      <td>2</td>\n",
       "      <td>85.7</td>\n",
       "      <td>14.3</td>\n",
       "    </tr>\n",
       "    <tr>\n",
       "      <th>10</th>\n",
       "      <td>Lynn Daneault</td>\n",
       "      <td>13</td>\n",
       "      <td>11</td>\n",
       "      <td>1</td>\n",
       "      <td>84.6</td>\n",
       "      <td>7.7</td>\n",
       "    </tr>\n",
       "    <tr>\n",
       "      <th>11</th>\n",
       "      <td>Elijiah Gray</td>\n",
       "      <td>22</td>\n",
       "      <td>18</td>\n",
       "      <td>1</td>\n",
       "      <td>81.8</td>\n",
       "      <td>4.5</td>\n",
       "    </tr>\n",
       "    <tr>\n",
       "      <th>12</th>\n",
       "      <td>David Stanley</td>\n",
       "      <td>21</td>\n",
       "      <td>17</td>\n",
       "      <td>0</td>\n",
       "      <td>81.0</td>\n",
       "      <td>0.0</td>\n",
       "    </tr>\n",
       "    <tr>\n",
       "      <th>13</th>\n",
       "      <td>Simon Roup</td>\n",
       "      <td>17</td>\n",
       "      <td>13</td>\n",
       "      <td>0</td>\n",
       "      <td>76.5</td>\n",
       "      <td>0.0</td>\n",
       "    </tr>\n",
       "    <tr>\n",
       "      <th>14</th>\n",
       "      <td>Brannon Miller</td>\n",
       "      <td>21</td>\n",
       "      <td>16</td>\n",
       "      <td>5</td>\n",
       "      <td>76.2</td>\n",
       "      <td>23.8</td>\n",
       "    </tr>\n",
       "    <tr>\n",
       "      <th>15</th>\n",
       "      <td>Webster Butler</td>\n",
       "      <td>21</td>\n",
       "      <td>16</td>\n",
       "      <td>2</td>\n",
       "      <td>76.2</td>\n",
       "      <td>9.5</td>\n",
       "    </tr>\n",
       "    <tr>\n",
       "      <th>16</th>\n",
       "      <td>Brandon R. LeBlanc</td>\n",
       "      <td>7</td>\n",
       "      <td>5</td>\n",
       "      <td>0</td>\n",
       "      <td>71.4</td>\n",
       "      <td>0.0</td>\n",
       "    </tr>\n",
       "    <tr>\n",
       "      <th>17</th>\n",
       "      <td>Amy Dunn</td>\n",
       "      <td>21</td>\n",
       "      <td>15</td>\n",
       "      <td>1</td>\n",
       "      <td>71.4</td>\n",
       "      <td>4.8</td>\n",
       "    </tr>\n",
       "    <tr>\n",
       "      <th>18</th>\n",
       "      <td>Debra Houlihan</td>\n",
       "      <td>3</td>\n",
       "      <td>2</td>\n",
       "      <td>1</td>\n",
       "      <td>66.7</td>\n",
       "      <td>33.3</td>\n",
       "    </tr>\n",
       "    <tr>\n",
       "      <th>19</th>\n",
       "      <td>Peter Monroe</td>\n",
       "      <td>14</td>\n",
       "      <td>9</td>\n",
       "      <td>0</td>\n",
       "      <td>64.3</td>\n",
       "      <td>0.0</td>\n",
       "    </tr>\n",
       "    <tr>\n",
       "      <th>20</th>\n",
       "      <td>Michael Albert</td>\n",
       "      <td>22</td>\n",
       "      <td>12</td>\n",
       "      <td>4</td>\n",
       "      <td>54.5</td>\n",
       "      <td>18.2</td>\n",
       "    </tr>\n",
       "  </tbody>\n",
       "</table>\n",
       "</div>"
      ],
      "text/plain": [
       "          manager_name  count_all  count_good  count_bad  share_good  \\\n",
       "0     Brian Champaigne          8           8          0       100.0   \n",
       "1   Board of Directors          2           2          0       100.0   \n",
       "2         Eric Dougall          4           4          0       100.0   \n",
       "3        Kelley Spirea         22          21          0        95.5   \n",
       "4           Janet King         19          17          2        89.5   \n",
       "5      Alex Sweetwater          9           8          1        88.9   \n",
       "6       Kissy Sullivan         22          19          2        86.4   \n",
       "7      Jennifer Zamora          7           6          1        85.7   \n",
       "8        Ketsia Liebig         21          18          1        85.7   \n",
       "9           John Smith         14          12          2        85.7   \n",
       "10       Lynn Daneault         13          11          1        84.6   \n",
       "11        Elijiah Gray         22          18          1        81.8   \n",
       "12       David Stanley         21          17          0        81.0   \n",
       "13          Simon Roup         17          13          0        76.5   \n",
       "14      Brannon Miller         21          16          5        76.2   \n",
       "15      Webster Butler         21          16          2        76.2   \n",
       "16  Brandon R. LeBlanc          7           5          0        71.4   \n",
       "17            Amy Dunn         21          15          1        71.4   \n",
       "18      Debra Houlihan          3           2          1        66.7   \n",
       "19        Peter Monroe         14           9          0        64.3   \n",
       "20      Michael Albert         22          12          4        54.5   \n",
       "\n",
       "    share_bad  \n",
       "0         0.0  \n",
       "1         0.0  \n",
       "2         0.0  \n",
       "3         0.0  \n",
       "4        10.5  \n",
       "5        11.1  \n",
       "6         9.1  \n",
       "7        14.3  \n",
       "8         4.8  \n",
       "9        14.3  \n",
       "10        7.7  \n",
       "11        4.5  \n",
       "12        0.0  \n",
       "13        0.0  \n",
       "14       23.8  \n",
       "15        9.5  \n",
       "16        0.0  \n",
       "17        4.8  \n",
       "18       33.3  \n",
       "19        0.0  \n",
       "20       18.2  "
      ]
     },
     "execution_count": 313,
     "metadata": {},
     "output_type": "execute_result"
    }
   ],
   "source": [
    "#выгрузим данные в датафрейм\n",
    "df_score_by_manager=pd.read_sql_query(sql_str, conn)\n",
    "df_score_by_manager"
   ]
  },
  {
   "cell_type": "code",
   "execution_count": 319,
   "metadata": {},
   "outputs": [
    {
     "data": {
      "image/png": "[encoded data removed]",
      "text/plain": [
       "<Figure size 1008x432 with 1 Axes>"
      ]
     },
     "metadata": {
      "needs_background": "light"
     },
     "output_type": "display_data"
    }
   ],
   "source": [
    "# Нарисуем график, для каждого менеджера строим два бара - доля работников под началом менеджера с \"хорошими\" оценками и\n",
    "# с \"плохими\":\n",
    "\n",
    "width = 0.4 #задаем переменную с шириной бара \n",
    "fig, subplot = plt.subplots(figsize=(14, 6))\n",
    "managers = df_score_by_manager.manager_name.to_list() #создаем список менеджеров из датафрейма\n",
    "labels = [] #создаем список для сохранения текста для подписи данных на графике\n",
    "\n",
    "for manager in managers: #в цикле рисуем по два бара для каждого менеджера\n",
    "\n",
    "    x1 = managers.index(manager) #координата x равна индексу менеджера в списке\n",
    " \n",
    "    y1 = df_score_by_manager[df_score_by_manager['manager_name'] == manager]['share_good'].values\n",
    "    #значение y1 равно доле работников с \"хорошими\" оценками\n",
    "    subplot.bar(x1 - width/2, y1, color='b', width = width) #рисуем бар с долей работников с \"хорошими\" оценками\n",
    "    \n",
    "    y2 = df_score_by_manager[df_score_by_manager['manager_name'] == manager]['share_bad'].values\n",
    "    #y2 равен доле работников с \"плохими\" оценками\n",
    "    subplot.bar(x1 + width/2, y2, color='c', width = width) #рисуем бар с долей работников с \"плохими\" оценками\n",
    "    \n",
    "    #добавляем y1 и y2 в список:\n",
    "    labels.append(y1[0]) \n",
    "    labels.append(y2[0])\n",
    "\n",
    "#устанавливаем метки и лейблы для оси х\n",
    "x_ticks = [i for i in range(0, len(managers))] #генерируем список, соответствующий x1\n",
    "subplot.set_xticks(x_ticks) #устанвливаем метки оси x\n",
    "subplot.set_xticklabels(managers, rotation='vertical') #устанавливаем лейблы оси x, соответствующие именам менеджеров\n",
    "\n",
    "#устанавливаем легенду\n",
    "plt.legend(['Fully Meets, Exceed, \\nExceptional, 90-day meets', 'Needs Improvement, PIP'], \n",
    "           loc=\"center right\", bbox_to_anchor=(0.75, 0, 0.5, 1))\n",
    "\n",
    "#дополнительно создаем подписи данных, на основе созданного списка labels:\n",
    "rects = subplot.patches\n",
    "\n",
    "for rect, label in zip(rects, labels):\n",
    "    height = rect.get_height()\n",
    "    subplot.text(rect.get_x() + 0.3, height, label,\n",
    "            ha='center', va='bottom')"
   ]
  },
  {
   "cell_type": "markdown",
   "metadata": {},
   "source": [
    "Из графика видно, что есть следующие \"типы\" менеджеров:\n",
    "* **Brian Champaigne, Board of Directors и Eric Dougall - их сотрудники показывают 100% хорошие результаты** по производительности\n",
    "* **Kelley Spirea, David  Stanley, Simon Roup, Brandon R. LeBlanc и Peter Monroe - под их началом нет работников, показывающих \"плохие\" результаты** по производительности, но результат не 100%, так как **часть работников еще не прошла оценку**\n",
    "* У  остальных менеджеров есть под началом работники с \"плохими\" показателями производительности. **Самая высокая доля низкоэффективных работников трудится под началом Debra Hooulihan (33.3%), Brannon Miller (23.8%), Michael Albert (18.2%)**.\n",
    "\n",
    "**HR-отделу рекомендуется проверить работу менеджеров с большой долей низкоэффективных сотрудников**, при необходимости принять меры по обучению/повышению квалификации данных менеджеров."
   ]
  },
  {
   "cell_type": "markdown",
   "metadata": {},
   "source": [
    "### Гипотеза 4. Подбор сотрудников с определенных источников рабочей силы более эффективен (такие сотрудники меньше увольняются и показывают более высокую производительность)"
   ]
  },
  {
   "cell_type": "markdown",
   "metadata": {},
   "source": [
    "*Эффективность подбора в данном случае понимается, как бОльшая конверсия из кандидатов в сотрудники компании, меньшее количество увольнений и более высокая производительность.*"
   ]
  },
  {
   "cell_type": "code",
   "execution_count": 424,
   "metadata": {},
   "outputs": [
    {
     "name": "stdout",
     "output_type": "stream",
     "text": [
      "('Employee Referral', Decimal('17.2'))\n",
      "('Professional Society', Decimal('10.3'))\n",
      "('Vendor Referral', Decimal('9.5'))\n",
      "('Pay Per Click - Google', Decimal('7.8'))\n",
      "('Indeed', Decimal('6.9'))\n",
      "('Monster.com', Decimal('6.9'))\n",
      "('Website Banner Ads', Decimal('6.0'))\n",
      "('On-campus Recruiting', Decimal('6.0'))\n",
      "('Newspager/Magazine', Decimal('5.2'))\n",
      "('Glassdoor', Decimal('4.3'))\n",
      "('MBTA ads', Decimal('4.3'))\n",
      "('Diversity Job Fair', Decimal('3.4'))\n",
      "('Internet Search', Decimal('2.6'))\n",
      "('Word of Mouth', Decimal('2.6'))\n",
      "('Search Engine - Google Bing Yahoo', Decimal('2.6'))\n",
      "('Billboard', Decimal('1.7'))\n",
      "('Other', Decimal('0.9'))\n",
      "('Company Intranet - Partner', Decimal('0.9'))\n",
      "('Information Session', Decimal('0.9'))\n"
     ]
    }
   ],
   "source": [
    "#Посмотрим, с каких источников пришло больше всего сотрудников компании, проведем анализ за последние 3 года, где\n",
    "#доступны данные по найму и увольнениям (2014-2016 гг.):\n",
    "sql_str = \"\"\"\n",
    "        SELECT \"Employee Source\" AS employee_source, \n",
    "        ROUND(CAST(COUNT(*)* 100. / (SELECT COUNT(*) FROM hr_dataset\n",
    "        WHERE DATE_PART('year', \"Date of Hire\") > 2013) as numeric), 1) AS share\n",
    "        FROM hr_dataset\n",
    "        WHERE DATE_PART('year', \"Date of Hire\") > 2013\n",
    "        GROUP BY \"Employee Source\"\n",
    "        ORDER BY share DESC;\n",
    "\"\"\"\n",
    "cursor.execute(sql_str)\n",
    "\n",
    "for row in cursor:\n",
    "    print(row)"
   ]
  },
  {
   "cell_type": "code",
   "execution_count": 425,
   "metadata": {},
   "outputs": [
    {
     "data": {
      "text/html": [
       "<div>\n",
       "<style scoped>\n",
       "    .dataframe tbody tr th:only-of-type {\n",
       "        vertical-align: middle;\n",
       "    }\n",
       "\n",
       "    .dataframe tbody tr th {\n",
       "        vertical-align: top;\n",
       "    }\n",
       "\n",
       "    .dataframe thead th {\n",
       "        text-align: right;\n",
       "    }\n",
       "</style>\n",
       "<table border=\"1\" class=\"dataframe\">\n",
       "  <thead>\n",
       "    <tr style=\"text-align: right;\">\n",
       "      <th></th>\n",
       "      <th>employee_source</th>\n",
       "      <th>share</th>\n",
       "    </tr>\n",
       "  </thead>\n",
       "  <tbody>\n",
       "    <tr>\n",
       "      <th>0</th>\n",
       "      <td>Employee Referral</td>\n",
       "      <td>17.2</td>\n",
       "    </tr>\n",
       "    <tr>\n",
       "      <th>1</th>\n",
       "      <td>Professional Society</td>\n",
       "      <td>10.3</td>\n",
       "    </tr>\n",
       "    <tr>\n",
       "      <th>2</th>\n",
       "      <td>Vendor Referral</td>\n",
       "      <td>9.5</td>\n",
       "    </tr>\n",
       "    <tr>\n",
       "      <th>3</th>\n",
       "      <td>Pay Per Click - Google</td>\n",
       "      <td>7.8</td>\n",
       "    </tr>\n",
       "    <tr>\n",
       "      <th>4</th>\n",
       "      <td>Indeed</td>\n",
       "      <td>6.9</td>\n",
       "    </tr>\n",
       "    <tr>\n",
       "      <th>5</th>\n",
       "      <td>Monster.com</td>\n",
       "      <td>6.9</td>\n",
       "    </tr>\n",
       "    <tr>\n",
       "      <th>6</th>\n",
       "      <td>Website Banner Ads</td>\n",
       "      <td>6.0</td>\n",
       "    </tr>\n",
       "    <tr>\n",
       "      <th>7</th>\n",
       "      <td>On-campus Recruiting</td>\n",
       "      <td>6.0</td>\n",
       "    </tr>\n",
       "    <tr>\n",
       "      <th>8</th>\n",
       "      <td>Newspager/Magazine</td>\n",
       "      <td>5.2</td>\n",
       "    </tr>\n",
       "    <tr>\n",
       "      <th>9</th>\n",
       "      <td>Glassdoor</td>\n",
       "      <td>4.3</td>\n",
       "    </tr>\n",
       "    <tr>\n",
       "      <th>10</th>\n",
       "      <td>MBTA ads</td>\n",
       "      <td>4.3</td>\n",
       "    </tr>\n",
       "    <tr>\n",
       "      <th>11</th>\n",
       "      <td>Diversity Job Fair</td>\n",
       "      <td>3.4</td>\n",
       "    </tr>\n",
       "    <tr>\n",
       "      <th>12</th>\n",
       "      <td>Internet Search</td>\n",
       "      <td>2.6</td>\n",
       "    </tr>\n",
       "    <tr>\n",
       "      <th>13</th>\n",
       "      <td>Word of Mouth</td>\n",
       "      <td>2.6</td>\n",
       "    </tr>\n",
       "    <tr>\n",
       "      <th>14</th>\n",
       "      <td>Search Engine - Google Bing Yahoo</td>\n",
       "      <td>2.6</td>\n",
       "    </tr>\n",
       "    <tr>\n",
       "      <th>15</th>\n",
       "      <td>Billboard</td>\n",
       "      <td>1.7</td>\n",
       "    </tr>\n",
       "    <tr>\n",
       "      <th>16</th>\n",
       "      <td>Other</td>\n",
       "      <td>0.9</td>\n",
       "    </tr>\n",
       "    <tr>\n",
       "      <th>17</th>\n",
       "      <td>Company Intranet - Partner</td>\n",
       "      <td>0.9</td>\n",
       "    </tr>\n",
       "    <tr>\n",
       "      <th>18</th>\n",
       "      <td>Information Session</td>\n",
       "      <td>0.9</td>\n",
       "    </tr>\n",
       "  </tbody>\n",
       "</table>\n",
       "</div>"
      ],
      "text/plain": [
       "                      employee_source  share\n",
       "0                   Employee Referral   17.2\n",
       "1                Professional Society   10.3\n",
       "2                     Vendor Referral    9.5\n",
       "3              Pay Per Click - Google    7.8\n",
       "4                              Indeed    6.9\n",
       "5                         Monster.com    6.9\n",
       "6                  Website Banner Ads    6.0\n",
       "7                On-campus Recruiting    6.0\n",
       "8                  Newspager/Magazine    5.2\n",
       "9                           Glassdoor    4.3\n",
       "10                           MBTA ads    4.3\n",
       "11                 Diversity Job Fair    3.4\n",
       "12                    Internet Search    2.6\n",
       "13                      Word of Mouth    2.6\n",
       "14  Search Engine - Google Bing Yahoo    2.6\n",
       "15                          Billboard    1.7\n",
       "16                              Other    0.9\n",
       "17         Company Intranet - Partner    0.9\n",
       "18                Information Session    0.9"
      ]
     },
     "execution_count": 425,
     "metadata": {},
     "output_type": "execute_result"
    }
   ],
   "source": [
    "#добавим полученные данные в датафрейм\n",
    "df_share_employee_source = pd.read_sql_query(sql_str, conn)\n",
    "df_share_employee_source"
   ]
  },
  {
   "cell_type": "code",
   "execution_count": 437,
   "metadata": {},
   "outputs": [
    {
     "name": "stdout",
     "output_type": "stream",
     "text": [
      "('Diversity Job Fair', Decimal('16.4'))\n",
      "('Monster.com', Decimal('14.5'))\n",
      "('Search Engine - Google Bing Yahoo', Decimal('10.9'))\n",
      "('Social Networks - Facebook Twitter etc', Decimal('7.3'))\n",
      "('Employee Referral', Decimal('7.3'))\n",
      "('Glassdoor', Decimal('7.3'))\n",
      "('MBTA ads', Decimal('5.5'))\n",
      "('Vendor Referral', Decimal('5.5'))\n",
      "('Professional Society', Decimal('5.5'))\n",
      "('Billboard', Decimal('3.6'))\n",
      "('Word of Mouth', Decimal('3.6'))\n",
      "('Other', Decimal('1.8'))\n",
      "('Newspager/Magazine', Decimal('1.8'))\n",
      "('Internet Search', Decimal('1.8'))\n",
      "('Pay Per Click - Google', Decimal('1.8'))\n",
      "('Company Intranet - Partner', Decimal('1.8'))\n",
      "('Website Banner Ads', Decimal('1.8'))\n",
      "('Information Session', Decimal('1.8'))\n"
     ]
    }
   ],
   "source": [
    "#посмотрим с каких источников приходит больше кандидатов, которые впоследствии увольняются (2014-2016 гг.)\n",
    "sql_str = \"\"\"\n",
    "        SELECT \"Employee Source\" AS employee_source,\n",
    "        ROUND(CAST(COUNT(*)* 100. / (SELECT COUNT(*) FROM hr_dataset\n",
    "        WHERE DATE_PART('year', \"Date of Termination\") > 2013) as numeric), 1) AS share\n",
    "        FROM hr_dataset\n",
    "        WHERE DATE_PART('year', \"Date of Termination\") > 2013\n",
    "        GROUP BY \"Employee Source\"\n",
    "        ORDER BY share DESC;\n",
    "\"\"\"\n",
    "\n",
    "cursor.execute(sql_str)\n",
    "\n",
    "for row in cursor:\n",
    "    print(row)"
   ]
  },
  {
   "cell_type": "code",
   "execution_count": 438,
   "metadata": {},
   "outputs": [
    {
     "data": {
      "text/html": [
       "<div>\n",
       "<style scoped>\n",
       "    .dataframe tbody tr th:only-of-type {\n",
       "        vertical-align: middle;\n",
       "    }\n",
       "\n",
       "    .dataframe tbody tr th {\n",
       "        vertical-align: top;\n",
       "    }\n",
       "\n",
       "    .dataframe thead th {\n",
       "        text-align: right;\n",
       "    }\n",
       "</style>\n",
       "<table border=\"1\" class=\"dataframe\">\n",
       "  <thead>\n",
       "    <tr style=\"text-align: right;\">\n",
       "      <th></th>\n",
       "      <th>employee_source</th>\n",
       "      <th>share</th>\n",
       "    </tr>\n",
       "  </thead>\n",
       "  <tbody>\n",
       "    <tr>\n",
       "      <th>0</th>\n",
       "      <td>Diversity Job Fair</td>\n",
       "      <td>16.4</td>\n",
       "    </tr>\n",
       "    <tr>\n",
       "      <th>1</th>\n",
       "      <td>Monster.com</td>\n",
       "      <td>14.5</td>\n",
       "    </tr>\n",
       "    <tr>\n",
       "      <th>2</th>\n",
       "      <td>Search Engine - Google Bing Yahoo</td>\n",
       "      <td>10.9</td>\n",
       "    </tr>\n",
       "    <tr>\n",
       "      <th>3</th>\n",
       "      <td>Social Networks - Facebook Twitter etc</td>\n",
       "      <td>7.3</td>\n",
       "    </tr>\n",
       "    <tr>\n",
       "      <th>4</th>\n",
       "      <td>Employee Referral</td>\n",
       "      <td>7.3</td>\n",
       "    </tr>\n",
       "    <tr>\n",
       "      <th>5</th>\n",
       "      <td>Glassdoor</td>\n",
       "      <td>7.3</td>\n",
       "    </tr>\n",
       "    <tr>\n",
       "      <th>6</th>\n",
       "      <td>MBTA ads</td>\n",
       "      <td>5.5</td>\n",
       "    </tr>\n",
       "    <tr>\n",
       "      <th>7</th>\n",
       "      <td>Vendor Referral</td>\n",
       "      <td>5.5</td>\n",
       "    </tr>\n",
       "    <tr>\n",
       "      <th>8</th>\n",
       "      <td>Professional Society</td>\n",
       "      <td>5.5</td>\n",
       "    </tr>\n",
       "    <tr>\n",
       "      <th>9</th>\n",
       "      <td>Billboard</td>\n",
       "      <td>3.6</td>\n",
       "    </tr>\n",
       "    <tr>\n",
       "      <th>10</th>\n",
       "      <td>Word of Mouth</td>\n",
       "      <td>3.6</td>\n",
       "    </tr>\n",
       "    <tr>\n",
       "      <th>11</th>\n",
       "      <td>Other</td>\n",
       "      <td>1.8</td>\n",
       "    </tr>\n",
       "    <tr>\n",
       "      <th>12</th>\n",
       "      <td>Newspager/Magazine</td>\n",
       "      <td>1.8</td>\n",
       "    </tr>\n",
       "    <tr>\n",
       "      <th>13</th>\n",
       "      <td>Internet Search</td>\n",
       "      <td>1.8</td>\n",
       "    </tr>\n",
       "    <tr>\n",
       "      <th>14</th>\n",
       "      <td>Pay Per Click - Google</td>\n",
       "      <td>1.8</td>\n",
       "    </tr>\n",
       "    <tr>\n",
       "      <th>15</th>\n",
       "      <td>Company Intranet - Partner</td>\n",
       "      <td>1.8</td>\n",
       "    </tr>\n",
       "    <tr>\n",
       "      <th>16</th>\n",
       "      <td>Website Banner Ads</td>\n",
       "      <td>1.8</td>\n",
       "    </tr>\n",
       "    <tr>\n",
       "      <th>17</th>\n",
       "      <td>Information Session</td>\n",
       "      <td>1.8</td>\n",
       "    </tr>\n",
       "  </tbody>\n",
       "</table>\n",
       "</div>"
      ],
      "text/plain": [
       "                           employee_source  share\n",
       "0                       Diversity Job Fair   16.4\n",
       "1                              Monster.com   14.5\n",
       "2        Search Engine - Google Bing Yahoo   10.9\n",
       "3   Social Networks - Facebook Twitter etc    7.3\n",
       "4                        Employee Referral    7.3\n",
       "5                                Glassdoor    7.3\n",
       "6                                 MBTA ads    5.5\n",
       "7                          Vendor Referral    5.5\n",
       "8                     Professional Society    5.5\n",
       "9                                Billboard    3.6\n",
       "10                           Word of Mouth    3.6\n",
       "11                                   Other    1.8\n",
       "12                      Newspager/Magazine    1.8\n",
       "13                         Internet Search    1.8\n",
       "14                  Pay Per Click - Google    1.8\n",
       "15              Company Intranet - Partner    1.8\n",
       "16                      Website Banner Ads    1.8\n",
       "17                     Information Session    1.8"
      ]
     },
     "execution_count": 438,
     "metadata": {},
     "output_type": "execute_result"
    }
   ],
   "source": [
    "#доавим данные в датафрейм\n",
    "df_terms_by_employee_source = pd.read_sql_query(sql_str, conn)\n",
    "df_terms_by_employee_source"
   ]
  },
  {
   "cell_type": "code",
   "execution_count": 439,
   "metadata": {},
   "outputs": [
    {
     "data": {
      "text/plain": [
       "Text(0.5, 1.0, 'Доля уволенных работников по источникам кандидатов \\nза 2014-2016 гг.')"
      ]
     },
     "execution_count": 439,
     "metadata": {},
     "output_type": "execute_result"
    },
    {
     "data": {
      "image/png": "[encoded data removed]",
      "text/plain": [
       "<Figure size 1008x288 with 2 Axes>"
      ]
     },
     "metadata": {},
     "output_type": "display_data"
    }
   ],
   "source": [
    "#нарисуем два графика - доля нанятых сотрудников и уволенных по источникам кандидатов:\n",
    "fig, (subplot_1, subplot_2) = plt.subplots(\n",
    "    nrows=1, ncols=2,\n",
    "    figsize=(14, 4)\n",
    ") # создаем холст для двух графиков рядом в две колонки\n",
    "\n",
    "TOP = 10 #создадим переменную, чтобы использовать 10 самых больших значений из датафрейма\n",
    "\n",
    "#рисуем первую круговую диаграмму и устанавливаем легенду\n",
    "wedges_1, text_1 = subplot_1.pie(df_share_employee_source.share[:TOP],\n",
    "                           explode=None,\n",
    "                           labels=[f'{share} %' for share in df_share_employee_source.share[:TOP].values])\n",
    "subplot_1.legend(wedges_1, df_share_employee_source.employee_source[:TOP], \n",
    "                 loc='center left', bbox_to_anchor=(1.1, 0, 0.5, 1))\n",
    "subplot_1.set_title('Доля нанятых работников по источникам кандидатов \\nза 2014-2016 гг.')\n",
    "\n",
    "#рисуем вторую круговую диаграмму и устанавливаем легенду\n",
    "wedges_2, text_2 = subplot_2.pie(df_terms_by_employee_source.share[:TOP],\n",
    "                           explode=None,\n",
    "                           labels=[f'{share} %' for share in df_terms_by_employee_source.share[:TOP].values])\n",
    "subplot_2.legend(wedges_2, df_terms_by_employee_source.employee_source[:TOP], \n",
    "                 loc='center left', bbox_to_anchor=(1.1, 0, 0.5, 1))\n",
    "subplot_2.set_title('Доля уволенных работников по источникам кандидатов \\nза 2014-2016 гг.')"
   ]
  },
  {
   "cell_type": "markdown",
   "metadata": {},
   "source": [
    "На левой диаграмме показаны 10 ресурсов, с которых приходило больше всего кандидатов за последние 3 года (2012-2016 гг.). На правой - 10 ресурсов, по которым зафиксировано большее число увольнений за тот же период. Сопоставив две диаграммы, мы видим, что **наиболее эффективными источниками кандидатов являются следующие ресурсы: рекомендации работников, профессиональное сообщество, рекомендации поставщиков**, на них приходится 37% всех принятых в штат работников и только 18% всех увольнений.\n",
    "**Мало эффективными в плане рекрутинга являются такие ресурсы, как \"Ярмарка вакансий\", Monster.com, поиск Google**, 42% всех увольнений в компании, приходится на сотрудников, пришедших с этих источников."
   ]
  },
  {
   "cell_type": "code",
   "execution_count": 431,
   "metadata": {},
   "outputs": [
    {
     "name": "stdout",
     "output_type": "stream",
     "text": [
      "(67,)\n"
     ]
    }
   ],
   "source": [
    "#посмотрим с каких источников приходит больше кандидатов, которые показывают \"хорошую\" оценку производительности\n",
    "sql_str = \"\"\"\n",
    "        SELECT COUNT(*) as count        \n",
    "        FROM hr_dataset\n",
    "        WHERE DATE_PART('year', \"Date of Termination\") > 2013\n",
    "        OR DATE_PART('year', \"Date of Termination\") IS NULL\n",
    "        AND \"Performance Score\" IN ('PIP', 'Needs Improvement')\n",
    "\"\"\"\n",
    "\n",
    "cursor.execute(sql_str)\n",
    "\n",
    "for row in cursor:\n",
    "    print(row)"
   ]
  },
  {
   "cell_type": "code",
   "execution_count": 432,
   "metadata": {},
   "outputs": [
    {
     "name": "stdout",
     "output_type": "stream",
     "text": [
      "('Employee Referral', Decimal('11.5'))\n",
      "('Diversity Job Fair', Decimal('7.9'))\n",
      "('Monster.com', Decimal('7.5'))\n",
      "('Search Engine - Google Bing Yahoo', Decimal('6.6'))\n",
      "('Professional Society', Decimal('6.6'))\n",
      "('MBTA ads', Decimal('6.2'))\n",
      "('Pay Per Click - Google', Decimal('6.2'))\n",
      "('Billboard', Decimal('5.3'))\n",
      "('Newspager/Magazine', Decimal('4.8'))\n",
      "('Glassdoor', Decimal('4.4'))\n",
      "('Vendor Referral', Decimal('4.4'))\n",
      "('On-campus Recruiting', Decimal('4.4'))\n",
      "('Website Banner Ads', Decimal('4.0'))\n",
      "('Indeed', Decimal('3.5'))\n",
      "('Social Networks - Facebook Twitter etc', Decimal('3.1'))\n",
      "('Other', Decimal('2.6'))\n",
      "('Word of Mouth', Decimal('2.6'))\n",
      "('Internet Search', Decimal('1.8'))\n",
      "('Information Session', Decimal('1.3'))\n",
      "('Careerbuilder', Decimal('0.4'))\n",
      "('Company Intranet - Partner', Decimal('0.4'))\n"
     ]
    }
   ],
   "source": [
    "#посмотрим с каких источников приходит больше кандидатов, которые показывают \"хорошую\" оценку производительности \n",
    "#(берем всех неуволенных сотрудников, а также тех, кто был уволен за последние 3 года - 2014-2016 гг.)\n",
    "sql_str = \"\"\"\n",
    "        SELECT \"Employee Source\" AS employee_source,\n",
    "        ROUND(CAST(COUNT(CASE WHEN \"Performance Score\" IN ('Exceptional', 'Exceeds', 'Fully Meets', '90-day meets') \n",
    "        THEN 1 END) * 100. / (SELECT COUNT(*)\n",
    "        FROM hr_dataset\n",
    "        WHERE DATE_PART('year', \"Date of Termination\") > 2013\n",
    "        OR DATE_PART('year', \"Date of Termination\") IS NULL\n",
    "        AND \"Performance Score\" IN ('Exceptional', 'Exceeds', 'Fully Meets', '90-day meets')) as numeric), 1) AS share\n",
    "        FROM hr_dataset\n",
    "        WHERE DATE_PART('year', \"Date of Termination\") > 2013\n",
    "        OR DATE_PART('year', \"Date of Termination\") IS NULL\n",
    "        GROUP BY \"Employee Source\"\n",
    "        ORDER BY share DESC\n",
    "\"\"\"\n",
    "\n",
    "cursor.execute(sql_str)\n",
    "\n",
    "for row in cursor:\n",
    "    print(row)"
   ]
  },
  {
   "cell_type": "code",
   "execution_count": 433,
   "metadata": {},
   "outputs": [
    {
     "data": {
      "text/html": [
       "<div>\n",
       "<style scoped>\n",
       "    .dataframe tbody tr th:only-of-type {\n",
       "        vertical-align: middle;\n",
       "    }\n",
       "\n",
       "    .dataframe tbody tr th {\n",
       "        vertical-align: top;\n",
       "    }\n",
       "\n",
       "    .dataframe thead th {\n",
       "        text-align: right;\n",
       "    }\n",
       "</style>\n",
       "<table border=\"1\" class=\"dataframe\">\n",
       "  <thead>\n",
       "    <tr style=\"text-align: right;\">\n",
       "      <th></th>\n",
       "      <th>employee_source</th>\n",
       "      <th>share</th>\n",
       "    </tr>\n",
       "  </thead>\n",
       "  <tbody>\n",
       "    <tr>\n",
       "      <th>0</th>\n",
       "      <td>Employee Referral</td>\n",
       "      <td>11.5</td>\n",
       "    </tr>\n",
       "    <tr>\n",
       "      <th>1</th>\n",
       "      <td>Diversity Job Fair</td>\n",
       "      <td>7.9</td>\n",
       "    </tr>\n",
       "    <tr>\n",
       "      <th>2</th>\n",
       "      <td>Monster.com</td>\n",
       "      <td>7.5</td>\n",
       "    </tr>\n",
       "    <tr>\n",
       "      <th>3</th>\n",
       "      <td>Search Engine - Google Bing Yahoo</td>\n",
       "      <td>6.6</td>\n",
       "    </tr>\n",
       "    <tr>\n",
       "      <th>4</th>\n",
       "      <td>Professional Society</td>\n",
       "      <td>6.6</td>\n",
       "    </tr>\n",
       "    <tr>\n",
       "      <th>5</th>\n",
       "      <td>MBTA ads</td>\n",
       "      <td>6.2</td>\n",
       "    </tr>\n",
       "    <tr>\n",
       "      <th>6</th>\n",
       "      <td>Pay Per Click - Google</td>\n",
       "      <td>6.2</td>\n",
       "    </tr>\n",
       "    <tr>\n",
       "      <th>7</th>\n",
       "      <td>Billboard</td>\n",
       "      <td>5.3</td>\n",
       "    </tr>\n",
       "    <tr>\n",
       "      <th>8</th>\n",
       "      <td>Newspager/Magazine</td>\n",
       "      <td>4.8</td>\n",
       "    </tr>\n",
       "    <tr>\n",
       "      <th>9</th>\n",
       "      <td>Glassdoor</td>\n",
       "      <td>4.4</td>\n",
       "    </tr>\n",
       "    <tr>\n",
       "      <th>10</th>\n",
       "      <td>Vendor Referral</td>\n",
       "      <td>4.4</td>\n",
       "    </tr>\n",
       "    <tr>\n",
       "      <th>11</th>\n",
       "      <td>On-campus Recruiting</td>\n",
       "      <td>4.4</td>\n",
       "    </tr>\n",
       "    <tr>\n",
       "      <th>12</th>\n",
       "      <td>Website Banner Ads</td>\n",
       "      <td>4.0</td>\n",
       "    </tr>\n",
       "    <tr>\n",
       "      <th>13</th>\n",
       "      <td>Indeed</td>\n",
       "      <td>3.5</td>\n",
       "    </tr>\n",
       "    <tr>\n",
       "      <th>14</th>\n",
       "      <td>Social Networks - Facebook Twitter etc</td>\n",
       "      <td>3.1</td>\n",
       "    </tr>\n",
       "    <tr>\n",
       "      <th>15</th>\n",
       "      <td>Other</td>\n",
       "      <td>2.6</td>\n",
       "    </tr>\n",
       "    <tr>\n",
       "      <th>16</th>\n",
       "      <td>Word of Mouth</td>\n",
       "      <td>2.6</td>\n",
       "    </tr>\n",
       "    <tr>\n",
       "      <th>17</th>\n",
       "      <td>Internet Search</td>\n",
       "      <td>1.8</td>\n",
       "    </tr>\n",
       "    <tr>\n",
       "      <th>18</th>\n",
       "      <td>Information Session</td>\n",
       "      <td>1.3</td>\n",
       "    </tr>\n",
       "    <tr>\n",
       "      <th>19</th>\n",
       "      <td>Careerbuilder</td>\n",
       "      <td>0.4</td>\n",
       "    </tr>\n",
       "    <tr>\n",
       "      <th>20</th>\n",
       "      <td>Company Intranet - Partner</td>\n",
       "      <td>0.4</td>\n",
       "    </tr>\n",
       "  </tbody>\n",
       "</table>\n",
       "</div>"
      ],
      "text/plain": [
       "                           employee_source  share\n",
       "0                        Employee Referral   11.5\n",
       "1                       Diversity Job Fair    7.9\n",
       "2                              Monster.com    7.5\n",
       "3        Search Engine - Google Bing Yahoo    6.6\n",
       "4                     Professional Society    6.6\n",
       "5                                 MBTA ads    6.2\n",
       "6                   Pay Per Click - Google    6.2\n",
       "7                                Billboard    5.3\n",
       "8                       Newspager/Magazine    4.8\n",
       "9                                Glassdoor    4.4\n",
       "10                         Vendor Referral    4.4\n",
       "11                    On-campus Recruiting    4.4\n",
       "12                      Website Banner Ads    4.0\n",
       "13                                  Indeed    3.5\n",
       "14  Social Networks - Facebook Twitter etc    3.1\n",
       "15                                   Other    2.6\n",
       "16                           Word of Mouth    2.6\n",
       "17                         Internet Search    1.8\n",
       "18                     Information Session    1.3\n",
       "19                           Careerbuilder    0.4\n",
       "20              Company Intranet - Partner    0.4"
      ]
     },
     "execution_count": 433,
     "metadata": {},
     "output_type": "execute_result"
    }
   ],
   "source": [
    "#сохраним данные в датафрейме\n",
    "df_good_perf_score_by_sources = pd.read_sql_query(sql_str, conn)\n",
    "df_good_perf_score_by_sources"
   ]
  },
  {
   "cell_type": "code",
   "execution_count": 434,
   "metadata": {},
   "outputs": [
    {
     "name": "stdout",
     "output_type": "stream",
     "text": [
      "('Monster.com', Decimal('4.5'))\n",
      "('Diversity Job Fair', Decimal('4.5'))\n",
      "('Website Banner Ads', Decimal('3.0'))\n",
      "('Pay Per Click - Google', Decimal('3.0'))\n",
      "('MBTA ads', Decimal('3.0'))\n",
      "('Professional Society', Decimal('3.0'))\n",
      "('Internet Search', Decimal('1.5'))\n",
      "('Search Engine - Google Bing Yahoo', Decimal('1.5'))\n",
      "('Glassdoor', Decimal('1.5'))\n",
      "('Word of Mouth', Decimal('1.5'))\n",
      "('Billboard', Decimal('1.5'))\n",
      "('Careerbuilder', Decimal('0.0'))\n",
      "('Newspager/Magazine', Decimal('0.0'))\n",
      "('Other', Decimal('0.0'))\n",
      "('Company Intranet - Partner', Decimal('0.0'))\n",
      "('Social Networks - Facebook Twitter etc', Decimal('0.0'))\n",
      "('Employee Referral', Decimal('0.0'))\n",
      "('Indeed', Decimal('0.0'))\n",
      "('Vendor Referral', Decimal('0.0'))\n",
      "('On-campus Recruiting', Decimal('0.0'))\n",
      "('Information Session', Decimal('0.0'))\n"
     ]
    }
   ],
   "source": [
    "#посмотрим с каких источников приходит больше кандидатов, которые показывают \"плохую\" оценку производительности\n",
    "sql_str = \"\"\"\n",
    "        SELECT \"Employee Source\" employee_source,\n",
    "        ROUND(CAST(COUNT(CASE WHEN \"Performance Score\" IN ('PIP', 'Needs Improvement') THEN 1 END) * 100. / (SELECT COUNT(*) \n",
    "        FROM hr_dataset WHERE DATE_PART('year', \"Date of Termination\") > 2013\n",
    "        OR DATE_PART('year', \"Date of Termination\") IS NULL\n",
    "        AND \"Performance Score\" IN ('PIP', 'Needs Improvement')) as numeric), 1) AS share\n",
    "        FROM hr_dataset\n",
    "        WHERE DATE_PART('year', \"Date of Termination\") > 2013\n",
    "        OR DATE_PART('year', \"Date of Termination\") IS NULL\n",
    "        GROUP BY \"Employee Source\"\n",
    "        ORDER BY share DESC;\n",
    "\"\"\"\n",
    "\n",
    "cursor.execute(sql_str)\n",
    "\n",
    "for row in cursor:\n",
    "    print(row)"
   ]
  },
  {
   "cell_type": "code",
   "execution_count": 435,
   "metadata": {},
   "outputs": [
    {
     "data": {
      "text/html": [
       "<div>\n",
       "<style scoped>\n",
       "    .dataframe tbody tr th:only-of-type {\n",
       "        vertical-align: middle;\n",
       "    }\n",
       "\n",
       "    .dataframe tbody tr th {\n",
       "        vertical-align: top;\n",
       "    }\n",
       "\n",
       "    .dataframe thead th {\n",
       "        text-align: right;\n",
       "    }\n",
       "</style>\n",
       "<table border=\"1\" class=\"dataframe\">\n",
       "  <thead>\n",
       "    <tr style=\"text-align: right;\">\n",
       "      <th></th>\n",
       "      <th>employee_source</th>\n",
       "      <th>share</th>\n",
       "    </tr>\n",
       "  </thead>\n",
       "  <tbody>\n",
       "    <tr>\n",
       "      <th>0</th>\n",
       "      <td>Monster.com</td>\n",
       "      <td>4.5</td>\n",
       "    </tr>\n",
       "    <tr>\n",
       "      <th>1</th>\n",
       "      <td>Diversity Job Fair</td>\n",
       "      <td>4.5</td>\n",
       "    </tr>\n",
       "    <tr>\n",
       "      <th>2</th>\n",
       "      <td>Website Banner Ads</td>\n",
       "      <td>3.0</td>\n",
       "    </tr>\n",
       "    <tr>\n",
       "      <th>3</th>\n",
       "      <td>Pay Per Click - Google</td>\n",
       "      <td>3.0</td>\n",
       "    </tr>\n",
       "    <tr>\n",
       "      <th>4</th>\n",
       "      <td>MBTA ads</td>\n",
       "      <td>3.0</td>\n",
       "    </tr>\n",
       "    <tr>\n",
       "      <th>5</th>\n",
       "      <td>Professional Society</td>\n",
       "      <td>3.0</td>\n",
       "    </tr>\n",
       "    <tr>\n",
       "      <th>6</th>\n",
       "      <td>Internet Search</td>\n",
       "      <td>1.5</td>\n",
       "    </tr>\n",
       "    <tr>\n",
       "      <th>7</th>\n",
       "      <td>Search Engine - Google Bing Yahoo</td>\n",
       "      <td>1.5</td>\n",
       "    </tr>\n",
       "    <tr>\n",
       "      <th>8</th>\n",
       "      <td>Glassdoor</td>\n",
       "      <td>1.5</td>\n",
       "    </tr>\n",
       "    <tr>\n",
       "      <th>9</th>\n",
       "      <td>Word of Mouth</td>\n",
       "      <td>1.5</td>\n",
       "    </tr>\n",
       "    <tr>\n",
       "      <th>10</th>\n",
       "      <td>Billboard</td>\n",
       "      <td>1.5</td>\n",
       "    </tr>\n",
       "    <tr>\n",
       "      <th>11</th>\n",
       "      <td>Careerbuilder</td>\n",
       "      <td>0.0</td>\n",
       "    </tr>\n",
       "    <tr>\n",
       "      <th>12</th>\n",
       "      <td>Newspager/Magazine</td>\n",
       "      <td>0.0</td>\n",
       "    </tr>\n",
       "    <tr>\n",
       "      <th>13</th>\n",
       "      <td>Other</td>\n",
       "      <td>0.0</td>\n",
       "    </tr>\n",
       "    <tr>\n",
       "      <th>14</th>\n",
       "      <td>Company Intranet - Partner</td>\n",
       "      <td>0.0</td>\n",
       "    </tr>\n",
       "    <tr>\n",
       "      <th>15</th>\n",
       "      <td>Social Networks - Facebook Twitter etc</td>\n",
       "      <td>0.0</td>\n",
       "    </tr>\n",
       "    <tr>\n",
       "      <th>16</th>\n",
       "      <td>Employee Referral</td>\n",
       "      <td>0.0</td>\n",
       "    </tr>\n",
       "    <tr>\n",
       "      <th>17</th>\n",
       "      <td>Indeed</td>\n",
       "      <td>0.0</td>\n",
       "    </tr>\n",
       "    <tr>\n",
       "      <th>18</th>\n",
       "      <td>Vendor Referral</td>\n",
       "      <td>0.0</td>\n",
       "    </tr>\n",
       "    <tr>\n",
       "      <th>19</th>\n",
       "      <td>On-campus Recruiting</td>\n",
       "      <td>0.0</td>\n",
       "    </tr>\n",
       "    <tr>\n",
       "      <th>20</th>\n",
       "      <td>Information Session</td>\n",
       "      <td>0.0</td>\n",
       "    </tr>\n",
       "  </tbody>\n",
       "</table>\n",
       "</div>"
      ],
      "text/plain": [
       "                           employee_source  share\n",
       "0                              Monster.com    4.5\n",
       "1                       Diversity Job Fair    4.5\n",
       "2                       Website Banner Ads    3.0\n",
       "3                   Pay Per Click - Google    3.0\n",
       "4                                 MBTA ads    3.0\n",
       "5                     Professional Society    3.0\n",
       "6                          Internet Search    1.5\n",
       "7        Search Engine - Google Bing Yahoo    1.5\n",
       "8                                Glassdoor    1.5\n",
       "9                            Word of Mouth    1.5\n",
       "10                               Billboard    1.5\n",
       "11                           Careerbuilder    0.0\n",
       "12                      Newspager/Magazine    0.0\n",
       "13                                   Other    0.0\n",
       "14              Company Intranet - Partner    0.0\n",
       "15  Social Networks - Facebook Twitter etc    0.0\n",
       "16                       Employee Referral    0.0\n",
       "17                                  Indeed    0.0\n",
       "18                         Vendor Referral    0.0\n",
       "19                    On-campus Recruiting    0.0\n",
       "20                     Information Session    0.0"
      ]
     },
     "execution_count": 435,
     "metadata": {},
     "output_type": "execute_result"
    }
   ],
   "source": [
    "#сохраним данные в датафрейм\n",
    "df_bad_perf_score_by_sources = pd.read_sql_query(sql_str, conn)\n",
    "df_bad_perf_score_by_sources"
   ]
  },
  {
   "cell_type": "code",
   "execution_count": 436,
   "metadata": {},
   "outputs": [
    {
     "data": {
      "text/plain": [
       "Text(0.5, 1.0, 'Доля работников с высокими и низкими показателями производительности \\nпо источникам кандидатов за 2014-2016 гг.')"
      ]
     },
     "execution_count": 436,
     "metadata": {},
     "output_type": "execute_result"
    },
    {
     "data": {
      "image/png": "[encoded data removed]",
      "text/plain": [
       "<Figure size 1008x432 with 1 Axes>"
      ]
     },
     "metadata": {
      "needs_background": "light"
     },
     "output_type": "display_data"
    }
   ],
   "source": [
    "# Нарисуем график:\n",
    "\n",
    "width = 0.4 #устанавливаем ширину бара\n",
    "employee_sources = df_share_employee_source['employee_source'].tolist() #создаем список всех источников кандидатов\n",
    "\n",
    "fig, subplot = plt.subplots(figsize=(14, 6)) \n",
    "\n",
    "labels = [] #создаем список с подписями данных\n",
    "\n",
    "for source in employee_sources: # в цикле нарисуем по два бара для каждого источника кандидатов\n",
    "\n",
    "    x1 = employee_sources.index(source) # координата х равна индексу источника кандидатов в списке\n",
    " \n",
    "    if df_good_perf_score_by_sources[df_good_perf_score_by_sources['employee_source'] == source].empty:\n",
    "        #проверяем наличие сотрудников с \"хорошими оценками\" по каждому источнику\n",
    "        y1 = 0 #если нет таких, то устанавливаем значение y = 0\n",
    "        leg_lab_1 = y1 # сохраняем переменную для добавления в список с подписями данных\n",
    "    else:\n",
    "        y1 = df_good_perf_score_by_sources[\n",
    "            df_good_perf_score_by_sources['employee_source'] == source]['share'].values\n",
    "        #если есть такие сотрудники, то y координата равна доле таких сотрудников\n",
    "        leg_lab_1 = y1[0] # сохраняем переменную для добавления в список с подписями данных\n",
    "   \n",
    "    subplot.bar(x1 - width/2, y1, color='y', width = width) # рисуем график со смещением х на половину ширины бара\n",
    "    \n",
    "    #делаем все то же самое для \"плохих\" оценок производительности:\n",
    "    \n",
    "    if df_bad_perf_score_by_sources[df_bad_perf_score_by_sources['employee_source'] == source].empty:\n",
    "        y2 = 0\n",
    "        leg_lab_2 = y2\n",
    "    else:\n",
    "        y2 = df_bad_perf_score_by_sources[\n",
    "            df_bad_perf_score_by_sources['employee_source'] == source]['share'].values\n",
    "        leg_lab_2 = y2[0]\n",
    "   \n",
    "    subplot.bar(x1 + width/2, y2, color='g', width = width)\n",
    "    \n",
    "    labels.append(leg_lab_1) #добавляем значения для подписи данных в список\n",
    "    labels.append(leg_lab_2)\n",
    "\n",
    "\n",
    "subplot.set_xticks([i for i in range(0, len(employee_sources))]) #устанавливаем метки оси х\n",
    "subplot.set_xticklabels(employee_sources, rotation='vertical') # устанавливаем лейблы оси х\n",
    "\n",
    "plt.legend(['Fully Meets, Exceed, \\nExceptional, 90-day meets', 'Needs Improvement, PIP'], \n",
    "           loc=\"center right\", bbox_to_anchor=(0.75, 0, 0.5, 1)) #добавляем легенду\n",
    "\n",
    "#дополнительно создадим подписи данных\n",
    "rects = subplot.patches\n",
    "\n",
    "for rect, label in zip(rects, labels):\n",
    "    height = rect.get_height()\n",
    "    subplot.text(rect.get_x() + 0.2, height, label,\n",
    "            ha='center', va='bottom')\n",
    "    \n",
    "subplot.set_title(\n",
    "    'Доля работников с высокими и низкими показателями производительности \\nпо источникам кандидатов за 2014-2016 гг.')"
   ]
  },
  {
   "cell_type": "markdown",
   "metadata": {},
   "source": [
    "#### Выводы:\n",
    "\n",
    "1. Как видно из диаграммы, **наиболее эффективными источниками человеческих ресурсов для компании являются рекомендации работников и рекомендации поставщиков**. Они входят в ТОП-3 по найму (см. выше) и показывают высокую долю работников с хорошими результатами по производительности (17.3%). При этом нет сотрудников с плохими результатами.\n",
    "2. **Посредством Профессионального сообщества и рекламы Google(Pay Per Click - Google) также набирают внушительную долю сотрудников в штат** (18.1%), **но высокая доля работников, показывающих плохие результаты по производительности (6%), делает эти ресурсы менее эффективными**.\n",
    "3. **Перспективными ресурсами по привлечению кадров являются Indeed, Newspager/Magazine и On-campus recruting** - 3.5, 4.8 и 4.4% работников соответственно, показывают хорошую производительность, и среди них нет сотрудников, нуждающихся в переподготовке или включенных в план по переподготовке. Сейчас с этих источников поступает меньше кадров, чем из ТОП-3, но **такие сотрудники работают эффективнее**.\n",
    "\n",
    "#### Рекомендации для hr-отдела:\n",
    "\n",
    "**При формировании бюджета на рекрутинг учитывать те ресурсы, с которых приходит больше кандидатов, которые впоследствии становятся сотрудниками компании** (ТОП-10 ресурсов)\n",
    "\n",
    "Среди ТОП-10 ресурсов рекомендуется: \n",
    "\n",
    "1. **в большей степени использовать следующие источники для привлечения кадров: рекомендации работников, рекомендации поставщиков, Indeed, Newspager/Magazine, On-campus recruting**. С этих источников приходит больше всего качественных кадров - меньше увольнений и больше эффективность.\n",
    "2. **пересмотреть масштаб использования таких источников, как Professional Society, поиск Google и Website Banner Ads**. Эффективность кадров с этих ресурсов меньше вследствие низких показателей по производительности.\n",
    "3.  **минимизировать использование ресурса Monster.com** в связи с высокой долей увольнений, и значительной долей работников с низкими показателями производительности "
   ]
  },
  {
   "cell_type": "markdown",
   "metadata": {},
   "source": [
    "## Часть вторая"
   ]
  },
  {
   "cell_type": "markdown",
   "metadata": {},
   "source": [
    "Перед вами стоит задача – подготовить аналитический ответ для SMM-отдела компании Skillbox.\n",
    "Объектом анализа является паблик Skillbox Вконтакте.\n",
    "\n",
    "Подключитесь к API VK и выгрузите посты со стены паблика Skillbox за интересующий период (определите самостоятельно и обоснуйте). Проанализируйте влияние различных факторов (например, времени публикации) на вовлеченность пользователей (количество лайков, комментариев, голосов в опросах). Сделайте аналитику по рубрикам (примеры рубрик: дизайн-битва, игра по управлению), которые есть в паблике. Выбрать нужные посты можно с помощью регулярных выражений. Составьте перечень рекомандаций для SMM-отдела по итогам анализа.\n",
    "\n",
    "Дополнительные инструкции по работе с API VK расположены здесь."
   ]
  },
  {
   "cell_type": "markdown",
   "metadata": {},
   "source": []
  }
 ],
 "metadata": {
  "colab": {
   "collapsed_sections": [],
   "name": "Coursework_analytics_2.ipynb",
   "provenance": []
  },
  "kernelspec": {
   "display_name": "Python 3",
   "language": "python",
   "name": "python3"
  },
  "language_info": {
   "codemirror_mode": {
    "name": "ipython",
    "version": 3
   },
   "file_extension": ".py",
   "mimetype": "text/x-python",
   "name": "python",
   "nbconvert_exporter": "python",
   "pygments_lexer": "ipython3",
   "version": "3.7.3"
  }
 },
 "nbformat": 4,
 "nbformat_minor": 1
}
